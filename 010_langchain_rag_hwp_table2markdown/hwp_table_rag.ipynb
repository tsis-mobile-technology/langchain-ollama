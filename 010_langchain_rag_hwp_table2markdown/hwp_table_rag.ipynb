{
 "cells": [
  {
   "cell_type": "markdown",
   "metadata": {},
   "source": [
    "## Env"
   ]
  },
  {
   "cell_type": "code",
   "execution_count": 1,
   "metadata": {},
   "outputs": [
    {
     "data": {
      "text/plain": [
       "True"
      ]
     },
     "execution_count": 1,
     "metadata": {},
     "output_type": "execute_result"
    }
   ],
   "source": [
    "# .env 환경설정 파일을 읽어서 환경변수로 설정\n",
    "from dotenv import load_dotenv\n",
    "load_dotenv()"
   ]
  },
  {
   "cell_type": "markdown",
   "metadata": {},
   "source": [
    "## HWP 문서 가져오기\n",
    "\n",
    "https://nomadamas.gitbook.io/ragchain-docs/ragchain-structure/file-loader/win32-hwp-loader"
   ]
  },
  {
   "cell_type": "code",
   "execution_count": 2,
   "metadata": {},
   "outputs": [
    {
     "name": "stderr",
     "output_type": "stream",
     "text": [
      "c:\\Users\\redwi\\AppData\\Local\\pypoetry\\Cache\\virtualenvs\\sh-vietnam-_0ZvXL4d-py3.11\\Lib\\site-packages\\tqdm\\auto.py:21: TqdmWarning: IProgress not found. Please update jupyter and ipywidgets. See https://ipywidgets.readthedocs.io/en/stable/user_install.html\n",
      "  from .autonotebook import tqdm as notebook_tqdm\n"
     ]
    },
    {
     "data": {
      "text/plain": [
       "10"
      ]
     },
     "execution_count": 2,
     "metadata": {},
     "output_type": "execute_result"
    }
   ],
   "source": [
    "from RAGchain.preprocess.loader import Win32HwpLoader\n",
    "\n",
    "loader = Win32HwpLoader(\"(첨부5) 2024년도 하반기 중남미 지역기구 파견인턴 선발 공고.hwpx\")\n",
    "documents = loader.load()\n",
    "\n",
    "len(documents)"
   ]
  },
  {
   "cell_type": "code",
   "execution_count": 3,
   "metadata": {},
   "outputs": [
    {
     "name": "stdout",
     "output_type": "stream",
     "text": [
      "('2024년도 하반기 중남미 지역기구 파견 인턴 선발 공고1. 선발 개요  가. 공통 자격요건   ㅇ 대한민국 국적자로, 국내외 '\n",
      " '대학생(3-4학년) 또는 대학원생   ㅇ 영어 또는 스페인어로 업무처리가 가능한 자   나. 기구별 선발 기간 및 인원   ㅇ 파견기간은 '\n",
      " '원칙적으로 4~6개월이나, 기구 사정에 따라 변동 가능       - OAS(미주기구)의 경우 선발 후 25년 상반기 파견   ㅇ 기구별 '\n",
      " '선호 상세 지원자격은 본 공고 4페이지 “참고1” 참조    다. 지원 내역 : 왕복 항공료(정액), 현지 정착비 및 월 체재비     '\n",
      " '※ 다만, 지원금으로 충당할 수 없는 파견 기구 및 파견국의 물가 등에 따라 발생하는 기타 비용은 지원자 부담 필요 2. 선발 일정   '\n",
      " 'ㅇ 2024.5.30.(목) 18:00서류접수 마감(이메일 접수)    ㅇ 2024.5.31.(금)  서류전형 합격자 발표(개별 '\n",
      " '통보)   ㅇ 2024.6.4.(화)       필기시험 및 면접시험(상세내용 추후 공지)   ㅇ 2024.6.10.(월) 외교부 추천 '\n",
      " '후보자 발표(개별 통보)   ㅇ 2024.6.11.(화) ~기구측에 우리측 후보자 추천   ㅇ 2024.6월~2024.7월  최종 합격자 '\n",
      " '발표(개별 통보)     3. 서류 접수 안내   ㅇ 외교부 중남미협력과 이메일(latinca@mofa.go.kr)로 관련 서류 '\n",
      " '송부    - 국문 신청서 : 한글 파일(*hwp) 또는 PDF 파일         ※ 지원자는 국문 신청서에 지원기구 1순위 및 2순위 '\n",
      " '기재 요망         - ▵영문 신청서(Application for Internship, Curriculum Vitae) 각 1부, '\n",
      " '▵영문 재학 또는 휴학증명서, ▵영문 대학 및 대학원 성적증명서, ▵기타 증명서 : 1개의 컬러 PDF 파일로 변환하여 송부     - '\n",
      " '영문 교수 추천서 1부 : 추천 교수가 직접 외교부 중남미협력과 이메일로 송부    - 백신 접종 증명서(접종 완료자 해당 시)    '\n",
      " '4. 문의 사항 : 외교부 중남미협력과(0mailto:latinca@mofa.go.kr;2;0;0latinca@mofa.go.kr, '\n",
      " '(02-2100-8091)로 문의      ※ 포르투갈어 사용자 또한 영어 및 스페인어 시험에 응시하여야 하며, 포어 사용 '\n",
      " '기구(ACTO, OPANAL 등) 후보자 선발에 한해 어학성적증명서 제출로 스페인어 시험을 갈음(CELPE-Bras 중상급 이상 혹은 '\n",
      " 'CAPLE 중급 B2 이상) ')\n"
     ]
    }
   ],
   "source": [
    "from pprint import pprint\n",
    "pprint(documents[0].page_content)"
   ]
  },
  {
   "cell_type": "code",
   "execution_count": 4,
   "metadata": {},
   "outputs": [
    {
     "name": "stdout",
     "output_type": "stream",
     "text": [
      "('<table\\n'\n",
      " '                    border=\"1\"\\n'\n",
      " '                    width=\"50%\"\\n'\n",
      " '                    height=\"200\"\\n'\n",
      " '                    cellspacing=\"5\">\\n'\n",
      " '\\t <tr>\\n'\n",
      " '\\t \\t <td>(학력)※ 위 학력사항은 기본 요건이며, 기구별 상세요건 확인 요망※ 기구별 학력요건은 본 공고 4페이지 “참고1” '\n",
      " '참조(어학)※ 어학능력 증빙 자료(어학성적, 자격증 등) 제출 요망 ※ 증빙자료가 없을 시 언어 능력 뒷받침할 수 있는 내용을 신청서에 '\n",
      " '기재※ 기구별 어학요건은 본 공고 4페이지 “참고1” 참조(기타 고려사항)※ 대한민국 정부가 지원하는 유사 인턴 프로그램 기참가자는 지원 '\n",
      " '불가※ 비수도권대학 학생의 지원 장려(총 인원의 30%이상 비수도권대학에서 선발할 계획. 다만, 비수도권대학 학생 지원율 저조 등 사유가 '\n",
      " '있는 경우 동 목표 비율은 탄력적으로 조정될 예정)   *비수도권대학 판단 기준은 국가법령정보센터(www.law.go.kr)에 게시된 '\n",
      " '‘균형인사지침’ 참고※ 백신 접종 완료 여부 확인을 위한 백신접종완료증명서 사본 제출</td>\\n'\n",
      " '\\t </tr>\\n'\n",
      " '</table>')\n"
     ]
    }
   ],
   "source": [
    "pprint(documents[1].page_content)"
   ]
  },
  {
   "cell_type": "markdown",
   "metadata": {},
   "source": [
    "## Simple RAG"
   ]
  },
  {
   "cell_type": "markdown",
   "metadata": {},
   "source": [
    "#### Indexing"
   ]
  },
  {
   "cell_type": "code",
   "execution_count": 5,
   "metadata": {},
   "outputs": [],
   "source": [
    "from langchain_community.vectorstores import Chroma\n",
    "from langchain_core.output_parsers import StrOutputParser\n",
    "from langchain_core.runnables import RunnablePassthrough\n",
    "from langchain_text_splitters import RecursiveCharacterTextSplitter\n",
    "from langchain_community.chat_models import ChatOllama\n",
    "from langchain.prompts import ChatPromptTemplate"
   ]
  },
  {
   "cell_type": "code",
   "execution_count": 6,
   "metadata": {},
   "outputs": [
    {
     "name": "stderr",
     "output_type": "stream",
     "text": [
      "c:\\Users\\redwi\\AppData\\Local\\pypoetry\\Cache\\virtualenvs\\sh-vietnam-_0ZvXL4d-py3.11\\Lib\\site-packages\\langchain_core\\_api\\deprecation.py:139: LangChainDeprecationWarning: The class `HuggingFaceEmbeddings` was deprecated in LangChain 0.2.2 and will be removed in 0.3.0. An updated version of the class exists in the langchain-huggingface package and should be used instead. To use it run `pip install -U langchain-huggingface` and import as `from langchain_huggingface import HuggingFaceEmbeddings`.\n",
      "  warn_deprecated(\n",
      "No sentence-transformers model found with name BM-K/KoSimCSE-roberta-multitask. Creating a new one with mean pooling.\n"
     ]
    }
   ],
   "source": [
    "# HugoingFace Embeddings를 다운로드\n",
    "from langchain.embeddings import HuggingFaceEmbeddings\n",
    "\n",
    "embedding_model_name = \"BM-K/KoSimCSE-roberta-multitask\"\n",
    "\n",
    "embeddings_model = HuggingFaceEmbeddings(\n",
    "    model_name=embedding_model_name,  \n",
    ")\n",
    "\n",
    "# HugoingFace Embedding 모델의 Tokenizer를 사용하여 토큰화\n",
    "from transformers import AutoTokenizer\n",
    "tokenizer = AutoTokenizer.from_pretrained(embedding_model_name)"
   ]
  },
  {
   "cell_type": "code",
   "execution_count": 7,
   "metadata": {},
   "outputs": [
    {
     "data": {
      "text/plain": [
       "HuggingFaceEmbeddings(client=SentenceTransformer(\n",
       "  (0): Transformer({'max_seq_length': 512, 'do_lower_case': False}) with Transformer model: RobertaModel \n",
       "  (1): Pooling({'word_embedding_dimension': 768, 'pooling_mode_cls_token': False, 'pooling_mode_mean_tokens': True, 'pooling_mode_max_tokens': False, 'pooling_mode_mean_sqrt_len_tokens': False, 'pooling_mode_weightedmean_tokens': False, 'pooling_mode_lasttoken': False, 'include_prompt': True})\n",
       "), model_name='BM-K/KoSimCSE-roberta-multitask', cache_folder=None, model_kwargs={}, encode_kwargs={}, multi_process=False, show_progress=False)"
      ]
     },
     "execution_count": 7,
     "metadata": {},
     "output_type": "execute_result"
    }
   ],
   "source": [
    "embeddings_model"
   ]
  },
  {
   "cell_type": "code",
   "execution_count": 8,
   "metadata": {},
   "outputs": [
    {
     "name": "stdout",
     "output_type": "stream",
     "text": [
      "17\n",
      "page_content='2024년도 하반기 중남미 지역기구 파견 인턴 선발 공고1. 선발 개요  가. 공통 자격요건   ㅇ 대한민국 국적자로, 국내외 대학생(3-4학년) 또는 대학원생   ㅇ 영어 또는 스페인어로 업무처리가 가능한 자   나. 기구별 선발 기간 및 인원   ㅇ 파견기간은 원칙적으로 4~6개월이나, 기구 사정에 따라 변동 가능       - OAS(미주기구)의 경우 선발 후 25년 상반기 파견   ㅇ 기구별 선호 상세 지원자격은 본 공고 4페이지 “참고1” 참조    다. 지원 내역 : 왕복 항공료(정액), 현지 정착비 및 월 체재비' metadata={'source': '(첨부5) 2024년도 하반기 중남미 지역기구 파견인턴 선발 공고.hwpx', 'page_type': 'text'}\n"
     ]
    }
   ],
   "source": [
    "# Token 수를 기준으ㄹ 문서를 청크 단위로 분할\n",
    "text_splitter = RecursiveCharacterTextSplitter.from_huggingface_tokenizer(\n",
    "    tokenizer = tokenizer,\n",
    "    chunk_size = 500,\n",
    "    chunk_overlap  = 50,\n",
    ")\n",
    "\n",
    "split_docs = text_splitter.split_documents(documents)\n",
    "print(len(split_docs))\n",
    "print(split_docs[0])"
   ]
  },
  {
   "cell_type": "code",
   "execution_count": 9,
   "metadata": {},
   "outputs": [],
   "source": [
    "vectorstore = Chroma.from_documents(documents=split_docs, \n",
    "                                    embedding=embeddings_model)"
   ]
  },
  {
   "cell_type": "markdown",
   "metadata": {},
   "source": [
    "#### Retreival"
   ]
  },
  {
   "cell_type": "code",
   "execution_count": 10,
   "metadata": {},
   "outputs": [
    {
     "name": "stdout",
     "output_type": "stream",
     "text": [
      "파견 기간은 원칙적으로 4~6개월이나, 기구 사정에 따라 변동 가능합니다. \n",
      "\n",
      "\n",
      "\n"
     ]
    }
   ],
   "source": [
    "# VectorStore를 사용하여 검색기 생성\n",
    "retriever = vectorstore.as_retriever(search_kwargs={'k': 2})\n",
    "\n",
    "# Prompt\n",
    "template = \"\"\"Answer the question based only on the following context:\n",
    "{context}\n",
    "\n",
    "Question: {question}\n",
    "\"\"\"\n",
    "\n",
    "prompt = ChatPromptTemplate.from_template(template)\n",
    "\n",
    "# Chat Model\n",
    "llm = ChatOllama(model=\"gemma2\")\n",
    "\n",
    "\n",
    "def format_docs(docs):\n",
    "    # 중복을 제거\n",
    "    unique_contents = set(doc.page_content for doc in docs)\n",
    "    \n",
    "    # \\n\\n으로 연결하여 문자열로 반환\n",
    "    return \"\\n\\n\".join(unique_contents)\n",
    "\n",
    "\n",
    "# RAG Chain\n",
    "rag_chain = (\n",
    "    {\"context\": retriever | format_docs, \"question\": RunnablePassthrough()}\n",
    "    | prompt\n",
    "    | llm\n",
    "    | StrOutputParser()\n",
    ")\n",
    "\n",
    "# Chain 실행\n",
    "response = rag_chain.invoke(\"파견 기간은 얼마인가요?\")\n",
    "print(response)"
   ]
  },
  {
   "cell_type": "code",
   "execution_count": 11,
   "metadata": {},
   "outputs": [
    {
     "name": "stderr",
     "output_type": "stream",
     "text": [
      "c:\\Users\\redwi\\AppData\\Local\\pypoetry\\Cache\\virtualenvs\\sh-vietnam-_0ZvXL4d-py3.11\\Lib\\site-packages\\langchain_core\\_api\\deprecation.py:139: LangChainDeprecationWarning: The method `BaseRetriever.get_relevant_documents` was deprecated in langchain-core 0.1.46 and will be removed in 0.3.0. Use invoke instead.\n",
      "  warn_deprecated(\n"
     ]
    },
    {
     "data": {
      "text/plain": [
       "[Document(metadata={'page_type': 'text', 'source': '(첨부5) 2024년도 하반기 중남미 지역기구 파견인턴 선발 공고.hwpx'}, page_content='2024년도 하반기 중남미 지역기구 파견 인턴 선발 공고1. 선발 개요  가. 공통 자격요건   ㅇ 대한민국 국적자로, 국내외 대학생(3-4학년) 또는 대학원생   ㅇ 영어 또는 스페인어로 업무처리가 가능한 자   나. 기구별 선발 기간 및 인원   ㅇ 파견기간은 원칙적으로 4~6개월이나, 기구 사정에 따라 변동 가능       - OAS(미주기구)의 경우 선발 후 25년 상반기 파견   ㅇ 기구별 선호 상세 지원자격은 본 공고 4페이지 “참고1” 참조    다. 지원 내역 : 왕복 항공료(정액), 현지 정착비 및 월 체재비'),\n",
       " Document(metadata={'page_type': 'table', 'source': '(첨부5) 2024년도 하반기 중남미 지역기구 파견인턴 선발 공고.hwpx'}, page_content='<table\\n                    border=\"1\"\\n                    width=\"50%\"\\n                    height=\"200\"\\n                    cellspacing=\"5\">\\n\\t <tr>\\n\\t \\t <td>기구명</td>\\n\\t \\t <td>파견지</td>\\n\\t \\t <td>파견 기간</td>\\n\\t \\t <td>인원</td>\\n\\t </tr>\\n\\t <tr>\\n\\t \\t <td>PARLATINO(라틴아메리카의회)</td>\\n\\t \\t <td>파나마</td>\\n\\t \\t <td>6개월</td>\\n\\t \\t <td>1</td>\\n\\t </tr>\\n\\t <tr>\\n\\t \\t <td>IOM(국제이주기구)</td>\\n\\t \\t <td>페루</td>\\n\\t \\t <td>6개월</td>\\n\\t \\t <td>1</td>\\n\\t </tr>\\n\\t <tr>\\n\\t \\t <td>OPANAL(중남미핵무기금지기구)</td>\\n\\t \\t <td>멕시코</td>\\n\\t \\t <td>2024.7월 ~ 11월</td>\\n\\t \\t <td>1</td>\\n\\t </tr>\\n\\t <tr>\\n\\t \\t <td>GGGI(글로벌녹색성장연구소)</td>\\n\\t \\t <td>파라과이</td>\\n\\t \\t <td>추후 조율</td>\\n\\t \\t <td>1</td>\\n\\t </tr>\\n\\t <tr>\\n\\t \\t <td>SEGIB(이베로아메리카사무국)</td>')]"
      ]
     },
     "execution_count": 11,
     "metadata": {},
     "output_type": "execute_result"
    }
   ],
   "source": [
    "retriever.get_relevant_documents(\"파견 기간은 얼마인가요?\")"
   ]
  },
  {
   "cell_type": "code",
   "execution_count": 12,
   "metadata": {},
   "outputs": [
    {
     "name": "stdout",
     "output_type": "stream",
     "text": [
      "2024.6.4.(화)  \n",
      "\n"
     ]
    }
   ],
   "source": [
    "response = rag_chain.invoke(\"필기시험이 있는 날짜는 언제인가요?\")\n",
    "print(response)"
   ]
  },
  {
   "cell_type": "code",
   "execution_count": 13,
   "metadata": {},
   "outputs": [
    {
     "data": {
      "text/plain": [
       "[Document(metadata={'page_type': 'text', 'source': '(첨부5) 2024년도 하반기 중남미 지역기구 파견인턴 선발 공고.hwpx'}, page_content='왕복 항공료(정액), 현지 정착비 및 월 체재비     ※ 다만, 지원금으로 충당할 수 없는 파견 기구 및 파견국의 물가 등에 따라 발생하는 기타 비용은 지원자 부담 필요 2. 선발 일정   ㅇ 2024.5.30.(목) 18:00서류접수 마감(이메일 접수)    ㅇ 2024.5.31.(금)  서류전형 합격자 발표(개별 통보)   ㅇ 2024.6.4.(화)       필기시험 및 면접시험(상세내용 추후 공지)   ㅇ 2024.6.10.(월) 외교부 추천 후보자 발표(개별 통보)   ㅇ 2024.6.11.(화) ~기구측에 우리측 후보자 추천   ㅇ'),\n",
       " Document(metadata={'page_type': 'table', 'source': '(첨부5) 2024년도 하반기 중남미 지역기구 파견인턴 선발 공고.hwpx'}, page_content='<table\\n                    border=\"1\"\\n                    width=\"50%\"\\n                    height=\"200\"\\n                    cellspacing=\"5\">\\n\\t <tr>\\n\\t \\t <td>※ 외교부 추천 후보자에 대해 각 지역기구가 최종 합격 여부를 결정하며, 동 과정에서 후보자가 합격하지 못할 수 있음※ 상기 일정은 외교부 및 인턴 접수 기구의 사정에 의해 변경될 수 있음※ 기구측에 추천되는 후보자들은 이메일 접수서류의 원본을 제출해야 하며, 제출된 서류는 일체 반환하지 않음※ 필기시험 평가 항목은 5페이지 “참고2” 참조</td>\\n\\t </tr>\\n</table>')]"
      ]
     },
     "execution_count": 13,
     "metadata": {},
     "output_type": "execute_result"
    }
   ],
   "source": [
    "retriever.get_relevant_documents(\"필기시험이 있는 날짜는 언제인가요?\")"
   ]
  },
  {
   "cell_type": "code",
   "execution_count": 14,
   "metadata": {},
   "outputs": [
    {
     "name": "stdout",
     "output_type": "stream",
     "text": [
      "This document does not contain information about the International Organization for Migration (IOM). \n",
      "\n",
      "\n",
      "\n"
     ]
    }
   ],
   "source": [
    "response = rag_chain.invoke(\"국제이주기구 파견은 언제 하나요?\")\n",
    "print(response)"
   ]
  },
  {
   "cell_type": "code",
   "execution_count": 15,
   "metadata": {},
   "outputs": [
    {
     "data": {
      "text/plain": [
       "[Document(metadata={'page_type': 'table', 'source': '(첨부5) 2024년도 하반기 중남미 지역기구 파견인턴 선발 공고.hwpx'}, page_content='<table\\n                    border=\"1\"\\n                    width=\"50%\"\\n                    height=\"200\"\\n                    cellspacing=\"5\">\\n\\t <tr>\\n\\t \\t <td>※ 상기 지역기구 외에도 기타 지역기구로부터 인턴 수요가 추가적으로 발생 가능※ 각 지역기구별 적격자가 없다고 판단되는 경우 선발하지 않을 수 있음※ 치안 등 지역기구 소재지 내 제반 사정에 따라 일정 조정 등 변동 가능 ※ 각 지역 기구에 관한 상세 내용은 ‘외교부 홈페이지(www.mofa.go.kr)>외교정책>국제기구‧지역협력체>중남미지역기구’ 참고</td>\\n\\t </tr>\\n</table>'),\n",
       " Document(metadata={'page_type': 'text', 'source': '(첨부5) 2024년도 하반기 중남미 지역기구 파견인턴 선발 공고.hwpx'}, page_content='2024년도 하반기 중남미 지역기구 파견 인턴 선발 공고1. 선발 개요  가. 공통 자격요건   ㅇ 대한민국 국적자로, 국내외 대학생(3-4학년) 또는 대학원생   ㅇ 영어 또는 스페인어로 업무처리가 가능한 자   나. 기구별 선발 기간 및 인원   ㅇ 파견기간은 원칙적으로 4~6개월이나, 기구 사정에 따라 변동 가능       - OAS(미주기구)의 경우 선발 후 25년 상반기 파견   ㅇ 기구별 선호 상세 지원자격은 본 공고 4페이지 “참고1” 참조    다. 지원 내역 : 왕복 항공료(정액), 현지 정착비 및 월 체재비')]"
      ]
     },
     "execution_count": 15,
     "metadata": {},
     "output_type": "execute_result"
    }
   ],
   "source": [
    "retriever.get_relevant_documents(\"국제이주기구 파견은 언제 하나요?\")"
   ]
  },
  {
   "cell_type": "code",
   "execution_count": 16,
   "metadata": {},
   "outputs": [
    {
     "data": {
      "text/plain": [
       "[Document(metadata={'page_type': 'table', 'source': '(첨부5) 2024년도 하반기 중남미 지역기구 파견인턴 선발 공고.hwpx'}, page_content='<table\\n                    border=\"1\"\\n                    width=\"50%\"\\n                    height=\"200\"\\n                    cellspacing=\"5\">\\n\\t <tr>\\n\\t \\t <td>기구명</td>\\n\\t \\t <td>파견지</td>\\n\\t \\t <td>파견 기간</td>\\n\\t \\t <td>인원</td>\\n\\t </tr>\\n\\t <tr>\\n\\t \\t <td>PARLATINO(라틴아메리카의회)</td>\\n\\t \\t <td>파나마</td>\\n\\t \\t <td>6개월</td>\\n\\t \\t <td>1</td>\\n\\t </tr>\\n\\t <tr>\\n\\t \\t <td>IOM(국제이주기구)</td>\\n\\t \\t <td>페루</td>\\n\\t \\t <td>6개월</td>\\n\\t \\t <td>1</td>\\n\\t </tr>\\n\\t <tr>\\n\\t \\t <td>OPANAL(중남미핵무기금지기구)</td>\\n\\t \\t <td>멕시코</td>\\n\\t \\t <td>2024.7월 ~ 11월</td>\\n\\t \\t <td>1</td>\\n\\t </tr>\\n\\t <tr>\\n\\t \\t <td>GGGI(글로벌녹색성장연구소)</td>\\n\\t \\t <td>파라과이</td>\\n\\t \\t <td>추후 조율</td>\\n\\t \\t <td>1</td>\\n\\t </tr>\\n\\t <tr>\\n\\t \\t <td>SEGIB(이베로아메리카사무국)</td>'),\n",
       " Document(metadata={'page_type': 'table', 'source': '(첨부5) 2024년도 하반기 중남미 지역기구 파견인턴 선발 공고.hwpx'}, page_content='<table\\n                    border=\"1\"\\n                    width=\"50%\"\\n                    height=\"200\"\\n                    cellspacing=\"5\">\\n\\t <tr>\\n\\t \\t <td>※ 상기 지역기구 외에도 기타 지역기구로부터 인턴 수요가 추가적으로 발생 가능※ 각 지역기구별 적격자가 없다고 판단되는 경우 선발하지 않을 수 있음※ 치안 등 지역기구 소재지 내 제반 사정에 따라 일정 조정 등 변동 가능 ※ 각 지역 기구에 관한 상세 내용은 ‘외교부 홈페이지(www.mofa.go.kr)>외교정책>국제기구‧지역협력체>중남미지역기구’ 참고</td>\\n\\t </tr>\\n</table>')]"
      ]
     },
     "execution_count": 16,
     "metadata": {},
     "output_type": "execute_result"
    }
   ],
   "source": [
    "retriever.get_relevant_documents(\"IOM\")"
   ]
  },
  {
   "cell_type": "markdown",
   "metadata": {},
   "source": [
    "## Table Data"
   ]
  },
  {
   "cell_type": "code",
   "execution_count": 17,
   "metadata": {},
   "outputs": [
    {
     "name": "stdout",
     "output_type": "stream",
     "text": [
      "<table\n",
      "                    border=\"1\"\n",
      "                    width=\"50%\"\n",
      "                    height=\"200\"\n",
      "                    cellspacing=\"5\">\n",
      "\t <tr>\n",
      "\t \t <td>기구명</td>\n",
      "\t \t <td>파견지</td>\n",
      "\t \t <td>파견 기간</td>\n",
      "\t \t <td>인원</td>\n",
      "\t </tr>\n",
      "\t <tr>\n",
      "\t \t <td>PARLATINO(라틴아메리카의회)</td>\n",
      "\t \t <td>파나마</td>\n",
      "\t \t <td>6개월</td>\n",
      "\t \t <td>1</td>\n",
      "\t </tr>\n",
      "\t <tr>\n",
      "\t \t <td>IOM(국제이주기구)</td>\n",
      "\t \t <td>페루</td>\n",
      "\t \t <td>6개월</td>\n",
      "\t \t <td>1</td>\n",
      "\t </tr>\n",
      "\t <tr>\n",
      "\t \t <td>OPANAL(중남미핵무기금지기구)</td>\n",
      "\t \t <td>멕시코</td>\n",
      "\t \t <td>2024.7월 ~ 11월</td>\n",
      "\t \t <td>1</td>\n",
      "\t </tr>\n",
      "\t <tr>\n",
      "\t \t <td>GGGI(글로벌녹색성장연구소)</td>\n",
      "\t \t <td>파라과이</td>\n",
      "\t \t <td>추후 조율</td>\n",
      "\t \t <td>1</td>\n",
      "\t </tr>\n",
      "\t <tr>\n",
      "\t \t <td>SEGIB(이베로아메리카사무국)</td>\n"
     ]
    }
   ],
   "source": [
    "for d in split_docs:\n",
    "    if \"IOM\" in d.page_content:\n",
    "        print(d.page_content)\n",
    "        sample_text = d.page_content\n",
    "        break"
   ]
  },
  {
   "cell_type": "markdown",
   "metadata": {},
   "source": [
    "#### HTML 테이블 구조를 컨텍스트로 전달"
   ]
  },
  {
   "cell_type": "code",
   "execution_count": 18,
   "metadata": {},
   "outputs": [
    {
     "data": {
      "text/plain": [
       "'<table\\n                    border=\"1\"\\n                    width=\"50%\"\\n                    height=\"200\"\\n                    cellspacing=\"5\">\\n\\t <tr>\\n\\t \\t <td>기구명</td>\\n\\t \\t <td>파견지</td>\\n\\t \\t <td>파견 기간</td>\\n\\t \\t <td>인원</td>\\n\\t </tr>\\n\\t <tr>\\n\\t \\t <td>PARLATINO(라틴아메리카의회)</td>\\n\\t \\t <td>파나마</td>\\n\\t \\t <td>6개월</td>\\n\\t \\t <td>1</td>\\n\\t </tr>\\n\\t <tr>\\n\\t \\t <td>IOM(국제이주기구)</td>\\n\\t \\t <td>페루</td>\\n\\t \\t <td>6개월</td>\\n\\t \\t <td>1</td>\\n\\t </tr>\\n\\t <tr>\\n\\t \\t <td>OPANAL(중남미핵무기금지기구)</td>\\n\\t \\t <td>멕시코</td>\\n\\t \\t <td>2024.7월 ~ 11월</td>\\n\\t \\t <td>1</td>\\n\\t </tr>\\n\\t <tr>\\n\\t \\t <td>GGGI(글로벌녹색성장연구소)</td>\\n\\t \\t <td>파라과이</td>\\n\\t \\t <td>추후 조율</td>\\n\\t \\t <td>1</td>\\n\\t </tr>\\n\\t <tr>\\n\\t \\t <td>SEGIB(이베로아메리카사무국)</td>'"
      ]
     },
     "execution_count": 18,
     "metadata": {},
     "output_type": "execute_result"
    }
   ],
   "source": [
    "sample_text"
   ]
  },
  {
   "cell_type": "code",
   "execution_count": 19,
   "metadata": {},
   "outputs": [
    {
     "data": {
      "text/plain": [
       "351"
      ]
     },
     "execution_count": 19,
     "metadata": {},
     "output_type": "execute_result"
    }
   ],
   "source": [
    "len(tokenizer.encode(sample_text))"
   ]
  },
  {
   "cell_type": "code",
   "execution_count": 20,
   "metadata": {},
   "outputs": [
    {
     "data": {
      "text/plain": [
       "AIMessage(content='6개월  \\n', response_metadata={'model': 'gemma2', 'created_at': '2024-07-03T06:51:32.0463146Z', 'message': {'role': 'assistant', 'content': ''}, 'done_reason': 'stop', 'done': True, 'total_duration': 1042553600, 'load_duration': 2238200, 'prompt_eval_count': 386, 'prompt_eval_duration': 690969000, 'eval_count': 6, 'eval_duration': 346193000}, id='run-7b3b9a1a-d843-4522-80c0-bf8f9d4b09a8-0')"
      ]
     },
     "execution_count": 20,
     "metadata": {},
     "output_type": "execute_result"
    }
   ],
   "source": [
    "llm.invoke(f\"\"\"Answer the question based only on the following context:\n",
    "{sample_text}\n",
    "\n",
    "Question: 국제이주기구 파견은 언제 하나요?\n",
    "\"\"\")"
   ]
  },
  {
   "cell_type": "markdown",
   "metadata": {},
   "source": [
    "#### Markdown 형식으로 테이블 데이터를 변환하여 컨텍스트로 전달"
   ]
  },
  {
   "cell_type": "code",
   "execution_count": 21,
   "metadata": {},
   "outputs": [
    {
     "name": "stdout",
     "output_type": "stream",
     "text": [
      "| 0                            | 1        | 2               | 3    |\n",
      "|:-----------------------------|:---------|:----------------|:-----|\n",
      "| 기구명                       | 파견지   | 파견 기간       | 인원 |\n",
      "| PARLATINO(라틴아메리카의회)  | 파나마   | 6개월           | 1    |\n",
      "| IOM(국제이주기구)            | 페루     | 6개월           | 1    |\n",
      "| OPANAL(중남미핵무기금지기구) | 멕시코   | 2024.7월 ~ 11월 | 1    |\n",
      "| GGGI(글로벌녹색성장연구소)   | 파라과이 | 추후 조율       | 1    |\n",
      "| SEGIB(이베로아메리카사무국)  | nan      | nan             | nan  |\n"
     ]
    },
    {
     "name": "stderr",
     "output_type": "stream",
     "text": [
      "C:\\Users\\redwi\\AppData\\Local\\Temp\\ipykernel_15016\\272752229.py:11: FutureWarning: Passing literal html to 'read_html' is deprecated and will be removed in a future version. To read from a literal string, wrap it in a 'StringIO' object.\n",
      "  df = pd.read_html(str(table))[0]\n"
     ]
    }
   ],
   "source": [
    "import pandas as pd\n",
    "from bs4 import BeautifulSoup\n",
    "\n",
    "# BeautifulSoup을 사용하여 HTML 파싱\n",
    "soup = BeautifulSoup(sample_text, 'html.parser')\n",
    "\n",
    "# 테이블 찾기\n",
    "table = soup.find('table')\n",
    "\n",
    "# Pandas DataFrame으로 변환\n",
    "df = pd.read_html(str(table))[0]\n",
    "\n",
    "# DataFrame을 Markdown으로 변환\n",
    "markdown_table = df.to_markdown(index=False)\n",
    "\n",
    "print(markdown_table)"
   ]
  },
  {
   "cell_type": "code",
   "execution_count": 22,
   "metadata": {},
   "outputs": [
    {
     "data": {
      "text/plain": [
       "AIMessage(content='6개월 동안 파견됩니다.  \\n', response_metadata={'model': 'gemma2', 'created_at': '2024-07-03T06:51:40.3430366Z', 'message': {'role': 'assistant', 'content': ''}, 'done_reason': 'stop', 'done': True, 'total_duration': 1257063500, 'load_duration': 2128700, 'prompt_eval_count': 233, 'prompt_eval_duration': 562938000, 'eval_count': 11, 'eval_duration': 689807000}, id='run-e8c23ab4-4835-481d-b14f-d9e558b6b371-0')"
      ]
     },
     "execution_count": 22,
     "metadata": {},
     "output_type": "execute_result"
    }
   ],
   "source": [
    "llm.invoke(f\"\"\"Answer the question based only on the following context:\n",
    "{markdown_table}\n",
    "\n",
    "Question: 국제이주기구 파견은 언제 하나요?\n",
    "\"\"\")"
   ]
  },
  {
   "cell_type": "code",
   "execution_count": 23,
   "metadata": {},
   "outputs": [
    {
     "data": {
      "text/plain": [
       "203"
      ]
     },
     "execution_count": 23,
     "metadata": {},
     "output_type": "execute_result"
    }
   ],
   "source": [
    "len(tokenizer.encode(markdown_table))"
   ]
  },
  {
   "cell_type": "markdown",
   "metadata": {},
   "source": [
    "## Text 와 Table 구분하여 청크로 분할"
   ]
  },
  {
   "cell_type": "code",
   "execution_count": 27,
   "metadata": {},
   "outputs": [],
   "source": [
    "import pandas as pd\n",
    "from bs4 import BeautifulSoup\n",
    "\n",
    "def convert_html_table_to_markdown(html_table_text: str) -> str:\n",
    "\n",
    "    # BeautifulSoup을 사용하여 HTML 파싱\n",
    "    soup = BeautifulSoup(html_table_text, 'html.parser')\n",
    "\n",
    "    # 테이블 찾기\n",
    "    table = soup.find('table')\n",
    "\n",
    "    # Pandas DataFrame으로 변환\n",
    "    df = pd.read_html(str(table))[0]\n",
    "\n",
    "    # DataFrame을 Markdown으로 변환\n",
    "    markdown_table = df.to_markdown(index=False)\n",
    "\n",
    "    return markdown_table"
   ]
  },
  {
   "cell_type": "code",
   "execution_count": 24,
   "metadata": {},
   "outputs": [
    {
     "data": {
      "text/plain": [
       "{'source': '(첨부5) 2024년도 하반기 중남미 지역기구 파견인턴 선발 공고.hwpx', 'page_type': 'text'}"
      ]
     },
     "execution_count": 24,
     "metadata": {},
     "output_type": "execute_result"
    }
   ],
   "source": [
    "documents[0].metadata"
   ]
  },
  {
   "cell_type": "code",
   "execution_count": 30,
   "metadata": {},
   "outputs": [
    {
     "name": "stderr",
     "output_type": "stream",
     "text": [
      "C:\\Users\\redwi\\AppData\\Local\\Temp\\ipykernel_15016\\2485168362.py:13: FutureWarning: Passing literal html to 'read_html' is deprecated and will be removed in a future version. To read from a literal string, wrap it in a 'StringIO' object.\n",
      "  df = pd.read_html(str(table))[0]\n"
     ]
    },
    {
     "data": {
      "text/plain": [
       "10"
      ]
     },
     "execution_count": 30,
     "metadata": {},
     "output_type": "execute_result"
    }
   ],
   "source": [
    "markdown_documents = []\n",
    "\n",
    "for doc in documents:\n",
    "    if doc.metadata.get(\"page_type\")=='table':\n",
    "\n",
    "        try:\n",
    "            doc.page_content = convert_html_table_to_markdown(doc.page_content)\n",
    "            markdown_documents.append(doc)\n",
    "        except:\n",
    "            markdown_documents.append(doc)\n",
    "    else:\n",
    "        markdown_documents.append(doc)\n",
    "\n",
    "\n",
    "len(markdown_documents)\n",
    "            "
   ]
  },
  {
   "cell_type": "code",
   "execution_count": 31,
   "metadata": {},
   "outputs": [
    {
     "name": "stderr",
     "output_type": "stream",
     "text": [
      "Token indices sequence length is longer than the specified maximum sequence length for this model (694 > 512). Running this sequence through the model will result in indexing errors\n"
     ]
    },
    {
     "name": "stdout",
     "output_type": "stream",
     "text": [
      "26\n",
      "page_content='2024년도 하반기 중남미 지역기구 파견 인턴 선발 공고1. 선발 개요  가. 공통 자격요건   ㅇ 대한민국 국적자로, 국내외 대학생(3-4학년) 또는 대학원생   ㅇ 영어 또는 스페인어로 업무처리가 가능한 자   나. 기구별 선발 기간 및 인원   ㅇ 파견기간은 원칙적으로 4~6개월이나, 기구 사정에 따라 변동 가능       - OAS(미주기구)의 경우 선발 후 25년 상반기 파견   ㅇ 기구별 선호 상세 지원자격은 본 공고 4페이지 “참고1” 참조    다. 지원 내역 : 왕복 항공료(정액), 현지 정착비 및 월 체재비' metadata={'source': '(첨부5) 2024년도 하반기 중남미 지역기구 파견인턴 선발 공고.hwpx', 'page_type': 'text'}\n"
     ]
    }
   ],
   "source": [
    "new_split_docs = text_splitter.split_documents(markdown_documents)\n",
    "print(len(new_split_docs))\n",
    "print(new_split_docs[0])"
   ]
  },
  {
   "cell_type": "code",
   "execution_count": 32,
   "metadata": {},
   "outputs": [
    {
     "data": {
      "text/plain": [
       "'IOM(국제이주기구) 파견은 6개월 동안 페루에서 이루어집니다.  \\n'"
      ]
     },
     "execution_count": 32,
     "metadata": {},
     "output_type": "execute_result"
    }
   ],
   "source": [
    "vectorstore2 = Chroma.from_documents(documents=new_split_docs, \n",
    "                                    embedding=embeddings_model)\n",
    "\n",
    "\n",
    "retriever2 = vectorstore2.as_retriever(search_kwargs={'k': 2})\n",
    "\n",
    "rag_chain2 = ( \n",
    "    {\"context\": retriever2 | format_docs, \"question\": RunnablePassthrough()}\n",
    "    | prompt\n",
    "    | llm\n",
    "    | StrOutputParser()\n",
    ")\n",
    "\n",
    "response = rag_chain2.invoke(\"국제이주기구 파견은 언제 하나요?\")\n",
    "response"
   ]
  },
  {
   "cell_type": "code",
   "execution_count": 33,
   "metadata": {},
   "outputs": [
    {
     "data": {
      "text/plain": [
       "[Document(metadata={'page_type': 'table', 'source': '(첨부5) 2024년도 하반기 중남미 지역기구 파견인턴 선발 공고.hwpx'}, page_content='| 0                            | 1                | 2                   | 3    |\\n|:-----------------------------|:-----------------|:--------------------|:-----|\\n| 기구명                       | 파견지           | 파견 기간           | 인원 |\\n| PARLATINO(라틴아메리카의회)  | 파나마           | 6개월               | 1    |\\n| IOM(국제이주기구)            | 페루             | 6개월               | 1    |\\n| OPANAL(중남미핵무기금지기구) | 멕시코           | 2024.7월 ~ 11월     | 1    |\\n| GGGI(글로벌녹색성장연구소)   | 파라과이         | 추후 조율           | 1    |\\n| SEGIB(이베로아메리카사무국)  | 스페인           | 2024.9월 ~ 2025.2월 | 1    |\\n| CAF(중남미개발은행)          | 콜롬비아         | 2024.9월 ~ 2025.3월 | 1    |\\n| ACTO(아마존협력조약기구)     | 브라질           | 6개월               | 1    |\\n| OAS(미주기구)                | 미국(워싱턴)     | 2025.1월 ~ 2025.7월 | 1    |\\n| ACS(카리브국가연합)          | 트리니다드토바고 | 6개월               | 1    |'),\n",
       " Document(metadata={'page_type': 'table', 'source': '(첨부5) 2024년도 하반기 중남미 지역기구 파견인턴 선발 공고.hwpx'}, page_content='<table\\n                    border=\"1\"\\n                    width=\"50%\"\\n                    height=\"200\"\\n                    cellspacing=\"5\">\\n\\t <tr>\\n\\t \\t <td>※ 상기 지역기구 외에도 기타 지역기구로부터 인턴 수요가 추가적으로 발생 가능※ 각 지역기구별 적격자가 없다고 판단되는 경우 선발하지 않을 수 있음※ 치안 등 지역기구 소재지 내 제반 사정에 따라 일정 조정 등 변동 가능 ※ 각 지역 기구에 관한 상세 내용은 ‘외교부 홈페이지(www.mofa.go.kr)>외교정책>국제기구‧지역협력체>중남미지역기구’ 참고</td>\\n\\t </tr>\\n</table>')]"
      ]
     },
     "execution_count": 33,
     "metadata": {},
     "output_type": "execute_result"
    }
   ],
   "source": [
    "retriever2.get_relevant_documents(\"국제이주기구 파견은 언제 하나요?\")"
   ]
  },
  {
   "cell_type": "code",
   "execution_count": null,
   "metadata": {},
   "outputs": [],
   "source": []
  }
 ],
 "metadata": {
  "kernelspec": {
   "display_name": "app",
   "language": "python",
   "name": "python3"
  },
  "language_info": {
   "codemirror_mode": {
    "name": "ipython",
    "version": 3
   },
   "file_extension": ".py",
   "mimetype": "text/x-python",
   "name": "python",
   "nbconvert_exporter": "python",
   "pygments_lexer": "ipython3",
   "version": "3.11.8"
  }
 },
 "nbformat": 4,
 "nbformat_minor": 2
}
