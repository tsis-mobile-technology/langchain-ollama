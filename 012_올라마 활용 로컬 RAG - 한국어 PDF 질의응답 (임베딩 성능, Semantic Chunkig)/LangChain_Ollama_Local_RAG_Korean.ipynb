{
 "cells": [
  {
   "cell_type": "markdown",
   "metadata": {},
   "source": [
    "## 환경변수 로드"
   ]
  },
  {
   "cell_type": "code",
   "execution_count": 1,
   "metadata": {},
   "outputs": [
    {
     "data": {
      "text/plain": [
       "True"
      ]
     },
     "execution_count": 1,
     "metadata": {},
     "output_type": "execute_result"
    }
   ],
   "source": [
    "from dotenv import load_dotenv\n",
    "\n",
    "load_dotenv()"
   ]
  },
  {
   "cell_type": "markdown",
   "metadata": {},
   "source": [
    "## 문서 로드"
   ]
  },
  {
   "cell_type": "markdown",
   "metadata": {},
   "source": [
    "- 글로벌 EV 시장 동향 및 전망(IEA) 에너지경제연구원 2024.07.15\n",
    "\n",
    "- 출처: https://eiec.kdi.re.kr/policy/domesticView.do?ac=0000186196&pg=&pp=&search_txt=&issus=&type=&depth1="
   ]
  },
  {
   "cell_type": "code",
   "execution_count": 2,
   "metadata": {},
   "outputs": [
    {
     "data": {
      "text/plain": [
       "9"
      ]
     },
     "execution_count": 2,
     "metadata": {},
     "output_type": "execute_result"
    }
   ],
   "source": [
    "from langchain_community.document_loaders import PyMuPDFLoader\n",
    "\n",
    "pdf_filepath = \"./data/[24-13-포커스-1] 글로벌 EV 시장 동향 및 전망(IEA).pdf\"\n",
    "loader = PyMuPDFLoader(pdf_filepath, extract_images=True)\n",
    "docs = loader.load()\n",
    "len(docs)"
   ]
  },
  {
   "cell_type": "code",
   "execution_count": 3,
   "metadata": {},
   "outputs": [
    {
     "data": {
      "text/plain": [
       "'   세계 에너지시장 인사이트 제24-13호 2024.7.1.  1\\n글로벌 EV 시장 동향 및 전망(IEA)1)\\n재생에너지정책연구실 장연재 부연구위원(yjchang@keei.re.kr) \\n▶2023년 전기차 판매량은 전년 대비 35% 증가한 약 1,400만 대에 달해, 전 세계 전기차 보유량이 2018년 \\n대비 6배 이상 증가한 약 4,000만 대에 이름.\\n▶전기차 충전 인프라는 인구 밀집 지역을 제외하면 가정용 충전이 일반적이며, 공용 충전설비 설치가 40% \\n이상 증가하고 급속 충전시설은 55% 성장한 것으로 나타남.\\n▶2023년 약 4,500만 대였던 전기차 보유량은 2035년 5억 대를 초과할 전망이며, 전 세계 주요 지역의 \\n전기차 판매 비중이 확대되어 2030년 40-60%, 2035년 50-90% 차지 예상\\n▶2030년까지 전 세계 공용 충전기 숫자는 약 1,500만 개로 증가할 것으로 예상되며, 가정용 충전기는 \\n2023년 2,700만 기에서 2035년에 2억 7천만 기를 넘어설 것으로 전망됨.\\n1. 세계 전기차 시장 현황\\n▣전기차 판매 비중 증가\\n¡ 2023년 세계 전기차 판매량은 약 1,400만 대로서 전년 대비 35% 증가하였으며, \\n운행 중인 전기차는 2018년 대비 6배 이상 늘어난 4,000만 대에 이름.\\n‒ 전기차는 2023년에 전 세계 자동차 판매의 약 18%를 차지했으며, 이는 2022년의 \\n14%와 2018년의 2%에 비해 크게 증가한 수치임.\\n¡ 2023년 전기차의 자동차 판매 점유율을 지역별로 보면 중국 60%, 유럽 25%, \\n미국 10% 순으로 나타남. \\n‒ 중국은 810만 대의 신규 전기차가 등록되었고, 이는 전년 대비 35% 증가한 \\n수치임.\\n･\\n중국의 내연기관차 시장은 8% 축소되었으나, 전기차 판매 증가로 전체 자동차 \\n시장은 5% 성장함. \\n･\\n2023년에 세계 자동차 수출국 중 중국이 1위를 차지했으며, 400만 대 이상의 \\n자동차 수출 중에서 120만 대가 전기차로, 전기차 수출량이 80% 증가\\n‒ 유럽은 독일, 프랑스, 영국이 전기차 시장의 성장을 주도했으며, 2023년 기준 \\n320만 대의 신규 전기차 등록으로 2022년 대비 20% 증가\\n‒ 미국은 140만 대의 전기차가 신규 등록되어 전년 대비 40% 증가하였으며, 인플\\n레이션 감축법(IRA)에 따른 세액 공제 제도와 주요 모델의 가격 인하가 성장세를 \\n촉진한 것으로 파악됨.\\n1) 본고는 IEA의 “Global EV Outlook 2024” 보고서를 요약 정리한 것임. \\n“2023년 글로벌 \\n전기차 판매량은 \\n35% 급증한 \\n1,400만 대를 \\n기록했으며, 중국, \\n유럽, 미국이 \\n성장을 주도”\\nWORLD ENERGY MARKETINSIGHT'"
      ]
     },
     "execution_count": 3,
     "metadata": {},
     "output_type": "execute_result"
    }
   ],
   "source": [
    "docs[0].page_content"
   ]
  },
  {
   "cell_type": "code",
   "execution_count": 4,
   "metadata": {},
   "outputs": [
    {
     "data": {
      "text/plain": [
       "{'source': './data/[24-13-포커스-1] 글로벌 EV 시장 동향 및 전망(IEA).pdf',\n",
       " 'file_path': './data/[24-13-포커스-1] 글로벌 EV 시장 동향 및 전망(IEA).pdf',\n",
       " 'page': 0,\n",
       " 'total_pages': 9,\n",
       " 'format': 'PDF 1.4',\n",
       " 'title': '',\n",
       " 'author': 'comdr',\n",
       " 'subject': '',\n",
       " 'keywords': '',\n",
       " 'creator': 'Hancom PDF 1.3.0.545',\n",
       " 'producer': 'Hancom PDF 1.3.0.545',\n",
       " 'creationDate': \"D:20240701134418+09'00'\",\n",
       " 'modDate': \"D:20240701134418+09'00'\",\n",
       " 'trapped': ''}"
      ]
     },
     "execution_count": 4,
     "metadata": {},
     "output_type": "execute_result"
    }
   ],
   "source": [
    "docs[0].metadata"
   ]
  },
  {
   "cell_type": "markdown",
   "metadata": {},
   "source": [
    "## Embedding 성능 비교"
   ]
  },
  {
   "cell_type": "code",
   "execution_count": 5,
   "metadata": {},
   "outputs": [],
   "source": [
    "from langchain_ollama import OllamaEmbeddings\n",
    "\n",
    "nomic_embeddings = OllamaEmbeddings(model=\"nomic-embed-text\")\n",
    "bge_embeddings = OllamaEmbeddings(model=\"bge-m3\")"
   ]
  },
  {
   "cell_type": "code",
   "execution_count": 6,
   "metadata": {},
   "outputs": [
    {
     "name": "stdout",
     "output_type": "stream",
     "text": [
      "\n",
      "문장 1과 문장 2의 유사도 비교:\n",
      "Nomic-embed-text: 0.8811\n",
      "BGE-M3: 0.8656\n",
      "\n",
      "문장 1과 문장 3의 유사도 비교:\n",
      "Nomic-embed-text: 0.8402\n",
      "BGE-M3: 0.5945\n",
      "\n",
      "문장 1과 문장 4의 유사도 비교:\n",
      "Nomic-embed-text: 0.8051\n",
      "BGE-M3: 0.4425\n",
      "\n",
      "문장 2과 문장 3의 유사도 비교:\n",
      "Nomic-embed-text: 0.8227\n",
      "BGE-M3: 0.5376\n",
      "\n",
      "문장 2과 문장 4의 유사도 비교:\n",
      "Nomic-embed-text: 0.8194\n",
      "BGE-M3: 0.4128\n",
      "\n",
      "문장 3과 문장 4의 유사도 비교:\n",
      "Nomic-embed-text: 0.8227\n",
      "BGE-M3: 0.6682\n"
     ]
    }
   ],
   "source": [
    "import numpy as np\n",
    "from sklearn.metrics.pairwise import cosine_similarity\n",
    "\n",
    "\n",
    "sentences = [\n",
    "    \"안녕하세요, 오늘은 날씨가 좋습니다.\",\n",
    "    \"날씨가 맑아서 기분이 좋아요.\",\n",
    "    \"오늘 점심으로 김치찌개를 먹었습니다.\",\n",
    "    \"한국의 전통 음식 중 하나는 김치입니다.\"\n",
    "]\n",
    "\n",
    "# 각 모델로 임베딩 생성\n",
    "nomic_embeds = [nomic_embeddings.embed_query(sent) for sent in sentences]\n",
    "bge_embeds = [bge_embeddings.embed_query(sent) for sent in sentences]\n",
    "\n",
    "# 코사인 유사도 계산 함수\n",
    "def calculate_similarities(embeds):\n",
    "    return cosine_similarity(embeds)\n",
    "\n",
    "# 각 모델의 유사도 행렬 계산\n",
    "nomic_similarities = calculate_similarities(nomic_embeds)\n",
    "bge_similarities = calculate_similarities(bge_embeds)\n",
    "\n",
    "# 유사도 비교\n",
    "for i in range(len(sentences)):\n",
    "    for j in range(i+1, len(sentences)):\n",
    "        print(f\"\\n문장 {i+1}과 문장 {j+1}의 유사도 비교:\")\n",
    "        print(f\"Nomic-embed-text: {nomic_similarities[i][j]:.4f}\")\n",
    "        print(f\"BGE-M3: {bge_similarities[i][j]:.4f}\")"
   ]
  },
  {
   "cell_type": "markdown",
   "metadata": {},
   "source": [
    "## Chunking"
   ]
  },
  {
   "cell_type": "markdown",
   "metadata": {},
   "source": [
    "`(1) 재귀적 분할`"
   ]
  },
  {
   "cell_type": "code",
   "execution_count": 7,
   "metadata": {},
   "outputs": [
    {
     "data": {
      "text/plain": [
       "29"
      ]
     },
     "execution_count": 7,
     "metadata": {},
     "output_type": "execute_result"
    }
   ],
   "source": [
    "# 문서를 문장 단위로 분리\n",
    "from langchain.text_splitter import RecursiveCharacterTextSplitter\n",
    "\n",
    "text_splitter = RecursiveCharacterTextSplitter(\n",
    "    separators=[\"\\n\\n\", \"\\n\"],\n",
    "    chunk_size=500,\n",
    "    chunk_overlap=100,\n",
    ")\n",
    "\n",
    "text_chunks = text_splitter.split_documents(docs)\n",
    "len(text_chunks)"
   ]
  },
  {
   "cell_type": "code",
   "execution_count": 8,
   "metadata": {},
   "outputs": [
    {
     "name": "stdout",
     "output_type": "stream",
     "text": [
      "세계 에너지시장 인사이트 제24-13호 2024.7.1.  1\n",
      "글로벌 EV 시장 동향 및 전망(IEA)1)\n",
      "재생에너지정책연구실 장연재 부연구위원(yjchang@keei.re.kr) \n",
      "▶2023년 전기차 판매량은 전년 대비 35% 증가한 약 1,400만 대에 달해, 전 세계 전기차 보유량이 2018년 \n",
      "대비 6배 이상 증가한 약 4,000만 대에 이름.\n",
      "▶전기차 충전 인프라는 인구 밀집 지역을 제외하면 가정용 충전이 일반적이며, 공용 충전설비 설치가 40% \n",
      "이상 증가하고 급속 충전시설은 55% 성장한 것으로 나타남.\n",
      "▶2023년 약 4,500만 대였던 전기차 보유량은 2035년 5억 대를 초과할 전망이며, 전 세계 주요 지역의 \n",
      "전기차 판매 비중이 확대되어 2030년 40-60%, 2035년 50-90% 차지 예상\n",
      "▶2030년까지 전 세계 공용 충전기 숫자는 약 1,500만 개로 증가할 것으로 예상되며, 가정용 충전기는\n"
     ]
    }
   ],
   "source": [
    "# chunk 0\n",
    "print(text_chunks[0].page_content)"
   ]
  },
  {
   "cell_type": "code",
   "execution_count": 9,
   "metadata": {},
   "outputs": [
    {
     "name": "stdout",
     "output_type": "stream",
     "text": [
      "▶2030년까지 전 세계 공용 충전기 숫자는 약 1,500만 개로 증가할 것으로 예상되며, 가정용 충전기는 \n",
      "2023년 2,700만 기에서 2035년에 2억 7천만 기를 넘어설 것으로 전망됨.\n",
      "1. 세계 전기차 시장 현황\n",
      "▣전기차 판매 비중 증가\n",
      "¡ 2023년 세계 전기차 판매량은 약 1,400만 대로서 전년 대비 35% 증가하였으며, \n",
      "운행 중인 전기차는 2018년 대비 6배 이상 늘어난 4,000만 대에 이름.\n",
      "‒ 전기차는 2023년에 전 세계 자동차 판매의 약 18%를 차지했으며, 이는 2022년의 \n",
      "14%와 2018년의 2%에 비해 크게 증가한 수치임.\n",
      "¡ 2023년 전기차의 자동차 판매 점유율을 지역별로 보면 중국 60%, 유럽 25%, \n",
      "미국 10% 순으로 나타남. \n",
      "‒ 중국은 810만 대의 신규 전기차가 등록되었고, 이는 전년 대비 35% 증가한 \n",
      "수치임.\n",
      "･\n",
      "중국의 내연기관차 시장은 8% 축소되었으나, 전기차 판매 증가로 전체 자동차 \n",
      "시장은 5% 성장함. \n",
      "･\n"
     ]
    }
   ],
   "source": [
    "# chunk 1\n",
    "print(text_chunks[1].page_content)"
   ]
  },
  {
   "cell_type": "markdown",
   "metadata": {},
   "source": [
    "`(2) 의미적 분할`"
   ]
  },
  {
   "cell_type": "code",
   "execution_count": 10,
   "metadata": {},
   "outputs": [
    {
     "name": "stdout",
     "output_type": "stream",
     "text": [
      "생성된 청크 수: 43\n"
     ]
    }
   ],
   "source": [
    "# 문서 분할 \n",
    "from langchain_experimental.text_splitter import SemanticChunker\n",
    "\n",
    "semantic_splitter = SemanticChunker(embeddings=bge_embeddings)\n",
    "semantic_chunks = semantic_splitter.split_documents(text_chunks)\n",
    "\n",
    "print(f\"생성된 청크 수: {len(semantic_chunks)}\")"
   ]
  },
  {
   "cell_type": "code",
   "execution_count": 11,
   "metadata": {},
   "outputs": [
    {
     "name": "stdout",
     "output_type": "stream",
     "text": [
      "세계 에너지시장 인사이트 제24-13호 2024.7.1. 1\n",
      "글로벌 EV 시장 동향 및 전망(IEA)1)\n",
      "재생에너지정책연구실 장연재 부연구위원(yjchang@keei.re.kr) \n",
      "▶2023년 전기차 판매량은 전년 대비 35% 증가한 약 1,400만 대에 달해, 전 세계 전기차 보유량이 2018년 \n",
      "대비 6배 이상 증가한 약 4,000만 대에 이름. ▶전기차 충전 인프라는 인구 밀집 지역을 제외하면 가정용 충전이 일반적이며, 공용 충전설비 설치가 40% \n",
      "이상 증가하고 급속 충전시설은 55% 성장한 것으로 나타남.\n"
     ]
    }
   ],
   "source": [
    "# chunk 0\n",
    "print(semantic_chunks[0].page_content)"
   ]
  },
  {
   "cell_type": "code",
   "execution_count": 12,
   "metadata": {},
   "outputs": [
    {
     "name": "stdout",
     "output_type": "stream",
     "text": [
      "▶2023년 약 4,500만 대였던 전기차 보유량은 2035년 5억 대를 초과할 전망이며, 전 세계 주요 지역의 \n",
      "전기차 판매 비중이 확대되어 2030년 40-60%, 2035년 50-90% 차지 예상\n",
      "▶2030년까지 전 세계 공용 충전기 숫자는 약 1,500만 개로 증가할 것으로 예상되며, 가정용 충전기는\n"
     ]
    }
   ],
   "source": [
    "# chunk 1\n",
    "print(semantic_chunks[1].page_content)"
   ]
  },
  {
   "cell_type": "code",
   "execution_count": 13,
   "metadata": {},
   "outputs": [
    {
     "name": "stdout",
     "output_type": "stream",
     "text": [
      "▶2030년까지 전 세계 공용 충전기 숫자는 약 1,500만 개로 증가할 것으로 예상되며, 가정용 충전기는 \n",
      "2023년 2,700만 기에서 2035년에 2억 7천만 기를 넘어설 것으로 전망됨. 1. 세계 전기차 시장 현황\n",
      "▣전기차 판매 비중 증가\n",
      "¡ 2023년 세계 전기차 판매량은 약 1,400만 대로서 전년 대비 35% 증가하였으며, \n",
      "운행 중인 전기차는 2018년 대비 6배 이상 늘어난 4,000만 대에 이름. ‒ 전기차는 2023년에 전 세계 자동차 판매의 약 18%를 차지했으며, 이는 2022년의 \n",
      "14%와 2018년의 2%에 비해 크게 증가한 수치임. ¡ 2023년 전기차의 자동차 판매 점유율을 지역별로 보면 중국 60%, 유럽 25%, \n",
      "미국 10% 순으로 나타남. ‒ 중국은 810만 대의 신규 전기차가 등록되었고, 이는 전년 대비 35% 증가한 \n",
      "수치임. ･\n",
      "중국의 내연기관차 시장은 8% 축소되었으나, 전기차 판매 증가로 전체 자동차 \n",
      "시장은 5% 성장함.\n"
     ]
    }
   ],
   "source": [
    "# chunk 2\n",
    "print(semantic_chunks[2].page_content)"
   ]
  },
  {
   "cell_type": "markdown",
   "metadata": {},
   "source": [
    "## Indexing"
   ]
  },
  {
   "cell_type": "code",
   "execution_count": 14,
   "metadata": {},
   "outputs": [],
   "source": [
    "from langchain_chroma import Chroma\n",
    "\n",
    "vectorstore = Chroma.from_documents(semantic_chunks, bge_embeddings)"
   ]
  },
  {
   "cell_type": "code",
   "execution_count": 15,
   "metadata": {},
   "outputs": [
    {
     "name": "stdout",
     "output_type": "stream",
     "text": [
      "2\n",
      "\n",
      "2  세계 에너지시장 인사이트 제24-13호 2024.7.1. 자료 : IEA(2024), Global EV Outlook 2024\n",
      "< 세계 전기자동차 누적 판매 추이(2010~2023년) >\n",
      "¡ 2023년 시판 중인 자동차 모델 종류는 전년 대비 15% 증가한 590종에 달했으며, \n",
      "그 중 60% 이상이 SUV 또는 대형 차량으로 나타남. ‒ 전기차 시장에서 소형 및 중형 모델의 비중이 감소하는 추세이며 미국에서는 \n",
      "소형 및 중형 전기차 모델이 전기차 판매의 25%를, 유럽에서는 40%, 중국에서는 \n",
      "50%를 차지한 것으로 나타남. ‒ 이와 같은 대형 EV 모델의 종류 및 구매 증가 추세는 자동차 제조업체의 \n",
      "수익성과 소비자의 선호 및 배출 규제 등이 반영된 것으로 분석되고 있음.\n",
      "----------------------------------------------------------------------------------------------------\n",
      "･\n",
      "중국의 내연기관차 시장은 8% 축소되었으나, 전기차 판매 증가로 전체 자동차 \n",
      "시장은 5% 성장함. ･\n",
      "2023년에 세계 자동차 수출국 중 중국이 1위를 차지했으며, 400만 대 이상의 \n",
      "자동차 수출 중에서 120만 대가 전기차로, 전기차 수출량이 80% 증가\n",
      "‒ 유럽은 독일, 프랑스, 영국이 전기차 시장의 성장을 주도했으며, 2023년 기준 \n",
      "320만 대의 신규 전기차 등록으로 2022년 대비 20% 증가\n",
      "‒ 미국은 140만 대의 전기차가 신규 등록되어 전년 대비 40% 증가하였으며, 인플\n",
      "레이션 감축법(IRA)에 따른 세액 공제 제도와 주요 모델의 가격 인하가 성장세를 \n",
      "촉진한 것으로 파악됨. 1) 본고는 IEA의 “Global EV Outlook 2024” 보고서를 요약 정리한 것임. “2023년 글로벌 \n",
      "전기차 판매량은 \n",
      "35% 급증한 \n",
      "1,400만 대를 \n",
      "기록했으며, 중국, \n",
      "유럽, 미국이 \n",
      "성장을 주도”\n",
      "WORLD ENERGY MARKETINSIGHT\n",
      "----------------------------------------------------------------------------------------------------\n"
     ]
    }
   ],
   "source": [
    "# 구체적인 사실 관계에 대한 질문 \n",
    "query = \"중국 전기차 시장에서 중소형 모델의 판매 비중은 얼마인가요?\"\n",
    "\n",
    "# 가장 유사도가 높은 문장을 하나만 추출\n",
    "retriever = vectorstore.as_retriever(search_kwargs={'k': 2})\n",
    "\n",
    "results = retriever.invoke(query)\n",
    "print(len(results))\n",
    "print()\n",
    "\n",
    "for doc in results:\n",
    "    print(doc.page_content)\n",
    "    print(\"-\"*100)"
   ]
  },
  {
   "cell_type": "code",
   "execution_count": 16,
   "metadata": {},
   "outputs": [
    {
     "name": "stdout",
     "output_type": "stream",
     "text": [
      "2\n",
      "\n",
      "2  세계 에너지시장 인사이트 제24-13호 2024.7.1. 자료 : IEA(2024), Global EV Outlook 2024\n",
      "< 세계 전기자동차 누적 판매 추이(2010~2023년) >\n",
      "¡ 2023년 시판 중인 자동차 모델 종류는 전년 대비 15% 증가한 590종에 달했으며, \n",
      "그 중 60% 이상이 SUV 또는 대형 차량으로 나타남. ‒ 전기차 시장에서 소형 및 중형 모델의 비중이 감소하는 추세이며 미국에서는 \n",
      "소형 및 중형 전기차 모델이 전기차 판매의 25%를, 유럽에서는 40%, 중국에서는 \n",
      "50%를 차지한 것으로 나타남. ‒ 이와 같은 대형 EV 모델의 종류 및 구매 증가 추세는 자동차 제조업체의 \n",
      "수익성과 소비자의 선호 및 배출 규제 등이 반영된 것으로 분석되고 있음.\n",
      "----------------------------------------------------------------------------------------------------\n",
      "8  세계 에너지시장 인사이트 제24-13호 2024.7.1. ¡ 유럽의 STEPS 시나리오는 중소형 전기차(LDV)의 판매 비율이 2030년에 60%, \n",
      "2035년에 85%에 도달할 것으로 예상하며 APS 시나리오는 2030년에 60%, \n",
      "2035년에 90%를 초과할 것으로 전망\n",
      "‒ 영국은 2023년 차량 배출 거래 제도 명령을 통과시키면서 2024년 22%에서 \n",
      "2030년 80%로 제로 배출 차량(ZEV) 판매 목표를 설정\n",
      "‒ EU는 2035년까지 경차 및 밴의 무탄소배출 차량의 판매 비율을 100%로 설정\n",
      "¡ 미국의 중소형 전기차의 판매 비율은 STEPS와 APS 시나리오 하에서 모두 2030년에 \n",
      "55%, 2035년에 70%에 도달할 것으로 예상됨.\n",
      "----------------------------------------------------------------------------------------------------\n"
     ]
    }
   ],
   "source": [
    "# 추론이 필요한 질문\n",
    "query = \"중소형 전기차 모델이 가장 많은 판매량을 차지하는 지역은 어디인가요?\"\n",
    "\n",
    "# 가장 유사도가 높은 문장을 하나만 추출\n",
    "retriever = vectorstore.as_retriever(search_kwargs={'k': 2})\n",
    "\n",
    "results = retriever.invoke(query)\n",
    "print(len(results))\n",
    "print()\n",
    "\n",
    "for doc in results:\n",
    "    print(doc.page_content)\n",
    "    print(\"-\"*100)"
   ]
  },
  {
   "cell_type": "markdown",
   "metadata": {},
   "source": [
    "## RAG Chain"
   ]
  },
  {
   "cell_type": "markdown",
   "metadata": {},
   "source": [
    "`(1) Gemma2 활용`"
   ]
  },
  {
   "cell_type": "code",
   "execution_count": 17,
   "metadata": {},
   "outputs": [
    {
     "data": {
      "text/plain": [
       "'중국 전기차 시장에서 소형 및 중형 모델의 비중은 50%입니다. \\n\\n\\n'"
      ]
     },
     "execution_count": 17,
     "metadata": {},
     "output_type": "execute_result"
    }
   ],
   "source": [
    "from langchain_core.prompts import ChatPromptTemplate\n",
    "from langchain_core.output_parsers import StrOutputParser\n",
    "from langchain_core.runnables import RunnablePassthrough\n",
    "from langchain_ollama import ChatOllama\n",
    "\n",
    "\n",
    "llm = ChatOllama(\n",
    "    model = \"gemma2\",\n",
    "    temperature = 0.2,\n",
    "    num_predict = 250,\n",
    ")\n",
    "\n",
    "\n",
    "# Prompt\n",
    "template = '''Answer the question based only on the following context.\n",
    "\n",
    "[Context]\n",
    "{context}\n",
    "\n",
    "[Question]\n",
    "{question}\n",
    "\n",
    "[Answer (in Korean)]\n",
    "'''\n",
    "\n",
    "prompt = ChatPromptTemplate.from_template(template)\n",
    "\n",
    "\n",
    "def format_docs(docs):\n",
    "    return '\\n\\n'.join([d.page_content for d in docs])\n",
    "\n",
    "# RAG Chain 연결\n",
    "rag_chain = (\n",
    "    {'context': retriever | format_docs, 'question': RunnablePassthrough()}\n",
    "    | prompt\n",
    "    | llm\n",
    "    | StrOutputParser()\n",
    ")\n",
    "\n",
    "# Chain 실행\n",
    "query = \"중국 전기차 시장에서 중소형 모델의 판매 비중은 얼마인가요?\"\n",
    "rag_chain.invoke(query)"
   ]
  },
  {
   "cell_type": "code",
   "execution_count": 18,
   "metadata": {},
   "outputs": [
    {
     "data": {
      "text/plain": [
       "'중국입니다. \\n\\n\\n'"
      ]
     },
     "execution_count": 18,
     "metadata": {},
     "output_type": "execute_result"
    }
   ],
   "source": [
    "query = \"중소형 전기차 모델이 가장 많은 판매량을 차지하는 지역은 어디인가요?\"\n",
    "rag_chain.invoke(query)"
   ]
  },
  {
   "cell_type": "code",
   "execution_count": 19,
   "metadata": {},
   "outputs": [
    {
     "data": {
      "text/plain": [
       "'글로벌 전기차 산업은 중국, 유럽, 미국을 중심으로 성장하고 있습니다. 중국은 전기차 수출량이 80% 증가하며 세계 1위 수출국으로서 주도적인 역할을 하고 있습니다. 유럽은 독일, 프랑스, 영국 등에서 전기차 시장 성장을 이끌고 있으며, 미국은 인플레이션 감축법에 따른 세액 공제 제도와 주요 모델 가격 인하로 인해 전기차 판매량이 40% 증가했습니다. 전 세계 전기차 보유량은 2018년 대비 6배 이상 증가한 4,000만 대에 달하며, 충전 인프라 또한 가정용 충전과 공용 충전설비, 급속 충전시설 등 다양한 형태로 확대되고 있습니다. \\n\\n\\n'"
      ]
     },
     "execution_count": 19,
     "metadata": {},
     "output_type": "execute_result"
    }
   ],
   "source": [
    "from langchain_groq import ChatGroq\n",
    "\n",
    "llm = ChatGroq(\n",
    "    model=\"gemma2-9b-it\",\n",
    "    temperature=0.2,\n",
    "    max_retries=2,\n",
    ")\n",
    "\n",
    "# RAG Chain 연결\n",
    "rag_chain = (\n",
    "    {'context': retriever | format_docs, 'question': RunnablePassthrough()}\n",
    "    | prompt\n",
    "    | llm\n",
    "    | StrOutputParser()\n",
    ")\n",
    "\n",
    "# Chain 실행\n",
    "query = \"글로벌 전기차 산업이 어떻게 재편되고 있나요?\"\n",
    "rag_chain.invoke(query)"
   ]
  },
  {
   "cell_type": "markdown",
   "metadata": {},
   "source": [
    "`(2) Qwen 2.5 활용`"
   ]
  },
  {
   "cell_type": "code",
   "execution_count": 20,
   "metadata": {},
   "outputs": [],
   "source": [
    "llm = ChatOllama(\n",
    "    model = \"qwen2.5\",\n",
    "    temperature = 0.2,\n",
    "    num_predict = 250,\n",
    ")"
   ]
  },
  {
   "cell_type": "code",
   "execution_count": 21,
   "metadata": {},
   "outputs": [
    {
     "data": {
      "text/plain": [
       "'중국에서는 소형 및 중형 전기차 모델이 전기차 판매의 50%를 차지한 것으로 나타났습니다.'"
      ]
     },
     "execution_count": 21,
     "metadata": {},
     "output_type": "execute_result"
    }
   ],
   "source": [
    "# RAG Chain 연결\n",
    "rag_chain = (\n",
    "    {'context': retriever | format_docs, 'question': RunnablePassthrough()}\n",
    "    | prompt\n",
    "    | llm\n",
    "    | StrOutputParser()\n",
    ")\n",
    "\n",
    "# Chain 실행\n",
    "query = \"중국 전기차 시장에서 중소형 모델의 판매 비중은 얼마인가요?\"\n",
    "rag_chain.invoke(query)"
   ]
  },
  {
   "cell_type": "code",
   "execution_count": 22,
   "metadata": {},
   "outputs": [
    {
     "data": {
      "text/plain": [
       "'중소형 전기차 모델이 가장 많은 판매량을 차지하는 지역은 유럽으로 나타났습니다. 2030년에 유럽에서는 중소형 전기차(LDV)의 판매 비율이 60%로 예상되었으며, 2035년에는 85%까지 증가할 것으로 전망되었습니다.'"
      ]
     },
     "execution_count": 22,
     "metadata": {},
     "output_type": "execute_result"
    }
   ],
   "source": [
    "query = \"중소형 전기차 모델이 가장 많은 판매량을 차지하는 지역은 어디인가요?\"\n",
    "rag_chain.invoke(query)"
   ]
  },
  {
   "cell_type": "code",
   "execution_count": 23,
   "metadata": {},
   "outputs": [
    {
     "data": {
      "text/plain": [
       "'글로벌 전기차 산업은 다양한 지역에서의 판매 증가와 함께 재편되고 있습니다. 특히, 중국과 유럽, 미국 등 주요 시장에서 뚜렷한 성장을 보이고 있습니다.\\n\\n1. **중국**: 2023년 중국의 내연기관차 시장이 8% 축소되었음에도 불구하고 전기차 판매 증가로 전체 자동차 시장은 5% 성장하였습니다. 또한, 중국은 세계 최대의 전기차 수출국으로, 400만 대 이상의 자동차 중 120만 대가 전기차였으며, 이는 전년도에 비해 80% 증가한 수치입니다.\\n\\n2. **유럽**: 독일, 프랑스, 영국이 주도하여 전기차 시장 성장을 촉진하였고, 2023년 기준 신규 등록된 전기차는 320만 대로 이전 해에 비해 20% 증가하였습니다.\\n\\n3. **미국**: 미국은 14'"
      ]
     },
     "execution_count": 23,
     "metadata": {},
     "output_type": "execute_result"
    }
   ],
   "source": [
    "query = \"글로벌 전기차 산업이 어떻게 재편되고 있나요?\"\n",
    "rag_chain.invoke(query)"
   ]
  },
  {
   "cell_type": "code",
   "execution_count": null,
   "metadata": {},
   "outputs": [],
   "source": []
  }
 ],
 "metadata": {
  "kernelspec": {
   "display_name": "langchain-rag-ou4loIuJ-py3.11",
   "language": "python",
   "name": "python3"
  },
  "language_info": {
   "codemirror_mode": {
    "name": "ipython",
    "version": 3
   },
   "file_extension": ".py",
   "mimetype": "text/x-python",
   "name": "python",
   "nbconvert_exporter": "python",
   "pygments_lexer": "ipython3",
   "version": "3.11.8"
  }
 },
 "nbformat": 4,
 "nbformat_minor": 2
}
