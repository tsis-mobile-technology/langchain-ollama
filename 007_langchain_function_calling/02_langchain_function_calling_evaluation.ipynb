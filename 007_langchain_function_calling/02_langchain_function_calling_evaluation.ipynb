{
 "cells": [
  {
   "cell_type": "markdown",
   "id": "41ce62a8-251f-4f9e-b375-e93a5861c3fe",
   "metadata": {},
   "source": [
    "# RAG 기초"
   ]
  },
  {
   "cell_type": "markdown",
   "id": "6a9c7374",
   "metadata": {},
   "source": [
    "## Enviornment (.env)"
   ]
  },
  {
   "cell_type": "code",
   "execution_count": 78,
   "id": "b76f68a8-4745-4377-8057-6090b87377d1",
   "metadata": {},
   "outputs": [
    {
     "data": {
      "text/plain": [
       "True"
      ]
     },
     "execution_count": 78,
     "metadata": {},
     "output_type": "execute_result"
    }
   ],
   "source": [
    "# .env 파일을 불러옵니다.\n",
    "from dotenv import load_dotenv\n",
    "load_dotenv()"
   ]
  },
  {
   "cell_type": "markdown",
   "id": "df3208ca",
   "metadata": {},
   "source": [
    "## Evaluation Dataset Generation"
   ]
  },
  {
   "cell_type": "markdown",
   "id": "ed20ed79",
   "metadata": {},
   "source": [
    "#### 1) (pydantic) Schema"
   ]
  },
  {
   "cell_type": "code",
   "execution_count": 3,
   "id": "b64101cb",
   "metadata": {},
   "outputs": [],
   "source": [
    "from typing import Optional\n",
    "from langchain_core.pydantic_v1 import BaseModel, Field\n",
    "\n",
    "class Car(BaseModel):\n",
    "    \"\"\"Information about a car.\"\"\"\n",
    "    make: Optional[str] = Field(default=None, description=\"The make of the car\")\n",
    "    model_name: Optional[str] = Field(default=None, description=\"The model name of the car\")\n",
    "    model_year: Optional[int] = Field(\n",
    "        default=None, description=\"The year the car model was manufactured\"\n",
    "    )\n",
    "    color: Optional[str] = Field(default=None, description=\"The color of the car\")\n",
    "    price: Optional[float] = Field(default=None, description=\"The price of the car\")\n",
    "    mileage: Optional[float] = Field(default=None, description=\"The mileage of the car\")\n"
   ]
  },
  {
   "cell_type": "markdown",
   "id": "611d32df",
   "metadata": {},
   "source": [
    "#### 2) Synthetic Data\n",
    "\n",
    "https://python.langchain.com/v0.2/docs/tutorials/data_generation/"
   ]
  },
  {
   "cell_type": "code",
   "execution_count": 35,
   "id": "0d35ce0d",
   "metadata": {},
   "outputs": [
    {
     "data": {
      "text/plain": [
       "10"
      ]
     },
     "execution_count": 35,
     "metadata": {},
     "output_type": "execute_result"
    }
   ],
   "source": [
    "from langchain.prompts import FewShotPromptTemplate, PromptTemplate\n",
    "from langchain_core.pydantic_v1 import BaseModel\n",
    "from langchain_experimental.tabular_synthetic_data.openai import create_openai_data_generator\n",
    "from langchain_experimental.tabular_synthetic_data.prompts import (\n",
    "    SYNTHETIC_FEW_SHOT_PREFIX,\n",
    "    SYNTHETIC_FEW_SHOT_SUFFIX,\n",
    ")\n",
    "from langchain_openai import ChatOpenAI\n",
    "\n",
    "\n",
    "examples = [\n",
    "    {\n",
    "        \"example\": \"\"\"make: 현대, model_name: 소나타, model_year: 2022, color: 흰색, price: 25000000, mileage: 15000.0\"\"\"\n",
    "    },\n",
    "    {\n",
    "        \"example\": \"\"\"make: 기아, model_name: K5, model_year: 2021, color: None, price: 23000000, mileage: 20000.0\"\"\"\n",
    "    },\n",
    "]\n",
    "\n",
    "\n",
    "OPENAI_TEMPLATE = PromptTemplate(input_variables=[\"example\"], template=\"{example}\")\n",
    "\n",
    "prompt_template = FewShotPromptTemplate( \n",
    "    prefix=SYNTHETIC_FEW_SHOT_PREFIX,\n",
    "    examples=examples,\n",
    "    suffix=SYNTHETIC_FEW_SHOT_SUFFIX,\n",
    "    input_variables=[\"subject\", \"extra\"],\n",
    "    example_prompt=OPENAI_TEMPLATE,\n",
    ")\n",
    "\n",
    "synthetic_data_generator = create_openai_data_generator(\n",
    "    output_schema=Car,\n",
    "    llm=ChatOpenAI(\n",
    "        model=\"gpt-3.5-turbo-0125\",\n",
    "        temperature=0.7,\n",
    "    ), \n",
    "    prompt=prompt_template,\n",
    ")\n",
    "\n",
    "synthetic_results = synthetic_data_generator.generate(\n",
    "    subject=\"car data\",\n",
    "    extra=\"Use Korean language. Make it something you wouldn't normally choose. Around 30 percent of the values should be None at random. \",\n",
    "    runs=10,\n",
    ")\n",
    "\n",
    "len(synthetic_results)"
   ]
  },
  {
   "cell_type": "code",
   "execution_count": 79,
   "id": "79a197c2",
   "metadata": {},
   "outputs": [
    {
     "data": {
      "text/plain": [
       "'This is a test about generating synthetic data about {subject}. Examples below:'"
      ]
     },
     "execution_count": 79,
     "metadata": {},
     "output_type": "execute_result"
    }
   ],
   "source": [
    "SYNTHETIC_FEW_SHOT_PREFIX"
   ]
  },
  {
   "cell_type": "code",
   "execution_count": 80,
   "id": "c165fb7b",
   "metadata": {},
   "outputs": [
    {
     "data": {
      "text/plain": [
       "'Now you generate synthetic data about {subject}. Make sure to {extra}:'"
      ]
     },
     "execution_count": 80,
     "metadata": {},
     "output_type": "execute_result"
    }
   ],
   "source": [
    "SYNTHETIC_FEW_SHOT_SUFFIX"
   ]
  },
  {
   "cell_type": "code",
   "execution_count": 36,
   "id": "4789acb7",
   "metadata": {},
   "outputs": [
    {
     "data": {
      "text/plain": [
       "[Car(make='르노', model_name='메간', model_year=2019, color='파랑', price=18000000.0, mileage=25000.0),\n",
       " Car(make='쌍용', model_name='티볼리', model_year=2020, color=None, price=27000000.0, mileage=18000.0),\n",
       " Car(make='기아', model_name='스팅어', model_year=2017, color='은색', price=21000000.0, mileage=32000.0),\n",
       " Car(make='르노', model_name='카프쳐', model_year=2019, color=None, price=24000000.0, mileage=25000.0),\n",
       " Car(make='쌍용', model_name='티볼리', model_year=2015, color='블루', price=18000000.0, mileage=38000.0),\n",
       " Car(make='기아', model_name='K7', model_year=2017, color='그레이', price=21000000.0, mileage=30000.0),\n",
       " Car(make='르노삼성', model_name='SM6', model_year=2014, color='화이트', price=None, mileage=45000.0),\n",
       " Car(make='쌍용', model_name='렉스턴', model_year=2015, color='블랙', price=18000000.0, mileage=65000.0),\n",
       " Car(make='기아', model_name='모하비', model_year=2012, color='은색', price=25000000.0, mileage=72000.0),\n",
       " Car(make='쌍용', model_name='티볼리', model_year=2018, color='그레이', price=20000000.0, mileage=80000.0)]"
      ]
     },
     "execution_count": 36,
     "metadata": {},
     "output_type": "execute_result"
    }
   ],
   "source": [
    "synthetic_results"
   ]
  },
  {
   "cell_type": "code",
   "execution_count": 37,
   "id": "1691148e",
   "metadata": {},
   "outputs": [
    {
     "data": {
      "text/html": [
       "<div>\n",
       "<style scoped>\n",
       "    .dataframe tbody tr th:only-of-type {\n",
       "        vertical-align: middle;\n",
       "    }\n",
       "\n",
       "    .dataframe tbody tr th {\n",
       "        vertical-align: top;\n",
       "    }\n",
       "\n",
       "    .dataframe thead th {\n",
       "        text-align: right;\n",
       "    }\n",
       "</style>\n",
       "<table border=\"1\" class=\"dataframe\">\n",
       "  <thead>\n",
       "    <tr style=\"text-align: right;\">\n",
       "      <th></th>\n",
       "      <th>make</th>\n",
       "      <th>model_name</th>\n",
       "      <th>model_year</th>\n",
       "      <th>color</th>\n",
       "      <th>price</th>\n",
       "      <th>mileage</th>\n",
       "    </tr>\n",
       "  </thead>\n",
       "  <tbody>\n",
       "    <tr>\n",
       "      <th>0</th>\n",
       "      <td>르노</td>\n",
       "      <td>메간</td>\n",
       "      <td>2019</td>\n",
       "      <td>파랑</td>\n",
       "      <td>18000000.0</td>\n",
       "      <td>25000.0</td>\n",
       "    </tr>\n",
       "    <tr>\n",
       "      <th>1</th>\n",
       "      <td>쌍용</td>\n",
       "      <td>티볼리</td>\n",
       "      <td>2020</td>\n",
       "      <td>None</td>\n",
       "      <td>27000000.0</td>\n",
       "      <td>18000.0</td>\n",
       "    </tr>\n",
       "    <tr>\n",
       "      <th>2</th>\n",
       "      <td>기아</td>\n",
       "      <td>스팅어</td>\n",
       "      <td>2017</td>\n",
       "      <td>은색</td>\n",
       "      <td>21000000.0</td>\n",
       "      <td>32000.0</td>\n",
       "    </tr>\n",
       "    <tr>\n",
       "      <th>3</th>\n",
       "      <td>르노</td>\n",
       "      <td>카프쳐</td>\n",
       "      <td>2019</td>\n",
       "      <td>None</td>\n",
       "      <td>24000000.0</td>\n",
       "      <td>25000.0</td>\n",
       "    </tr>\n",
       "    <tr>\n",
       "      <th>4</th>\n",
       "      <td>쌍용</td>\n",
       "      <td>티볼리</td>\n",
       "      <td>2015</td>\n",
       "      <td>블루</td>\n",
       "      <td>18000000.0</td>\n",
       "      <td>38000.0</td>\n",
       "    </tr>\n",
       "    <tr>\n",
       "      <th>5</th>\n",
       "      <td>기아</td>\n",
       "      <td>K7</td>\n",
       "      <td>2017</td>\n",
       "      <td>그레이</td>\n",
       "      <td>21000000.0</td>\n",
       "      <td>30000.0</td>\n",
       "    </tr>\n",
       "    <tr>\n",
       "      <th>6</th>\n",
       "      <td>르노삼성</td>\n",
       "      <td>SM6</td>\n",
       "      <td>2014</td>\n",
       "      <td>화이트</td>\n",
       "      <td>NaN</td>\n",
       "      <td>45000.0</td>\n",
       "    </tr>\n",
       "    <tr>\n",
       "      <th>7</th>\n",
       "      <td>쌍용</td>\n",
       "      <td>렉스턴</td>\n",
       "      <td>2015</td>\n",
       "      <td>블랙</td>\n",
       "      <td>18000000.0</td>\n",
       "      <td>65000.0</td>\n",
       "    </tr>\n",
       "    <tr>\n",
       "      <th>8</th>\n",
       "      <td>기아</td>\n",
       "      <td>모하비</td>\n",
       "      <td>2012</td>\n",
       "      <td>은색</td>\n",
       "      <td>25000000.0</td>\n",
       "      <td>72000.0</td>\n",
       "    </tr>\n",
       "    <tr>\n",
       "      <th>9</th>\n",
       "      <td>쌍용</td>\n",
       "      <td>티볼리</td>\n",
       "      <td>2018</td>\n",
       "      <td>그레이</td>\n",
       "      <td>20000000.0</td>\n",
       "      <td>80000.0</td>\n",
       "    </tr>\n",
       "  </tbody>\n",
       "</table>\n",
       "</div>"
      ],
      "text/plain": [
       "   make model_name  model_year color       price  mileage\n",
       "0    르노         메간        2019    파랑  18000000.0  25000.0\n",
       "1    쌍용        티볼리        2020  None  27000000.0  18000.0\n",
       "2    기아        스팅어        2017    은색  21000000.0  32000.0\n",
       "3    르노        카프쳐        2019  None  24000000.0  25000.0\n",
       "4    쌍용        티볼리        2015    블루  18000000.0  38000.0\n",
       "5    기아         K7        2017   그레이  21000000.0  30000.0\n",
       "6  르노삼성        SM6        2014   화이트         NaN  45000.0\n",
       "7    쌍용        렉스턴        2015    블랙  18000000.0  65000.0\n",
       "8    기아        모하비        2012    은색  25000000.0  72000.0\n",
       "9    쌍용        티볼리        2018   그레이  20000000.0  80000.0"
      ]
     },
     "execution_count": 37,
     "metadata": {},
     "output_type": "execute_result"
    }
   ],
   "source": [
    "import pandas as pd\n",
    "\n",
    "car_dicts = [car.dict() for car in synthetic_results]\n",
    "\n",
    "df = pd.DataFrame(car_dicts)\n",
    "df.to_csv(\"car_data.csv\", index=False)\n",
    "df"
   ]
  },
  {
   "cell_type": "code",
   "execution_count": 48,
   "id": "e3b830a3",
   "metadata": {},
   "outputs": [
    {
     "data": {
      "text/plain": [
       "10"
      ]
     },
     "execution_count": 48,
     "metadata": {},
     "output_type": "execute_result"
    }
   ],
   "source": [
    "from langchain_experimental.synthetic_data import DatasetGenerator\n",
    "\n",
    "# Dataset Generator\n",
    "model = ChatOpenAI(model=\"gpt-3.5-turbo-0125\", temperature=0.7)\n",
    "generator = DatasetGenerator(model, {\"style\": \"informal\", \"minimal length\": 300, \"language\": \"Korean\"})\n",
    "dataset = generator(synthetic_results)\n",
    "\n",
    "len(dataset)"
   ]
  },
  {
   "cell_type": "code",
   "execution_count": 49,
   "id": "e24eab00",
   "metadata": {},
   "outputs": [
    {
     "data": {
      "text/plain": [
       "{'fields': Car(make='르노', model_name='메간', model_year=2019, color='파랑', price=18000000.0, mileage=25000.0),\n",
       " 'preferences': {'style': 'informal',\n",
       "  'minimal length': 300,\n",
       "  'language': 'Korean'},\n",
       " 'text': '르노 메간 2019년식 차량은 파랑색으로, 25000km 주행한 중고차로 1800만 원에 판매 중이에요.'}"
      ]
     },
     "execution_count": 49,
     "metadata": {},
     "output_type": "execute_result"
    }
   ],
   "source": [
    "dataset[0]"
   ]
  },
  {
   "cell_type": "code",
   "execution_count": 74,
   "id": "0ef1dbe2",
   "metadata": {},
   "outputs": [
    {
     "data": {
      "text/plain": [
       "10"
      ]
     },
     "execution_count": 74,
     "metadata": {},
     "output_type": "execute_result"
    }
   ],
   "source": [
    "from langchain_community.chat_models import ChatOllama\n",
    "\n",
    "model2 = ChatOllama(model='qwen2', temperature=0.7)\n",
    "generator2 = DatasetGenerator(model2, {\"style\": \"informal\", \"minimal length\": 300, \"language\": \"Korean\"})\n",
    "dataset2 = generator2(synthetic_results)\n",
    "\n",
    "len(dataset2)"
   ]
  },
  {
   "cell_type": "code",
   "execution_count": 76,
   "id": "ddbdd90d",
   "metadata": {},
   "outputs": [
    {
     "data": {
      "text/plain": [
       "{'fields': Car(make='르노', model_name='메간', model_year=2019, color='파랑', price=18000000.0, mileage=25000.0),\n",
       " 'preferences': {'style': 'informal',\n",
       "  'minimal length': 300,\n",
       "  'language': 'Korean'},\n",
       " 'text': '르노 제조사에서 제작된 메간 2019년형은 파란색으로 빛나며, 가격이 무려 1800만원에 판매되고 있습니다. 이 차량은 누적 마일리지가 약 2만5천㎞에 달하여 사용 경험이 상당히 풍부한 상황입니다. 저렴한 가격과 고성능, 그리고 멋진 디자인이 결합된 이 차량은 당신의 취향을 충족시킬 수 있을 것입니다.'}"
      ]
     },
     "execution_count": 76,
     "metadata": {},
     "output_type": "execute_result"
    }
   ],
   "source": [
    "dataset2[0]"
   ]
  },
  {
   "cell_type": "markdown",
   "id": "18b66730",
   "metadata": {},
   "source": [
    "## Extraction "
   ]
  },
  {
   "cell_type": "markdown",
   "id": "594015b6",
   "metadata": {},
   "source": [
    "#### 1) Prompt"
   ]
  },
  {
   "cell_type": "code",
   "execution_count": 51,
   "id": "d9e7f48c",
   "metadata": {},
   "outputs": [],
   "source": [
    "from langchain_core.prompts import ChatPromptTemplate\n",
    "\n",
    "prompt = ChatPromptTemplate.from_messages(\n",
    "    [\n",
    "        (\n",
    "            \"system\",\n",
    "            \"You are an expert extraction algorithm. \"\n",
    "            \"Only extract relevant information from the text. \"\n",
    "            \"If you do not know the value of an attribute asked to extract, \"\n",
    "            \"return null for the attribute's value.\",\n",
    "        ),\n",
    "        (\"human\", \"{text}\"),\n",
    "    ]\n",
    ")"
   ]
  },
  {
   "cell_type": "markdown",
   "id": "e28a2fbe",
   "metadata": {},
   "source": [
    "#### 2) OpenAI"
   ]
  },
  {
   "cell_type": "code",
   "execution_count": 52,
   "id": "087b7b5a",
   "metadata": {},
   "outputs": [
    {
     "data": {
      "text/plain": [
       "Car(make='르노', model_name='메간', model_year=2019, color='파랑', price=18000000.0, mileage=25000.0)"
      ]
     },
     "execution_count": 52,
     "metadata": {},
     "output_type": "execute_result"
    }
   ],
   "source": [
    "from langchain_openai import ChatOpenAI\n",
    "\n",
    "llm = ChatOpenAI(model=\"gpt-3.5-turbo\", temperature=0)\n",
    "\n",
    "extract_chain = prompt | llm.with_structured_output(schema=Car)\n",
    "\n",
    "extract_result = extract_chain.invoke({\"text\": dataset[0]['text']})\n",
    "\n",
    "extract_result"
   ]
  },
  {
   "cell_type": "markdown",
   "id": "40d43426",
   "metadata": {},
   "source": [
    "## Evaluation"
   ]
  },
  {
   "cell_type": "code",
   "execution_count": 55,
   "id": "d8221ab0",
   "metadata": {},
   "outputs": [
    {
     "data": {
      "text/plain": [
       "True"
      ]
     },
     "execution_count": 55,
     "metadata": {},
     "output_type": "execute_result"
    }
   ],
   "source": [
    "extract_result == dataset[0]['fields']"
   ]
  },
  {
   "cell_type": "code",
   "execution_count": 56,
   "id": "f9144327",
   "metadata": {},
   "outputs": [
    {
     "data": {
      "text/plain": [
       "Car(make='쌍용', model_name='티볼리', model_year=2020, color=None, price=27000000.0, mileage=18000.0)"
      ]
     },
     "execution_count": 56,
     "metadata": {},
     "output_type": "execute_result"
    }
   ],
   "source": [
    "extract_result = extract_chain.invoke({\"text\": dataset[1]['text']})\n",
    "\n",
    "extract_result"
   ]
  },
  {
   "cell_type": "code",
   "execution_count": 57,
   "id": "c0c3ce99",
   "metadata": {},
   "outputs": [
    {
     "data": {
      "text/plain": [
       "True"
      ]
     },
     "execution_count": 57,
     "metadata": {},
     "output_type": "execute_result"
    }
   ],
   "source": [
    "extract_result == dataset[1]['fields']"
   ]
  },
  {
   "cell_type": "markdown",
   "id": "83f2c020",
   "metadata": {},
   "source": [
    "## Ollama"
   ]
  },
  {
   "cell_type": "code",
   "execution_count": 71,
   "id": "ad245c56",
   "metadata": {},
   "outputs": [
    {
     "data": {
      "text/plain": [
       "Car(make='르노 메간', model_name=None, model_year=2019, color='파랑색', price=18000000.0, mileage=25000.0)"
      ]
     },
     "execution_count": 71,
     "metadata": {},
     "output_type": "execute_result"
    }
   ],
   "source": [
    "from langchain_core.prompts import PromptTemplate\n",
    "from langchain_experimental.llms.ollama_functions import OllamaFunctions\n",
    "\n",
    "prompt = PromptTemplate.from_template(\n",
    "    \"\"\"<|start_header_id|>system<|end_header_id|>\n",
    "You are an expert extraction algorithm. Only extract relevant information from the text.\n",
    "If you do not know the value of an attribute asked to extract, return null for the attribute's value.\n",
    "<|eot_id|><|start_header_id|>user<|end_header_id|>\n",
    "\n",
    "TEXT: {text}\n",
    "JSON:\n",
    "<|eot_id|>\n",
    "<|start_header_id|>assistant<|end_header_id|>\n",
    "\"\"\"\n",
    ")\n",
    "\n",
    "llm = OllamaFunctions(model=\"llama3\", format=\"json\")\n",
    "\n",
    "extract_chain = prompt | llm.with_structured_output(schema=Car)\n",
    "\n",
    "extract_result = extract_chain.invoke({\"text\": dataset[0]['text']})\n",
    "\n",
    "extract_result"
   ]
  },
  {
   "cell_type": "code",
   "execution_count": 72,
   "id": "35afa1e1",
   "metadata": {},
   "outputs": [
    {
     "data": {
      "text/plain": [
       "False"
      ]
     },
     "execution_count": 72,
     "metadata": {},
     "output_type": "execute_result"
    }
   ],
   "source": [
    "extract_result == dataset[0]['fields']"
   ]
  },
  {
   "cell_type": "code",
   "execution_count": 73,
   "id": "0b812a5d",
   "metadata": {},
   "outputs": [
    {
     "data": {
      "text/plain": [
       "Car(make='르노', model_name='메간', model_year=2019, color='파랑', price=18000000.0, mileage=25000.0)"
      ]
     },
     "execution_count": 73,
     "metadata": {},
     "output_type": "execute_result"
    }
   ],
   "source": [
    "dataset[0]['fields']"
   ]
  },
  {
   "cell_type": "code",
   "execution_count": null,
   "id": "99d93254",
   "metadata": {},
   "outputs": [],
   "source": []
  }
 ],
 "metadata": {
  "kernelspec": {
   "display_name": "Python 3 (ipykernel)",
   "language": "python",
   "name": "python3"
  },
  "language_info": {
   "codemirror_mode": {
    "name": "ipython",
    "version": 3
   },
   "file_extension": ".py",
   "mimetype": "text/x-python",
   "name": "python",
   "nbconvert_exporter": "python",
   "pygments_lexer": "ipython3",
   "version": "3.11.9"
  }
 },
 "nbformat": 4,
 "nbformat_minor": 5
}
