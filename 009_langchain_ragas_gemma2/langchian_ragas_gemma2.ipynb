{
 "cells": [
  {
   "cell_type": "markdown",
   "metadata": {},
   "source": [
    "## QA RAG"
   ]
  },
  {
   "cell_type": "code",
   "execution_count": 3,
   "metadata": {},
   "outputs": [
    {
     "name": "stderr",
     "output_type": "stream",
     "text": [
      "USER_AGENT environment variable not set, consider setting it to identify your requests.\n"
     ]
    },
    {
     "name": "stdout",
     "output_type": "stream",
     "text": [
      "1\n",
      "page_content='\\n\\n\\n\\n\\n[정보문화사] IT 도서의 새로운 패러다임\\n\\n\\n\\n\\nCJ스타일베너[좌슬라이드]\\n\\n\\n\\n\\n\\n \\n\\n\\n\\n\\n\\n\\n\\n\\n\\n\\n\\n\\n\\n\\xa0\\n\\n\\n\\n\\n\\n\\n\\n\\n\\n\\n\\n\\n\\n\\n\\n\\n\\n\\n\\n\\n\\n\\n\\n\\n\\n\\n\\n\\n\\n\\n\\n\\n\\n\\n\\n\\n\\n\\n\\n\\n\\n\\n\\n\\n\\n\\n\\n\\n\\n\\n\\n\\n\\n\\n\\n\\n\\n\\n\\n\\n\\n\\n\\n\\n\\n\\r\\n파이썬 머신러닝 판다스 데이터 분석 개정판\\r\\n\\n\\n\\n저자:\\n\\n오승환\\n\\n\\n\\n역자:\\n\\n\\n\\n\\n구분:\\n\\r\\n\\t\\r\\n\\t\\r\\n       국내서\\r\\n    \\r\\n\\t\\r\\n\\t\\n\\n\\n발행일:\\n2024년 6월 25일\\n\\n\\n정가:\\n30,000원\\n\\n\\n페이지:\\n584 페이지\\n\\n\\nISBN:\\n978-89-5674-980-8\\n\\n\\n출판사:\\n\\n\\r\\n\\t\\t\\t\\t정보문화사\\r\\n\\r\\n\\t\\n\\n\\n판형:\\n187×235\\n\\n\\n\\n난이도:\\n\\n\\n\\n\\n\\n\\n\\n\\n\\n\\n\\n\\n\\n\\n\\n\\n\\n\\n\\n\\n\\n\\n\\n\\n\\n\\n\\n\\n\\n\\n\\n\\n\\n\\n\\n\\n\\n\\n\\n\\n\\n\\n\\n\\n\\n\\n\\n\\n\\n\\n책소개\\n저자소개\\n미리보기\\n오탈자\\n보도자료실\\n샘플자료 다운로드\\n\\n\\n\\n데이터 과학자가 되기 위한 첫걸음!어려운 이론은 최소화하고, 예제 코드를 따라 하며 자연스럽게 사용법에 익숙해지도록 안내하는 데이터 분석 입문서다. 데이터 분석을 처음 배우는 입문자의 입장에서 고급 이론과 데이터 분석 도구를 함께 배우는 것의 어려움을 아는 저자가, 데이터 분석에 필요한 필수 라이브러리를 소개하고 설치부터 예제 코드까지 따라 할 수 있게 구성했다. 개념 이해를 돕기 위해 다이어그램 등 풍부한 도식화도 적극 활용했다. 1판에서 큰 인기를 얻어 준비된 이번 개정판에서는 저자가 실무에서 쌓은 경험을 자연스럽게 녹이기 위해 노력했다. 여러 기업과 대학에서 계속 강의를 해오고 있는 만큼 더욱 자세한 설명과 다양한 데이터 시각화, 데이터 전처리 기법을 담았으며, Pandas 2.0 버전에서 추가되거나 변경된 내용을 풍부하게 담아 데이터 분석에 필요한 최신 기술과 기능을 습득할 수 있다. 또한 저자 블로그나 깃헙, 그리고 유튜브에서 질의응답 게시판을 운영하고 있어, 궁금한 점이나 책과 관련된 요청 사항을 전달할 수 있다. 출판사 서평예제 중심으로 실무용 데이터 분석을 바로 배우자!복잡한 이론이 아닌, 풍부한 예제로 비전공자와 입문자의 마음을 사로잡은 강의가 개정판으로 돌아왔다. 최신 버전인 Pandas 2.0 버전에서 추가되거나 변경된 내용을 포함하여 시계열 데이터 처리 등의 기법과 사례 등을 더해 150쪽 이상의 분량이 더해졌다. 특히 시계열 데이터의 효율적인 처리와 분석을 위한 다양한 기법을 추가했다. 시계열 데이터는 시간의 흐름에 따른 연속적인 값으로, 미래를 예측하고 그에 맞는 전략을 세우는 데 큰 도움이 되기 때문에 주식, 환율 등 금융 데이터에 특히 많이 쓰인다. 데이터 분석에서 중요한 부분이기 때문에 다른 자료형을 시계열 객체로 변환하는 것부터 시계열 데이터 처리 기법까지 사례를 대폭 추가해 시간에 따른 데이터 변화를 효과적으로 분석할 수 있도록 했다. 또한 시계열 데이터 처리 강화와 더불어, 데이터 전처리 기법을 더욱 다양화했다. 데이터 정제, 변환, 통합 등 다양한 데이터 전처리 기법을 추가하여 데이터 분석의 기초를 더욱 탄탄히 다질 수 있도록 했다. 데이터의 시각적 표현을 위한 다양한 기법과 도구 역시 새롭게 포함했으며, 데이터 시각화 개선으로 복잡한 데이터를 직관적으로 이해하고 전달하는 기법을 더욱 쉽게 배울 수 있다. 그리고 이 모든 과정을 실습 중심으로 진행한다. 지루하고 복잡한 이론은 최소화하고, 실무에 바로 적용할 수 있는 실습 예제를 풍부하게 담았다. 파이썬 소개와 기초 문법에 대한 설명을 생략하고 예제의 수를 늘렸기 때문에 파이썬 리스트, 딕셔너리 등의 자료구조와 반복문, 조건문 등의 기본 문법을 알고 있는 독자라면 이 책 한 권으로 정확하고 빠르게 실력을 향상시킬 수 있다. 책 속 예제 코드를 하나씩 실행하다 보면 파이썬 데이터 분석과 자연스럽게 가까워질 수 있을 것이다. 이책을 통해, 데이터를 수집하고 분석하는 일을 즐기게 될 여러분을 환영한다.\\n\\n\\n지은이 | 오승환과학고, 서울대를 졸업하고, 중 국 C KGSB MBA, FRM(미국 재무위험관리사) 자격을 보유하고 있다. 국내 주요 금융기관과 대기업에서 기업분석 및 전략기획 업무를 담당했다. IT 비전공자이지만 데이터 분석과 인공지능을 독학으로 익혔고, 현재 핀테크 스타트업 대표이자 인공지능 강사로 활발하게 활동하고 있다. 유튜브 <판다스 스튜디오>를 운영하며, 저서로는 『파이썬 딥러닝 텐서플로』 등이 있다.\\r\\n    \\n\\n\\n\\n\\n\\n\\n\\n\\n\\n\\n\\n\\n\\n\\n\\n\\n\\n\\n\\r\\n                330\\n\\n[보도자료] 예제가 가득한 챗GPT 프롬프트 길라잡이\\n운영자\\n2024-05-16\\n\\n\\r\\n                5674-976.zip(9654KB)\\n\\n\\n\\n \\n\\n\\n\\r\\n                329\\n\\n[보도자료] 데이터베이스 관리 시스템\\n운영자\\n2024-05-07\\n\\n\\r\\n                5674-977.zip(3768KB)\\n\\n\\n\\n \\n\\n\\n\\r\\n                328\\n\\n[보도자료] 챗GPT 프롬프트 120% 질문 기술\\n운영자\\n2024-04-24\\n\\n\\r\\n                5674-975.zip(5649KB)\\n\\n\\n\\n \\n\\n\\n\\r\\n                327\\n\\n[보도자료] 비동기 우선 플레이북\\n운영자\\n2024-04-03\\n\\n\\r\\n                5674-974.zip(11MB)\\n\\n\\n\\n \\n\\n\\n\\r\\n                326\\n\\n[보도자료] 투명 수채화로 소녀 일러스트 그리는 방법\\n운영자\\n2024-03-20\\n\\n\\r\\n                5674-935.zip(24MB)\\n\\n\\n\\n \\n\\n\\n\\r\\n                325\\n\\n[보도자료] 기초부터 배우는 웹 개발 리터러시\\n운영자\\n2024-02-26\\n\\n\\r\\n                5674-934.zip(3209KB)\\n\\n\\n\\n \\n\\n\\n\\r\\n                324\\n\\n[보도자료] 배경이 있는 캐릭터 일러스트 그리는 방법\\n운영자\\n2024-02-16\\n\\n\\r\\n                5674-933.zip(26MB)\\n\\n\\n\\n \\n\\n\\n\\r\\n                323\\n\\n[보도자료] 인물 쉽게 그리는 방법\\n운영자\\n2024-01-19\\n\\n\\r\\n                5674-932.zip(19MB)\\n\\n\\n\\n \\n\\n\\n\\r\\n                322\\n\\n[보도자료] 가장 쉬운 자동화 수익 프로그램 만들기\\n운영자\\n2023-12-20\\n\\n\\r\\n                5674-931.zip(10MB)\\n\\n\\n\\n \\n\\n\\n\\r\\n                321\\n\\n[보도자료] AI, WEB 3 패러다임 | 검색에서 생성으로 비즈니스 모델의 혁신\\n운영자\\n2023-10-24\\n\\n\\r\\n                5674-930.zip(4293KB)\\n\\n\\n\\n \\n\\n\\n\\r\\n                320\\n\\n[보도자료] 가장 쉬운 이모티콘 만들기 2판\\n운영자\\n2023-08-30\\n\\n\\r\\n                5674-929.zip()\\n\\n\\n\\n \\n\\n\\n\\r\\n                319\\n\\n[보도자료] 파이썬과 엑셀로 시작하는 딥러닝\\n운영자\\n2023-07-19\\n\\n\\r\\n                5674-928.zip(9338KB)\\n\\n\\n\\n \\n\\n\\n\\r\\n                318\\n\\n[보도자료] 회사 실무에 힘을 주는 엑셀 2021\\n운영자\\n2023-07-04\\n\\n\\r\\n                5674-927.zip(15MB)\\n\\n\\n\\n \\n\\n\\n\\r\\n                317\\n\\n[보도자료] 예제가 가득한 파이썬 길라잡이\\n운영자\\n2023-05-23\\n\\n\\r\\n                5674-925.zip(8719KB)\\n\\n\\n\\n \\n\\n\\n\\r\\n                316\\n\\n[보도자료] 가장 쉬운 유니티 게임 제작 2판\\n운영자\\n2023-04-26\\n\\n\\r\\n                5674-926.zip(6664KB)\\n\\n\\n\\n \\n\\n\\n\\r\\n                315\\n\\n[보도자료] 실무자를 위한 C 언어 100제\\n운영자\\n2023-03-28\\n\\n\\r\\n                5674-924.zip(15MB)\\n\\n\\n\\n \\n\\n\\n\\r\\n                314\\n\\n[보도자료] 매출 올리는 네이버 스마트스토어 광고 활용법\\n운영자\\n2023-02-17\\n\\n\\r\\n                5674-923.zip(4898KB)\\n\\n\\n\\n \\n\\n\\n\\r\\n                313\\n\\n[보도자료] 회사 실무에 힘을 주는 오토캐드 2023\\n운영자\\n2023-01-16\\n\\n\\r\\n                5674-992.zip(10MB)\\n\\n\\n\\n \\n\\n\\n\\r\\n                312\\n\\n[보도자료] 3D프린터 활용 가이드\\n운영자\\n2023-01-11\\n\\n\\r\\n                5674-921.zip(9023KB)\\n\\n\\n\\n \\n\\n\\n\\r\\n                311\\n\\n[보도자료] 회사 실무에 힘을 주는 한글 2022\\n운영자\\n2022-11-21\\n\\n\\r\\n                5674-919.zip(9267KB)\\n\\n\\n\\n \\n\\n\\n\\n\\n\\n\\n\\n\\n자료명\\n등록일\\n다운로드\\n\\n\\n본문 소스 코드\\n2024-06-25\\n05000274.zip\\n\\n\\n\\n\\n\\n\\n\\n\\n\\n\\n\\n\\n\\n\\n\\n\\n\\n\\n\\n\\n\\n\\n\\n\\n\\n\\n\\n\\n\\n\\n\\n\\n' metadata={'source': 'http://www.infopub.co.kr/new/include/detail.asp?sku=05000274', 'title': '[정보문화사] IT 도서의 새로운 패러다임', 'language': 'No language found.'}\n",
      "{'language': 'No language found.',\n",
      " 'source': 'http://www.infopub.co.kr/new/include/detail.asp?sku=05000274',\n",
      " 'title': '[정보문화사] IT 도서의 새로운 패러다임'}\n"
     ]
    }
   ],
   "source": [
    "from langchain_community.document_loaders import WebBaseLoader\n",
    "from langchain_community.vectorstores import Chroma\n",
    "from langchain_core.output_parsers import StrOutputParser\n",
    "from langchain_core.runnables import RunnablePassthrough\n",
    "from langchain_text_splitters import RecursiveCharacterTextSplitter\n",
    "from langchain_community.chat_models import ChatOllama\n",
    "from langchain.prompts import ChatPromptTemplate\n",
    "from pprint import pprint\n",
    "\n",
    "# Load, chunk and index the contents of the blog.\n",
    "loader = WebBaseLoader(\n",
    "    web_paths=(\"http://www.infopub.co.kr/new/include/detail.asp?sku=05000274\",),\n",
    ")\n",
    "docs = loader.load()\n",
    "\n",
    "print(len(docs))\n",
    "print(docs[0])\n",
    "pprint(docs[0].metadata)"
   ]
  },
  {
   "cell_type": "code",
   "execution_count": 4,
   "metadata": {},
   "outputs": [
    {
     "name": "stderr",
     "output_type": "stream",
     "text": [
      "/Users/wiggler/Library/Caches/pypoetry/virtualenvs/langfuse-practice-ygCFMd-0-py3.11/lib/python3.11/site-packages/langchain_core/_api/deprecation.py:139: LangChainDeprecationWarning: The class `HuggingFaceEmbeddings` was deprecated in LangChain 0.2.2 and will be removed in 0.3.0. An updated version of the class exists in the langchain-huggingface package and should be used instead. To use it run `pip install -U langchain-huggingface` and import as `from langchain_huggingface import HuggingFaceEmbeddings`.\n",
      "  warn_deprecated(\n",
      "/Users/wiggler/Library/Caches/pypoetry/virtualenvs/langfuse-practice-ygCFMd-0-py3.11/lib/python3.11/site-packages/sentence_transformers/cross_encoder/CrossEncoder.py:11: TqdmExperimentalWarning: Using `tqdm.autonotebook.tqdm` in notebook mode. Use `tqdm.tqdm` instead to force console mode (e.g. in jupyter console)\n",
      "  from tqdm.autonotebook import tqdm, trange\n"
     ]
    }
   ],
   "source": [
    "# HugoingFace Embeddings를 다운로드\n",
    "from langchain.embeddings import HuggingFaceEmbeddings\n",
    "\n",
    "embeddings_model = HuggingFaceEmbeddings(\n",
    "    model_name=\"snunlp/KR-SBERT-V40K-klueNLI-augSTS\",\n",
    ")\n",
    "\n",
    "# HugoingFace Embedding 모델의 Tokenizer를 사용하여 토큰화\n",
    "from transformers import AutoTokenizer\n",
    "tokenizer = AutoTokenizer.from_pretrained('snunlp/KR-SBERT-V40K-klueNLI-augSTS')"
   ]
  },
  {
   "cell_type": "code",
   "execution_count": 5,
   "metadata": {},
   "outputs": [
    {
     "name": "stdout",
     "output_type": "stream",
     "text": [
      "36\n",
      "page_content='[정보문화사] IT 도서의 새로운 패러다임\\n\\n\\n\\n\\nCJ스타일베너[좌슬라이드]' metadata={'source': 'http://www.infopub.co.kr/new/include/detail.asp?sku=05000274', 'title': '[정보문화사] IT 도서의 새로운 패러다임', 'language': 'No language found.'}\n"
     ]
    }
   ],
   "source": [
    "# Token 수를 기준으ㄹ 문서를 청크 단위로 분할\n",
    "text_splitter = RecursiveCharacterTextSplitter.from_huggingface_tokenizer(\n",
    "    tokenizer = tokenizer,\n",
    "    chunk_size = 120,\n",
    "    chunk_overlap  = 10,\n",
    ")\n",
    "\n",
    "split_docs = text_splitter.split_documents(docs)\n",
    "print(len(split_docs))\n",
    "print(split_docs[0])"
   ]
  },
  {
   "cell_type": "code",
   "execution_count": 7,
   "metadata": {},
   "outputs": [
    {
     "name": "stdout",
     "output_type": "stream",
     "text": [
      "1. **시작부터 전반적인 내용까지 자세히 가이드**: 이 책은 Pandas 2.0 버전의 새로운 기능과 변경된 부분들을 포함하여 다양한 기법과 자료구조, 그리고 기본 문법을 수강하는 비전공자와 입문자를 위한 구성되어 있습니다. 책에는 개념 설명을 돕기 위해 다이어그램 등의 풍부한 도식화를 활용하고 있습니다.\n",
      "\n",
      "2. **실습 중심의 학습 방법**: 이 책은 실습 중심으로 진행하여 지루하고 복잡한 이론을 최소화하는 것이 특징입니다. 이렇게 하여 독자들은 이론을 실제로 경험하면서 실력을 향상시킬 수 있습니다. \n",
      "\n",
      "3. **공식적인 설치부터 시작과 코드 예제까지 가이드**: 이 책은 Pandas의 설치 방법부터 시작해서 다양한 코드 예제를 통해 배우게 되며, 이런 구성 방식으로 독자들은 한 권의 책으로 정확하고 빠르게 실력을 향상시킬 수 있습니다.\n"
     ]
    }
   ],
   "source": [
    "vectorstore = Chroma.from_documents(documents=split_docs, \n",
    "                                    embedding=embeddings_model)\n",
    "\n",
    "retriever = vectorstore.as_retriever()\n",
    "\n",
    "# Prompt\n",
    "template = \"\"\"Answer the question based only on the following context:\n",
    "{context}\n",
    "\n",
    "Question: {question}\n",
    "\"\"\"\n",
    "\n",
    "prompt = ChatPromptTemplate.from_template(template)\n",
    "\n",
    "# Chat Model\n",
    "llm = ChatOllama(model=\"qwen2\")\n",
    "\n",
    "\n",
    "def format_docs(docs):\n",
    "    return \"\\n\\n\".join(doc.page_content for doc in docs)\n",
    "\n",
    "\n",
    "# RAG Chain\n",
    "rag_chain = (\n",
    "    {\"context\": retriever | format_docs, \"question\": RunnablePassthrough()}\n",
    "    | prompt\n",
    "    | llm\n",
    "    | StrOutputParser()\n",
    ")\n",
    "\n",
    "# Chain 실행\n",
    "response = rag_chain.invoke(\"이 책의 특징을 3가지 요점으로 설명해주세요.\")\n",
    "print(response)"
   ]
  },
  {
   "cell_type": "markdown",
   "metadata": {},
   "source": [
    "## Test Data 만들기 - AutoRAG 활용"
   ]
  },
  {
   "cell_type": "code",
   "execution_count": null,
   "metadata": {},
   "outputs": [],
   "source": [
    "import nest_asyncio\n",
    "nest_asyncio.apply()"
   ]
  },
  {
   "cell_type": "code",
   "execution_count": null,
   "metadata": {},
   "outputs": [
    {
     "data": {
      "text/html": [
       "<div>\n",
       "<style scoped>\n",
       "    .dataframe tbody tr th:only-of-type {\n",
       "        vertical-align: middle;\n",
       "    }\n",
       "\n",
       "    .dataframe tbody tr th {\n",
       "        vertical-align: top;\n",
       "    }\n",
       "\n",
       "    .dataframe thead th {\n",
       "        text-align: right;\n",
       "    }\n",
       "</style>\n",
       "<table border=\"1\" class=\"dataframe\">\n",
       "  <thead>\n",
       "    <tr style=\"text-align: right;\">\n",
       "      <th></th>\n",
       "      <th>doc_id</th>\n",
       "      <th>contents</th>\n",
       "      <th>metadata</th>\n",
       "    </tr>\n",
       "  </thead>\n",
       "  <tbody>\n",
       "    <tr>\n",
       "      <th>0</th>\n",
       "      <td>6044ced6-79fc-402f-8908-e5dd135cce70</td>\n",
       "      <td>[정보문화사] IT 도서의 새로운 패러다임\\n\\n\\n\\n\\nCJ스타일베너[좌슬라이드]</td>\n",
       "      <td>{'filename': 'http://www.infopub.co.kr/new/inc...</td>\n",
       "    </tr>\n",
       "    <tr>\n",
       "      <th>1</th>\n",
       "      <td>006209f3-3283-4b8d-927a-0672a1409b69</td>\n",
       "      <td>파이썬 머신러닝 판다스 데이터 분석 개정판\\r\\n\\n\\n\\n저자:</td>\n",
       "      <td>{'filename': 'http://www.infopub.co.kr/new/inc...</td>\n",
       "    </tr>\n",
       "    <tr>\n",
       "      <th>2</th>\n",
       "      <td>8fa203ba-c2e9-4d52-baca-22735b4959b9</td>\n",
       "      <td>저자:\\n\\n오승환\\n\\n\\n\\n역자:\\n\\n\\n\\n\\n구분:\\n\\r\\n\\t\\r\\n...</td>\n",
       "      <td>{'filename': 'http://www.infopub.co.kr/new/inc...</td>\n",
       "    </tr>\n",
       "    <tr>\n",
       "      <th>3</th>\n",
       "      <td>801572ee-935c-4d94-a2c8-84c0b5c3459d</td>\n",
       "      <td>난이도:</td>\n",
       "      <td>{'filename': 'http://www.infopub.co.kr/new/inc...</td>\n",
       "    </tr>\n",
       "    <tr>\n",
       "      <th>4</th>\n",
       "      <td>2208cb11-03d1-4de5-8db2-e014f6c5a5a8</td>\n",
       "      <td>책소개\\n저자소개\\n미리보기\\n오탈자\\n보도자료실\\n샘플자료 다운로드</td>\n",
       "      <td>{'filename': 'http://www.infopub.co.kr/new/inc...</td>\n",
       "    </tr>\n",
       "  </tbody>\n",
       "</table>\n",
       "</div>"
      ],
      "text/plain": [
       "                                 doc_id  \\\n",
       "0  6044ced6-79fc-402f-8908-e5dd135cce70   \n",
       "1  006209f3-3283-4b8d-927a-0672a1409b69   \n",
       "2  8fa203ba-c2e9-4d52-baca-22735b4959b9   \n",
       "3  801572ee-935c-4d94-a2c8-84c0b5c3459d   \n",
       "4  2208cb11-03d1-4de5-8db2-e014f6c5a5a8   \n",
       "\n",
       "                                            contents  \\\n",
       "0    [정보문화사] IT 도서의 새로운 패러다임\\n\\n\\n\\n\\nCJ스타일베너[좌슬라이드]   \n",
       "1               파이썬 머신러닝 판다스 데이터 분석 개정판\\r\\n\\n\\n\\n저자:   \n",
       "2  저자:\\n\\n오승환\\n\\n\\n\\n역자:\\n\\n\\n\\n\\n구분:\\n\\r\\n\\t\\r\\n...   \n",
       "3                                               난이도:   \n",
       "4             책소개\\n저자소개\\n미리보기\\n오탈자\\n보도자료실\\n샘플자료 다운로드   \n",
       "\n",
       "                                            metadata  \n",
       "0  {'filename': 'http://www.infopub.co.kr/new/inc...  \n",
       "1  {'filename': 'http://www.infopub.co.kr/new/inc...  \n",
       "2  {'filename': 'http://www.infopub.co.kr/new/inc...  \n",
       "3  {'filename': 'http://www.infopub.co.kr/new/inc...  \n",
       "4  {'filename': 'http://www.infopub.co.kr/new/inc...  "
      ]
     },
     "execution_count": 11,
     "metadata": {},
     "output_type": "execute_result"
    }
   ],
   "source": [
    "from autorag.data.corpus import langchain_documents_to_parquet\n",
    "corpus_df = langchain_documents_to_parquet(split_docs, 'corpus_data/pandas_book.parquet')\n",
    "corpus_df.head()"
   ]
  },
  {
   "cell_type": "code",
   "execution_count": null,
   "metadata": {},
   "outputs": [
    {
     "data": {
      "text/html": [
       "<div>\n",
       "<style scoped>\n",
       "    .dataframe tbody tr th:only-of-type {\n",
       "        vertical-align: middle;\n",
       "    }\n",
       "\n",
       "    .dataframe tbody tr th {\n",
       "        vertical-align: top;\n",
       "    }\n",
       "\n",
       "    .dataframe thead th {\n",
       "        text-align: right;\n",
       "    }\n",
       "</style>\n",
       "<table border=\"1\" class=\"dataframe\">\n",
       "  <thead>\n",
       "    <tr style=\"text-align: right;\">\n",
       "      <th></th>\n",
       "      <th>qid</th>\n",
       "      <th>retrieval_gt</th>\n",
       "      <th>query</th>\n",
       "      <th>generation_gt</th>\n",
       "    </tr>\n",
       "  </thead>\n",
       "  <tbody>\n",
       "    <tr>\n",
       "      <th>0</th>\n",
       "      <td>4c92e4e1-4fa7-44a9-a467-5e9b587ec5fe</td>\n",
       "      <td>[[70bf58d5-f8ca-4e66-af72-f64d7f12f40b]]</td>\n",
       "      <td>이 자료의 크기는 얼마입니까?</td>\n",
       "      <td>[9267KB입니다.]</td>\n",
       "    </tr>\n",
       "    <tr>\n",
       "      <th>1</th>\n",
       "      <td>487c21eb-ea11-4b7d-b439-624635f2dad2</td>\n",
       "      <td>[[8db88b36-5acc-4663-b804-f2a0f1b1fe32]]</td>\n",
       "      <td>이 책에서 어떤 새로운 내용이 추가되었나요?</td>\n",
       "      <td>[등의 기법과 사례 등을 더해 150쪽 이상의 분량이 더해졌다. 특히 시계열 데이터...</td>\n",
       "    </tr>\n",
       "    <tr>\n",
       "      <th>2</th>\n",
       "      <td>7bfc7453-0c88-4ea8-9357-00d2b6602ef5</td>\n",
       "      <td>[[5a7f7a80-9fc5-4f25-ab04-6b4b21d300cb]]</td>\n",
       "      <td>챗GPT 프롬프트 120% 질문 기술에 대한 보도자료는 언제 발표되었습니다?</td>\n",
       "      <td>[2024년 4월 24일.]</td>\n",
       "    </tr>\n",
       "    <tr>\n",
       "      <th>3</th>\n",
       "      <td>119a1d83-aee7-4b04-abe9-0c8ea3c38cfe</td>\n",
       "      <td>[[a7f166ac-b497-43b3-bc96-dc080ad5092b]]</td>\n",
       "      <td>2023년 7월 19일에 발행된 자료는 무엇인가요?</td>\n",
       "      <td>[파이썬과 엑셀로 시작하는 딥러닝입니다.]</td>\n",
       "    </tr>\n",
       "    <tr>\n",
       "      <th>4</th>\n",
       "      <td>0358ffc9-6334-4dda-ab92-26e7d21a60b3</td>\n",
       "      <td>[[e99c381f-326e-4dd9-a130-6d0b0d4744a6]]</td>\n",
       "      <td>시간에 따른 데이터 변화를 분석하기 위해 어떤 개선 사항이 있었나요?</td>\n",
       "      <td>[대폭 추가되어 시간에 따른 데이터 변화를 효과적으로 분석할 수 있도록 했습니다.]</td>\n",
       "    </tr>\n",
       "  </tbody>\n",
       "</table>\n",
       "</div>"
      ],
      "text/plain": [
       "                                    qid  \\\n",
       "0  4c92e4e1-4fa7-44a9-a467-5e9b587ec5fe   \n",
       "1  487c21eb-ea11-4b7d-b439-624635f2dad2   \n",
       "2  7bfc7453-0c88-4ea8-9357-00d2b6602ef5   \n",
       "3  119a1d83-aee7-4b04-abe9-0c8ea3c38cfe   \n",
       "4  0358ffc9-6334-4dda-ab92-26e7d21a60b3   \n",
       "\n",
       "                               retrieval_gt  \\\n",
       "0  [[70bf58d5-f8ca-4e66-af72-f64d7f12f40b]]   \n",
       "1  [[8db88b36-5acc-4663-b804-f2a0f1b1fe32]]   \n",
       "2  [[5a7f7a80-9fc5-4f25-ab04-6b4b21d300cb]]   \n",
       "3  [[a7f166ac-b497-43b3-bc96-dc080ad5092b]]   \n",
       "4  [[e99c381f-326e-4dd9-a130-6d0b0d4744a6]]   \n",
       "\n",
       "                                        query  \\\n",
       "0                            이 자료의 크기는 얼마입니까?   \n",
       "1                    이 책에서 어떤 새로운 내용이 추가되었나요?   \n",
       "2  챗GPT 프롬프트 120% 질문 기술에 대한 보도자료는 언제 발표되었습니다?   \n",
       "3                2023년 7월 19일에 발행된 자료는 무엇인가요?   \n",
       "4      시간에 따른 데이터 변화를 분석하기 위해 어떤 개선 사항이 있었나요?   \n",
       "\n",
       "                                       generation_gt  \n",
       "0                                       [9267KB입니다.]  \n",
       "1  [등의 기법과 사례 등을 더해 150쪽 이상의 분량이 더해졌다. 특히 시계열 데이터...  \n",
       "2                                    [2024년 4월 24일.]  \n",
       "3                            [파이썬과 엑셀로 시작하는 딥러닝입니다.]  \n",
       "4     [대폭 추가되어 시간에 따른 데이터 변화를 효과적으로 분석할 수 있도록 했습니다.]  "
      ]
     },
     "execution_count": 12,
     "metadata": {},
     "output_type": "execute_result"
    }
   ],
   "source": [
    "import pandas as pd\n",
    "\n",
    "from autorag.data.qacreation import generate_qa_llama_index, make_single_content_qa\n",
    "from llama_index.llms.ollama import Ollama\n",
    "\n",
    "\n",
    "prompt = \"\"\"\n",
    "Generate question and answer pairs for the given passage.\n",
    "\n",
    "Passage:\n",
    "{{text}}\n",
    "\n",
    "Number of questions to generate: {{num_questions}}\n",
    "\n",
    "Example:\n",
    "[Q]: 이 책의 글쓴이는 누구인가요?\n",
    "[A]: 저자의 이름은 홍길동입니다.\n",
    "\n",
    "Result:\n",
    "\"\"\"\n",
    "\n",
    "corpus_df = pd.read_parquet('corpus_data/pandas_book.parquet')\n",
    "\n",
    "llm = Ollama(model='gemma2', temperature=1.0)\n",
    "qa_df = make_single_content_qa(corpus_df, content_size=36, qa_creation_func=generate_qa_llama_index,\n",
    "                            llm=llm, prompt=prompt, question_num_per_content=1)\n",
    "\n",
    "qa_df.head()"
   ]
  },
  {
   "cell_type": "code",
   "execution_count": null,
   "metadata": {},
   "outputs": [],
   "source": [
    "qa_df.to_excel('corpus_data/pandas_book_qa.xlsx', index=False)"
   ]
  },
  {
   "cell_type": "code",
   "execution_count": 9,
   "metadata": {},
   "outputs": [
    {
     "data": {
      "text/html": [
       "<div>\n",
       "<style scoped>\n",
       "    .dataframe tbody tr th:only-of-type {\n",
       "        vertical-align: middle;\n",
       "    }\n",
       "\n",
       "    .dataframe tbody tr th {\n",
       "        vertical-align: top;\n",
       "    }\n",
       "\n",
       "    .dataframe thead th {\n",
       "        text-align: right;\n",
       "    }\n",
       "</style>\n",
       "<table border=\"1\" class=\"dataframe\">\n",
       "  <thead>\n",
       "    <tr style=\"text-align: right;\">\n",
       "      <th></th>\n",
       "      <th>qid</th>\n",
       "      <th>retrieval_gt</th>\n",
       "      <th>query</th>\n",
       "      <th>generation_gt</th>\n",
       "    </tr>\n",
       "  </thead>\n",
       "  <tbody>\n",
       "    <tr>\n",
       "      <th>0</th>\n",
       "      <td>7488c947-8e27-4747-b342-074edbcdde31</td>\n",
       "      <td>[['e63e3b0c-97ed-4f31-b64d-bb60525969be']]</td>\n",
       "      <td>이 책의 개정판은 어떤 점이 추가되었나요?</td>\n",
       "      <td>['최신 버전인 Pandas 2.0 버전에서 추가되거나 변경된 내용을 포함하고 있습...</td>\n",
       "    </tr>\n",
       "    <tr>\n",
       "      <th>1</th>\n",
       "      <td>64a6335b-b871-44a7-8b36-170e151983a1</td>\n",
       "      <td>[['e73993c7-0a14-4702-8a21-0582076e9c10']]</td>\n",
       "      <td>데이터 분석의 기초를 더욱 탄탄하게 다지기 위해 어떤 기법을 추가했나요?</td>\n",
       "      <td>['데이터 정제, 변환, 통합 등 다양한 데이터 전처리 기법을 추가했습니다.']</td>\n",
       "    </tr>\n",
       "    <tr>\n",
       "      <th>2</th>\n",
       "      <td>1152af6c-e9df-42f0-901d-4f8f2ff471f5</td>\n",
       "      <td>[['2208cb11-03d1-4de5-8db2-e014f6c5a5a8']]</td>\n",
       "      <td>이 웹 페이지에서 샘플 자료를 다운로드할 수 있나요?</td>\n",
       "      <td>['네, 샘플자료 다운로드 버튼을 통해 샘플 자료를 다운로드할 수 있습니다.']</td>\n",
       "    </tr>\n",
       "    <tr>\n",
       "      <th>3</th>\n",
       "      <td>bbf40b27-bc8f-4848-977d-098f276437f7</td>\n",
       "      <td>[['aad2ab82-eed4-4e99-9dc0-06a4d3470142']]</td>\n",
       "      <td>데이터 분석에서 시계열 데이터를 처리하는 방법은 무엇인가요?</td>\n",
       "      <td>['시계열 데이터 분석에서 중요한 부분이기 때문에 다른 자료형을 시계열 객체로 변환...</td>\n",
       "    </tr>\n",
       "    <tr>\n",
       "      <th>4</th>\n",
       "      <td>ea6d1f18-67ad-4390-95df-9de430210af1</td>\n",
       "      <td>[['5387af25-ec8b-449e-a4da-f8685c27178a']]</td>\n",
       "      <td>이 책이 데이터 과학자를 되기 위한 첫걸음이라고 하는 이유는 무엇인가요?</td>\n",
       "      <td>['이 책은 어려운 이론을 최소화하고 예제 코드를 따라 하며 사용법에 익숙해지도록 ...</td>\n",
       "    </tr>\n",
       "  </tbody>\n",
       "</table>\n",
       "</div>"
      ],
      "text/plain": [
       "                                    qid  \\\n",
       "0  7488c947-8e27-4747-b342-074edbcdde31   \n",
       "1  64a6335b-b871-44a7-8b36-170e151983a1   \n",
       "2  1152af6c-e9df-42f0-901d-4f8f2ff471f5   \n",
       "3  bbf40b27-bc8f-4848-977d-098f276437f7   \n",
       "4  ea6d1f18-67ad-4390-95df-9de430210af1   \n",
       "\n",
       "                                 retrieval_gt  \\\n",
       "0  [['e63e3b0c-97ed-4f31-b64d-bb60525969be']]   \n",
       "1  [['e73993c7-0a14-4702-8a21-0582076e9c10']]   \n",
       "2  [['2208cb11-03d1-4de5-8db2-e014f6c5a5a8']]   \n",
       "3  [['aad2ab82-eed4-4e99-9dc0-06a4d3470142']]   \n",
       "4  [['5387af25-ec8b-449e-a4da-f8685c27178a']]   \n",
       "\n",
       "                                      query  \\\n",
       "0                   이 책의 개정판은 어떤 점이 추가되었나요?   \n",
       "1  데이터 분석의 기초를 더욱 탄탄하게 다지기 위해 어떤 기법을 추가했나요?   \n",
       "2             이 웹 페이지에서 샘플 자료를 다운로드할 수 있나요?   \n",
       "3         데이터 분석에서 시계열 데이터를 처리하는 방법은 무엇인가요?   \n",
       "4  이 책이 데이터 과학자를 되기 위한 첫걸음이라고 하는 이유는 무엇인가요?   \n",
       "\n",
       "                                       generation_gt  \n",
       "0  ['최신 버전인 Pandas 2.0 버전에서 추가되거나 변경된 내용을 포함하고 있습...  \n",
       "1       ['데이터 정제, 변환, 통합 등 다양한 데이터 전처리 기법을 추가했습니다.']  \n",
       "2       ['네, 샘플자료 다운로드 버튼을 통해 샘플 자료를 다운로드할 수 있습니다.']  \n",
       "3  ['시계열 데이터 분석에서 중요한 부분이기 때문에 다른 자료형을 시계열 객체로 변환...  \n",
       "4  ['이 책은 어려운 이론을 최소화하고 예제 코드를 따라 하며 사용법에 익숙해지도록 ...  "
      ]
     },
     "execution_count": 9,
     "metadata": {},
     "output_type": "execute_result"
    }
   ],
   "source": [
    "# 직접 수정한 QA 데이터를 불러옴\n",
    "qa_data = pd.read_excel('corpus_data/pandas_book_qa_final.xlsx')\n",
    "qa_data.head()"
   ]
  },
  {
   "cell_type": "code",
   "execution_count": null,
   "metadata": {},
   "outputs": [
    {
     "name": "stdout",
     "output_type": "stream",
     "text": [
      "<class 'pandas.core.frame.DataFrame'>\n",
      "RangeIndex: 11 entries, 0 to 10\n",
      "Data columns (total 4 columns):\n",
      " #   Column         Non-Null Count  Dtype \n",
      "---  ------         --------------  ----- \n",
      " 0   qid            11 non-null     object\n",
      " 1   retrieval_gt   11 non-null     object\n",
      " 2   query          11 non-null     object\n",
      " 3   generation_gt  11 non-null     object\n",
      "dtypes: object(4)\n",
      "memory usage: 484.0+ bytes\n"
     ]
    }
   ],
   "source": [
    "qa_data.info()"
   ]
  },
  {
   "cell_type": "code",
   "execution_count": null,
   "metadata": {},
   "outputs": [
    {
     "data": {
      "text/plain": [
       "str"
      ]
     },
     "execution_count": 179,
     "metadata": {},
     "output_type": "execute_result"
    }
   ],
   "source": [
    "type(qa_data['retrieval_gt'][0])"
   ]
  },
  {
   "cell_type": "code",
   "execution_count": null,
   "metadata": {},
   "outputs": [
    {
     "data": {
      "text/plain": [
       "str"
      ]
     },
     "execution_count": 180,
     "metadata": {},
     "output_type": "execute_result"
    }
   ],
   "source": [
    "type(qa_data['generation_gt'][0])"
   ]
  },
  {
   "cell_type": "code",
   "execution_count": 10,
   "metadata": {},
   "outputs": [
    {
     "name": "stdout",
     "output_type": "stream",
     "text": [
      "<class 'pandas.core.frame.DataFrame'>\n",
      "RangeIndex: 11 entries, 0 to 10\n",
      "Data columns (total 4 columns):\n",
      " #   Column         Non-Null Count  Dtype \n",
      "---  ------         --------------  ----- \n",
      " 0   qid            11 non-null     object\n",
      " 1   retrieval_gt   11 non-null     object\n",
      " 2   query          11 non-null     object\n",
      " 3   generation_gt  11 non-null     object\n",
      "dtypes: object(4)\n",
      "memory usage: 484.0+ bytes\n"
     ]
    }
   ],
   "source": [
    "import ast\n",
    "for col in ['retrieval_gt', 'generation_gt']:\n",
    "    qa_data[col] = qa_data[col].apply(ast.literal_eval)\n",
    "\n",
    "qa_data.info()"
   ]
  },
  {
   "cell_type": "code",
   "execution_count": 11,
   "metadata": {},
   "outputs": [
    {
     "data": {
      "text/plain": [
       "list"
      ]
     },
     "execution_count": 11,
     "metadata": {},
     "output_type": "execute_result"
    }
   ],
   "source": [
    "type(qa_data['retrieval_gt'][0])"
   ]
  },
  {
   "cell_type": "code",
   "execution_count": 12,
   "metadata": {},
   "outputs": [
    {
     "data": {
      "text/plain": [
       "list"
      ]
     },
     "execution_count": 12,
     "metadata": {},
     "output_type": "execute_result"
    }
   ],
   "source": [
    "type(qa_data['generation_gt'][0])"
   ]
  },
  {
   "cell_type": "markdown",
   "metadata": {},
   "source": [
    "## RAGAS - RAG Evaluation"
   ]
  },
  {
   "cell_type": "code",
   "execution_count": null,
   "metadata": {},
   "outputs": [
    {
     "name": "stdout",
     "output_type": "stream",
     "text": [
      "이 책의 출판사는 '정보문화사'입니다.\n"
     ]
    }
   ],
   "source": [
    "# Chain 테스트\n",
    "response = rag_chain.invoke(\"이 책의 출판사는 어디인가요?\")\n",
    "print(response)"
   ]
  },
  {
   "cell_type": "code",
   "execution_count": 13,
   "metadata": {},
   "outputs": [
    {
     "data": {
      "text/html": [
       "<div>\n",
       "<style scoped>\n",
       "    .dataframe tbody tr th:only-of-type {\n",
       "        vertical-align: middle;\n",
       "    }\n",
       "\n",
       "    .dataframe tbody tr th {\n",
       "        vertical-align: top;\n",
       "    }\n",
       "\n",
       "    .dataframe thead th {\n",
       "        text-align: right;\n",
       "    }\n",
       "</style>\n",
       "<table border=\"1\" class=\"dataframe\">\n",
       "  <thead>\n",
       "    <tr style=\"text-align: right;\">\n",
       "      <th></th>\n",
       "      <th>question</th>\n",
       "      <th>ground_truth</th>\n",
       "    </tr>\n",
       "  </thead>\n",
       "  <tbody>\n",
       "    <tr>\n",
       "      <th>0</th>\n",
       "      <td>이 책의 개정판은 어떤 점이 추가되었나요?</td>\n",
       "      <td>[최신 버전인 Pandas 2.0 버전에서 추가되거나 변경된 내용을 포함하고 있습니다.]</td>\n",
       "    </tr>\n",
       "    <tr>\n",
       "      <th>1</th>\n",
       "      <td>데이터 분석의 기초를 더욱 탄탄하게 다지기 위해 어떤 기법을 추가했나요?</td>\n",
       "      <td>[데이터 정제, 변환, 통합 등 다양한 데이터 전처리 기법을 추가했습니다.]</td>\n",
       "    </tr>\n",
       "    <tr>\n",
       "      <th>2</th>\n",
       "      <td>이 웹 페이지에서 샘플 자료를 다운로드할 수 있나요?</td>\n",
       "      <td>[네, 샘플자료 다운로드 버튼을 통해 샘플 자료를 다운로드할 수 있습니다.]</td>\n",
       "    </tr>\n",
       "    <tr>\n",
       "      <th>3</th>\n",
       "      <td>데이터 분석에서 시계열 데이터를 처리하는 방법은 무엇인가요?</td>\n",
       "      <td>[시계열 데이터 분석에서 중요한 부분이기 때문에 다른 자료형을 시계열 객체로 변환하...</td>\n",
       "    </tr>\n",
       "    <tr>\n",
       "      <th>4</th>\n",
       "      <td>이 책이 데이터 과학자를 되기 위한 첫걸음이라고 하는 이유는 무엇인가요?</td>\n",
       "      <td>[이 책은 어려운 이론을 최소화하고 예제 코드를 따라 하며 사용법에 익숙해지도록 안...</td>\n",
       "    </tr>\n",
       "  </tbody>\n",
       "</table>\n",
       "</div>"
      ],
      "text/plain": [
       "                                   question  \\\n",
       "0                   이 책의 개정판은 어떤 점이 추가되었나요?   \n",
       "1  데이터 분석의 기초를 더욱 탄탄하게 다지기 위해 어떤 기법을 추가했나요?   \n",
       "2             이 웹 페이지에서 샘플 자료를 다운로드할 수 있나요?   \n",
       "3         데이터 분석에서 시계열 데이터를 처리하는 방법은 무엇인가요?   \n",
       "4  이 책이 데이터 과학자를 되기 위한 첫걸음이라고 하는 이유는 무엇인가요?   \n",
       "\n",
       "                                        ground_truth  \n",
       "0  [최신 버전인 Pandas 2.0 버전에서 추가되거나 변경된 내용을 포함하고 있습니다.]  \n",
       "1         [데이터 정제, 변환, 통합 등 다양한 데이터 전처리 기법을 추가했습니다.]  \n",
       "2         [네, 샘플자료 다운로드 버튼을 통해 샘플 자료를 다운로드할 수 있습니다.]  \n",
       "3  [시계열 데이터 분석에서 중요한 부분이기 때문에 다른 자료형을 시계열 객체로 변환하...  \n",
       "4  [이 책은 어려운 이론을 최소화하고 예제 코드를 따라 하며 사용법에 익숙해지도록 안...  "
      ]
     },
     "execution_count": 13,
     "metadata": {},
     "output_type": "execute_result"
    }
   ],
   "source": [
    "qa_data = qa_data[['query', 'generation_gt']]\n",
    "qa_data.columns = ['question', 'ground_truth']\n",
    "qa_data.head()"
   ]
  },
  {
   "cell_type": "code",
   "execution_count": 185,
   "metadata": {},
   "outputs": [
    {
     "name": "stderr",
     "output_type": "stream",
     "text": [
      "/var/folders/vp/t7xb2kg161q5m2ylkq9jn7k00000gn/T/ipykernel_46596/1755535353.py:1: SettingWithCopyWarning: \n",
      "A value is trying to be set on a copy of a slice from a DataFrame.\n",
      "Try using .loc[row_indexer,col_indexer] = value instead\n",
      "\n",
      "See the caveats in the documentation: https://pandas.pydata.org/pandas-docs/stable/user_guide/indexing.html#returning-a-view-versus-a-copy\n",
      "  qa_data['ground_truth'] = qa_data['ground_truth'].apply(lambda x: x[0] )\n",
      "/var/folders/vp/t7xb2kg161q5m2ylkq9jn7k00000gn/T/ipykernel_46596/1755535353.py:2: SettingWithCopyWarning: \n",
      "A value is trying to be set on a copy of a slice from a DataFrame.\n",
      "Try using .loc[row_indexer,col_indexer] = value instead\n",
      "\n",
      "See the caveats in the documentation: https://pandas.pydata.org/pandas-docs/stable/user_guide/indexing.html#returning-a-view-versus-a-copy\n",
      "  qa_data['answer'] = qa_data['question'].apply(lambda x: rag_chain.invoke(x) )\n"
     ]
    },
    {
     "data": {
      "text/html": [
       "<div>\n",
       "<style scoped>\n",
       "    .dataframe tbody tr th:only-of-type {\n",
       "        vertical-align: middle;\n",
       "    }\n",
       "\n",
       "    .dataframe tbody tr th {\n",
       "        vertical-align: top;\n",
       "    }\n",
       "\n",
       "    .dataframe thead th {\n",
       "        text-align: right;\n",
       "    }\n",
       "</style>\n",
       "<table border=\"1\" class=\"dataframe\">\n",
       "  <thead>\n",
       "    <tr style=\"text-align: right;\">\n",
       "      <th></th>\n",
       "      <th>question</th>\n",
       "      <th>ground_truth</th>\n",
       "      <th>answer</th>\n",
       "      <th>contexts</th>\n",
       "    </tr>\n",
       "  </thead>\n",
       "  <tbody>\n",
       "    <tr>\n",
       "      <th>0</th>\n",
       "      <td>이 책의 개정판은 어떤 점이 추가되었나요?</td>\n",
       "      <td>최신 버전인 Pandas 2.0 버전에서 추가되거나 변경된 내용을 포함하고 있습니다.</td>\n",
       "      <td>이 책의 개정판에는 Pandas 2.0 버전에서 추가되거나 변경된 내용, 시계열 데...</td>\n",
       "      <td>[비전공자와 입문자의 마음을 사로잡은 강의가 개정판으로 돌아왔다. 최신 버전인 Pa...</td>\n",
       "    </tr>\n",
       "    <tr>\n",
       "      <th>1</th>\n",
       "      <td>데이터 분석의 기초를 더욱 탄탄하게 다지기 위해 어떤 기법을 추가했나요?</td>\n",
       "      <td>데이터 정제, 변환, 통합 등 다양한 데이터 전처리 기법을 추가했습니다.</td>\n",
       "      <td>데이터 분석의 기초를 더욱 탄탄하게 다지기 위해 추가된 기법은 \"데이터 정제, 변환...</td>\n",
       "      <td>[다양화했다. 데이터 정제, 변환, 통합 등 다양한 데이터 전처리 기법을 추가하여 ...</td>\n",
       "    </tr>\n",
       "    <tr>\n",
       "      <th>2</th>\n",
       "      <td>이 웹 페이지에서 샘플 자료를 다운로드할 수 있나요?</td>\n",
       "      <td>네, 샘플자료 다운로드 버튼을 통해 샘플 자료를 다운로드할 수 있습니다.</td>\n",
       "      <td>문献提供的描述中并没有明确提到是否可以下载样例资料。但考虑到页面提及了\"출판사 서평예제 중...</td>\n",
       "      <td>[점이나 책과 관련된 요청 사항을 전달할 수 있다. 출판사 서평예제 중심으로 실무용...</td>\n",
       "    </tr>\n",
       "    <tr>\n",
       "      <th>3</th>\n",
       "      <td>데이터 분석에서 시계열 데이터를 처리하는 방법은 무엇인가요?</td>\n",
       "      <td>시계열 데이터 분석에서 중요한 부분이기 때문에 다른 자료형을 시계열 객체로 변환하는...</td>\n",
       "      <td>데이터 분석에서 시계열 데이터를 처리하는 방법에는 여러 가지가 있습니다.\\n\\n1....</td>\n",
       "      <td>[데이터에 특히 많이 쓰인다. 데이터 분석에서 중요한 부분이기 때문에 다른 자료형을...</td>\n",
       "    </tr>\n",
       "    <tr>\n",
       "      <th>4</th>\n",
       "      <td>이 책이 데이터 과학자를 되기 위한 첫걸음이라고 하는 이유는 무엇인가요?</td>\n",
       "      <td>이 책은 어려운 이론을 최소화하고 예제 코드를 따라 하며 사용법에 익숙해지도록 안내...</td>\n",
       "      <td>이 책이 '데이터 과학자를 되기 위한 첫 걸음'이라고 할 수 있는 이유는 다음과 같...</td>\n",
       "      <td>[데이터 과학자가 되기 위한 첫걸음!어려운 이론은 최소화하고, 예제 코드를 따라 하...</td>\n",
       "    </tr>\n",
       "  </tbody>\n",
       "</table>\n",
       "</div>"
      ],
      "text/plain": [
       "                                   question  \\\n",
       "0                   이 책의 개정판은 어떤 점이 추가되었나요?   \n",
       "1  데이터 분석의 기초를 더욱 탄탄하게 다지기 위해 어떤 기법을 추가했나요?   \n",
       "2             이 웹 페이지에서 샘플 자료를 다운로드할 수 있나요?   \n",
       "3         데이터 분석에서 시계열 데이터를 처리하는 방법은 무엇인가요?   \n",
       "4  이 책이 데이터 과학자를 되기 위한 첫걸음이라고 하는 이유는 무엇인가요?   \n",
       "\n",
       "                                        ground_truth  \\\n",
       "0    최신 버전인 Pandas 2.0 버전에서 추가되거나 변경된 내용을 포함하고 있습니다.   \n",
       "1           데이터 정제, 변환, 통합 등 다양한 데이터 전처리 기법을 추가했습니다.   \n",
       "2           네, 샘플자료 다운로드 버튼을 통해 샘플 자료를 다운로드할 수 있습니다.   \n",
       "3  시계열 데이터 분석에서 중요한 부분이기 때문에 다른 자료형을 시계열 객체로 변환하는...   \n",
       "4  이 책은 어려운 이론을 최소화하고 예제 코드를 따라 하며 사용법에 익숙해지도록 안내...   \n",
       "\n",
       "                                              answer  \\\n",
       "0  이 책의 개정판에는 Pandas 2.0 버전에서 추가되거나 변경된 내용, 시계열 데...   \n",
       "1  데이터 분석의 기초를 더욱 탄탄하게 다지기 위해 추가된 기법은 \"데이터 정제, 변환...   \n",
       "2  문献提供的描述中并没有明确提到是否可以下载样例资料。但考虑到页面提及了\"출판사 서평예제 중...   \n",
       "3  데이터 분석에서 시계열 데이터를 처리하는 방법에는 여러 가지가 있습니다.\\n\\n1....   \n",
       "4  이 책이 '데이터 과학자를 되기 위한 첫 걸음'이라고 할 수 있는 이유는 다음과 같...   \n",
       "\n",
       "                                            contexts  \n",
       "0  [비전공자와 입문자의 마음을 사로잡은 강의가 개정판으로 돌아왔다. 최신 버전인 Pa...  \n",
       "1  [다양화했다. 데이터 정제, 변환, 통합 등 다양한 데이터 전처리 기법을 추가하여 ...  \n",
       "2  [점이나 책과 관련된 요청 사항을 전달할 수 있다. 출판사 서평예제 중심으로 실무용...  \n",
       "3  [데이터에 특히 많이 쓰인다. 데이터 분석에서 중요한 부분이기 때문에 다른 자료형을...  \n",
       "4  [데이터 과학자가 되기 위한 첫걸음!어려운 이론은 최소화하고, 예제 코드를 따라 하...  "
      ]
     },
     "execution_count": 185,
     "metadata": {},
     "output_type": "execute_result"
    }
   ],
   "source": [
    "qa_data['ground_truth'] = qa_data['ground_truth'].apply(lambda x: x[0] )\n",
    "qa_data['answer'] = qa_data['question'].apply(lambda x: rag_chain.invoke(x) )\n",
    "qa_data['contexts'] = qa_data['question'].apply(lambda x: [d.page_content for d in retriever.get_relevant_documents(x)] )\n",
    "qa_data.head()"
   ]
  },
  {
   "cell_type": "code",
   "execution_count": 187,
   "metadata": {},
   "outputs": [
    {
     "data": {
      "text/plain": [
       "{'question': '이 책의 개정판은 어떤 점이 추가되었나요?',\n",
       " 'ground_truth': '최신 버전인 Pandas 2.0 버전에서 추가되거나 변경된 내용을 포함하고 있습니다.',\n",
       " 'answer': '이 책의 개정판에는 Pandas 2.0 버전에서 추가되거나 변경된 내용, 시계열 데이터 처리 등의 기법과 다양한 데이터 시각화, 데이터 전처리 기법 등이 추가되었습니다.',\n",
       " 'contexts': ['비전공자와 입문자의 마음을 사로잡은 강의가 개정판으로 돌아왔다. 최신 버전인 Pandas 2.0 버전에서 추가되거나 변경된 내용을 포함하여 시계열 데이터 처리 등의 기법과',\n",
       "  '만큼 더욱 자세한 설명과 다양한 데이터 시각화, 데이터 전처리 기법을 담았으며, Pandas 2.0 버전에서 추가되거나 변경된 내용을 풍부하게 담아 데이터 분석에',\n",
       "  '큰 인기를 얻어 준비된 이번 개정판에서는 저자가 실무에서 쌓은 경험을 자연스럽게 녹이기 위해 노력했다. 여러 기업과 대학에서 계속 강의를 해오고 있는 만큼 더욱',\n",
       "  '소개하고 설치부터 예제 코드까지 따라 할 수 있게 구성했다. 개념 이해를 돕기 위해 다이어그램 등 풍부한 도식화도 적극 활용했다. 1판에서 큰 인기를']}"
      ]
     },
     "execution_count": 187,
     "metadata": {},
     "output_type": "execute_result"
    }
   ],
   "source": [
    "from datasets import Dataset \n",
    "\n",
    "dataset = Dataset.from_pandas(qa_data)\n",
    "\n",
    "dataset[0]"
   ]
  },
  {
   "cell_type": "code",
   "execution_count": 188,
   "metadata": {},
   "outputs": [],
   "source": [
    "from ragas.metrics import (\n",
    "    faithfulness,\n",
    "    answer_relevancy,\n",
    "    context_recall,\n",
    "    context_precision,\n",
    ")"
   ]
  },
  {
   "cell_type": "code",
   "execution_count": 189,
   "metadata": {},
   "outputs": [
    {
     "data": {
      "application/vnd.jupyter.widget-view+json": {
       "model_id": "cf5ae619a3bd46afb6dd93b2f08ccd0a",
       "version_major": 2,
       "version_minor": 0
      },
      "text/plain": [
       "Evaluating:   0%|          | 0/44 [00:00<?, ?it/s]"
      ]
     },
     "metadata": {},
     "output_type": "display_data"
    },
    {
     "data": {
      "text/html": [
       "<pre style=\"white-space:pre;overflow-x:auto;line-height:normal;font-family:Menlo,'DejaVu Sans Mono',consolas,'Courier New',monospace\"><span style=\"color: #7fbfbf; text-decoration-color: #7fbfbf\">[06/29/24 05:27:25] </span><span style=\"color: #800000; text-decoration-color: #800000\">WARNING </span> <span style=\"font-weight: bold\">[</span>output_parser.py:<span style=\"color: #008080; text-decoration-color: #008080; font-weight: bold\">71</span><span style=\"font-weight: bold\">]</span> &gt;&gt; Failed to parse output. Returning <span style=\"color: #800080; text-decoration-color: #800080; font-style: italic\">None</span>.   <a href=\"file:///Users/wiggler/Library/Caches/pypoetry/virtualenvs/langfuse-practice-ygCFMd-0-py3.11/lib/python3.11/site-packages/ragas/llms/output_parser.py\" target=\"_blank\"><span style=\"color: #7f7f7f; text-decoration-color: #7f7f7f\">output_parser.py</span></a><span style=\"color: #7f7f7f; text-decoration-color: #7f7f7f\">:</span><a href=\"file:///Users/wiggler/Library/Caches/pypoetry/virtualenvs/langfuse-practice-ygCFMd-0-py3.11/lib/python3.11/site-packages/ragas/llms/output_parser.py#71\" target=\"_blank\"><span style=\"color: #7f7f7f; text-decoration-color: #7f7f7f\">71</span></a>\n",
       "</pre>\n"
      ],
      "text/plain": [
       "\u001b[2;36m[06/29/24 05:27:25]\u001b[0m\u001b[2;36m \u001b[0m\u001b[31mWARNING \u001b[0m \u001b[1m[\u001b[0moutput_parser.py:\u001b[1;36m71\u001b[0m\u001b[1m]\u001b[0m >> Failed to parse output. Returning \u001b[3;35mNone\u001b[0m.   \u001b]8;id=346523;file:///Users/wiggler/Library/Caches/pypoetry/virtualenvs/langfuse-practice-ygCFMd-0-py3.11/lib/python3.11/site-packages/ragas/llms/output_parser.py\u001b\\\u001b[2moutput_parser.py\u001b[0m\u001b]8;;\u001b\\\u001b[2m:\u001b[0m\u001b]8;id=495101;file:///Users/wiggler/Library/Caches/pypoetry/virtualenvs/langfuse-practice-ygCFMd-0-py3.11/lib/python3.11/site-packages/ragas/llms/output_parser.py#71\u001b\\\u001b[2m71\u001b[0m\u001b]8;;\u001b\\\n"
      ]
     },
     "metadata": {},
     "output_type": "display_data"
    },
    {
     "data": {
      "text/plain": [
       "{'faithfulness': 0.9076, 'answer_relevancy': 0.3192, 'context_recall': 0.9000, 'context_precision': 0.9672}"
      ]
     },
     "execution_count": 189,
     "metadata": {},
     "output_type": "execute_result"
    }
   ],
   "source": [
    "from ragas import evaluate\n",
    "from langchain_community.chat_models import ChatOllama\n",
    "from langchain_community.embeddings.ollama import OllamaEmbeddings\n",
    "\n",
    "langchain_llm =  ChatOllama(model=\"gemma2\")\n",
    "langchain_embeddings = OllamaEmbeddings(model=\"gemma2\")\n",
    "\n",
    "result = evaluate(\n",
    "    dataset,\n",
    "    metrics = [\n",
    "        faithfulness,\n",
    "        answer_relevancy,\n",
    "        context_recall,\n",
    "        context_precision,\n",
    "    ],\n",
    "    llm=langchain_llm, \n",
    "    embeddings=langchain_embeddings,\n",
    "    raise_exceptions=False,\n",
    ")\n",
    "\n",
    "result"
   ]
  },
  {
   "cell_type": "markdown",
   "metadata": {},
   "source": [
    "## Gemma2 모델을 사용한 RAG Chain"
   ]
  },
  {
   "cell_type": "code",
   "execution_count": 190,
   "metadata": {},
   "outputs": [
    {
     "data": {
      "text/html": [
       "<div>\n",
       "<style scoped>\n",
       "    .dataframe tbody tr th:only-of-type {\n",
       "        vertical-align: middle;\n",
       "    }\n",
       "\n",
       "    .dataframe tbody tr th {\n",
       "        vertical-align: top;\n",
       "    }\n",
       "\n",
       "    .dataframe thead th {\n",
       "        text-align: right;\n",
       "    }\n",
       "</style>\n",
       "<table border=\"1\" class=\"dataframe\">\n",
       "  <thead>\n",
       "    <tr style=\"text-align: right;\">\n",
       "      <th></th>\n",
       "      <th>question</th>\n",
       "      <th>ground_truth</th>\n",
       "      <th>answer</th>\n",
       "      <th>contexts</th>\n",
       "    </tr>\n",
       "  </thead>\n",
       "  <tbody>\n",
       "    <tr>\n",
       "      <th>0</th>\n",
       "      <td>이 책의 개정판은 어떤 점이 추가되었나요?</td>\n",
       "      <td>최신 버전인 Pandas 2.0 버전에서 추가되거나 변경된 내용을 포함하고 있습니다.</td>\n",
       "      <td>이 책의 개정판에서는 다음과 같은 점이 추가되었습니다.\\n\\n* Pandas 2.0...</td>\n",
       "      <td>[비전공자와 입문자의 마음을 사로잡은 강의가 개정판으로 돌아왔다. 최신 버전인 Pa...</td>\n",
       "    </tr>\n",
       "    <tr>\n",
       "      <th>1</th>\n",
       "      <td>데이터 분석의 기초를 더욱 탄탄하게 다지기 위해 어떤 기법을 추가했나요?</td>\n",
       "      <td>데이터 정제, 변환, 통합 등 다양한 데이터 전처리 기법을 추가했습니다.</td>\n",
       "      <td>데이터 정제, 변환, 통합 등 다양한 데이터 전처리 기법을 추가했습니다. \\n</td>\n",
       "      <td>[다양화했다. 데이터 정제, 변환, 통합 등 다양한 데이터 전처리 기법을 추가하여 ...</td>\n",
       "    </tr>\n",
       "    <tr>\n",
       "      <th>2</th>\n",
       "      <td>이 웹 페이지에서 샘플 자료를 다운로드할 수 있나요?</td>\n",
       "      <td>네, 샘플자료 다운로드 버튼을 통해 샘플 자료를 다운로드할 수 있습니다.</td>\n",
       "      <td>The provided text does not mention anything ab...</td>\n",
       "      <td>[점이나 책과 관련된 요청 사항을 전달할 수 있다. 출판사 서평예제 중심으로 실무용...</td>\n",
       "    </tr>\n",
       "    <tr>\n",
       "      <th>3</th>\n",
       "      <td>데이터 분석에서 시계열 데이터를 처리하는 방법은 무엇인가요?</td>\n",
       "      <td>시계열 데이터 분석에서 중요한 부분이기 때문에 다른 자료형을 시계열 객체로 변환하는...</td>\n",
       "      <td>시계열 데이터 처리 기법, 시계열 데이터 변환, 시계열 데이터 분석 등 다양한 방법...</td>\n",
       "      <td>[데이터에 특히 많이 쓰인다. 데이터 분석에서 중요한 부분이기 때문에 다른 자료형을...</td>\n",
       "    </tr>\n",
       "    <tr>\n",
       "      <th>4</th>\n",
       "      <td>이 책이 데이터 과학자를 되기 위한 첫걸음이라고 하는 이유는 무엇인가요?</td>\n",
       "      <td>이 책은 어려운 이론을 최소화하고 예제 코드를 따라 하며 사용법에 익숙해지도록 안내...</td>\n",
       "      <td>이 책이 데이터 과학자를 되기 위한 첫걸음이라고 하는 이유는 어려운 이론을 최소화하...</td>\n",
       "      <td>[데이터 과학자가 되기 위한 첫걸음!어려운 이론은 최소화하고, 예제 코드를 따라 하...</td>\n",
       "    </tr>\n",
       "  </tbody>\n",
       "</table>\n",
       "</div>"
      ],
      "text/plain": [
       "                                   question  \\\n",
       "0                   이 책의 개정판은 어떤 점이 추가되었나요?   \n",
       "1  데이터 분석의 기초를 더욱 탄탄하게 다지기 위해 어떤 기법을 추가했나요?   \n",
       "2             이 웹 페이지에서 샘플 자료를 다운로드할 수 있나요?   \n",
       "3         데이터 분석에서 시계열 데이터를 처리하는 방법은 무엇인가요?   \n",
       "4  이 책이 데이터 과학자를 되기 위한 첫걸음이라고 하는 이유는 무엇인가요?   \n",
       "\n",
       "                                        ground_truth  \\\n",
       "0    최신 버전인 Pandas 2.0 버전에서 추가되거나 변경된 내용을 포함하고 있습니다.   \n",
       "1           데이터 정제, 변환, 통합 등 다양한 데이터 전처리 기법을 추가했습니다.   \n",
       "2           네, 샘플자료 다운로드 버튼을 통해 샘플 자료를 다운로드할 수 있습니다.   \n",
       "3  시계열 데이터 분석에서 중요한 부분이기 때문에 다른 자료형을 시계열 객체로 변환하는...   \n",
       "4  이 책은 어려운 이론을 최소화하고 예제 코드를 따라 하며 사용법에 익숙해지도록 안내...   \n",
       "\n",
       "                                              answer  \\\n",
       "0  이 책의 개정판에서는 다음과 같은 점이 추가되었습니다.\\n\\n* Pandas 2.0...   \n",
       "1        데이터 정제, 변환, 통합 등 다양한 데이터 전처리 기법을 추가했습니다. \\n   \n",
       "2  The provided text does not mention anything ab...   \n",
       "3  시계열 데이터 처리 기법, 시계열 데이터 변환, 시계열 데이터 분석 등 다양한 방법...   \n",
       "4  이 책이 데이터 과학자를 되기 위한 첫걸음이라고 하는 이유는 어려운 이론을 최소화하...   \n",
       "\n",
       "                                            contexts  \n",
       "0  [비전공자와 입문자의 마음을 사로잡은 강의가 개정판으로 돌아왔다. 최신 버전인 Pa...  \n",
       "1  [다양화했다. 데이터 정제, 변환, 통합 등 다양한 데이터 전처리 기법을 추가하여 ...  \n",
       "2  [점이나 책과 관련된 요청 사항을 전달할 수 있다. 출판사 서평예제 중심으로 실무용...  \n",
       "3  [데이터에 특히 많이 쓰인다. 데이터 분석에서 중요한 부분이기 때문에 다른 자료형을...  \n",
       "4  [데이터 과학자가 되기 위한 첫걸음!어려운 이론은 최소화하고, 예제 코드를 따라 하...  "
      ]
     },
     "execution_count": 190,
     "metadata": {},
     "output_type": "execute_result"
    }
   ],
   "source": [
    "# Prompt\n",
    "template = \"\"\"Answer the question based only on the following context:\n",
    "{context}\n",
    "\n",
    "Question: {question}\n",
    "\"\"\"\n",
    "\n",
    "prompt = ChatPromptTemplate.from_template(template)\n",
    "\n",
    "# Chat Model\n",
    "llm = ChatOllama(model=\"gemma2\")\n",
    "\n",
    "rag_chain2 = (\n",
    "    {\"context\": retriever | format_docs, \"question\": RunnablePassthrough()}\n",
    "    | prompt\n",
    "    | llm\n",
    "    | StrOutputParser()\n",
    ")\n",
    "\n",
    "qa_data2 = qa_data.copy()\n",
    "qa_data2['answer'] = qa_data2['question'].apply(lambda x: rag_chain2.invoke(x) )\n",
    "qa_data2.head()"
   ]
  },
  {
   "cell_type": "code",
   "execution_count": 191,
   "metadata": {},
   "outputs": [
    {
     "data": {
      "application/vnd.jupyter.widget-view+json": {
       "model_id": "9626c90e4fa1475c9851f0da028b1665",
       "version_major": 2,
       "version_minor": 0
      },
      "text/plain": [
       "Evaluating:   0%|          | 0/44 [00:00<?, ?it/s]"
      ]
     },
     "metadata": {},
     "output_type": "display_data"
    },
    {
     "data": {
      "text/html": [
       "<pre style=\"white-space:pre;overflow-x:auto;line-height:normal;font-family:Menlo,'DejaVu Sans Mono',consolas,'Courier New',monospace\"><span style=\"color: #7fbfbf; text-decoration-color: #7fbfbf\">[06/29/24 05:40:24] </span><span style=\"color: #800000; text-decoration-color: #800000\">WARNING </span> <span style=\"font-weight: bold\">[</span>output_parser.py:<span style=\"color: #008080; text-decoration-color: #008080; font-weight: bold\">71</span><span style=\"font-weight: bold\">]</span> &gt;&gt; Failed to parse output. Returning <span style=\"color: #800080; text-decoration-color: #800080; font-style: italic\">None</span>.   <a href=\"file:///Users/wiggler/Library/Caches/pypoetry/virtualenvs/langfuse-practice-ygCFMd-0-py3.11/lib/python3.11/site-packages/ragas/llms/output_parser.py\" target=\"_blank\"><span style=\"color: #7f7f7f; text-decoration-color: #7f7f7f\">output_parser.py</span></a><span style=\"color: #7f7f7f; text-decoration-color: #7f7f7f\">:</span><a href=\"file:///Users/wiggler/Library/Caches/pypoetry/virtualenvs/langfuse-practice-ygCFMd-0-py3.11/lib/python3.11/site-packages/ragas/llms/output_parser.py#71\" target=\"_blank\"><span style=\"color: #7f7f7f; text-decoration-color: #7f7f7f\">71</span></a>\n",
       "</pre>\n"
      ],
      "text/plain": [
       "\u001b[2;36m[06/29/24 05:40:24]\u001b[0m\u001b[2;36m \u001b[0m\u001b[31mWARNING \u001b[0m \u001b[1m[\u001b[0moutput_parser.py:\u001b[1;36m71\u001b[0m\u001b[1m]\u001b[0m >> Failed to parse output. Returning \u001b[3;35mNone\u001b[0m.   \u001b]8;id=567075;file:///Users/wiggler/Library/Caches/pypoetry/virtualenvs/langfuse-practice-ygCFMd-0-py3.11/lib/python3.11/site-packages/ragas/llms/output_parser.py\u001b\\\u001b[2moutput_parser.py\u001b[0m\u001b]8;;\u001b\\\u001b[2m:\u001b[0m\u001b]8;id=816044;file:///Users/wiggler/Library/Caches/pypoetry/virtualenvs/langfuse-practice-ygCFMd-0-py3.11/lib/python3.11/site-packages/ragas/llms/output_parser.py#71\u001b\\\u001b[2m71\u001b[0m\u001b]8;;\u001b\\\n"
      ]
     },
     "metadata": {},
     "output_type": "display_data"
    },
    {
     "data": {
      "text/html": [
       "<pre style=\"white-space:pre;overflow-x:auto;line-height:normal;font-family:Menlo,'DejaVu Sans Mono',consolas,'Courier New',monospace\"><span style=\"color: #7fbfbf; text-decoration-color: #7fbfbf\">[06/29/24 05:43:03] </span><span style=\"color: #800000; text-decoration-color: #800000\">WARNING </span> <span style=\"font-weight: bold\">[</span>output_parser.py:<span style=\"color: #008080; text-decoration-color: #008080; font-weight: bold\">71</span><span style=\"font-weight: bold\">]</span> &gt;&gt; Failed to parse output. Returning <span style=\"color: #800080; text-decoration-color: #800080; font-style: italic\">None</span>.   <a href=\"file:///Users/wiggler/Library/Caches/pypoetry/virtualenvs/langfuse-practice-ygCFMd-0-py3.11/lib/python3.11/site-packages/ragas/llms/output_parser.py\" target=\"_blank\"><span style=\"color: #7f7f7f; text-decoration-color: #7f7f7f\">output_parser.py</span></a><span style=\"color: #7f7f7f; text-decoration-color: #7f7f7f\">:</span><a href=\"file:///Users/wiggler/Library/Caches/pypoetry/virtualenvs/langfuse-practice-ygCFMd-0-py3.11/lib/python3.11/site-packages/ragas/llms/output_parser.py#71\" target=\"_blank\"><span style=\"color: #7f7f7f; text-decoration-color: #7f7f7f\">71</span></a>\n",
       "</pre>\n"
      ],
      "text/plain": [
       "\u001b[2;36m[06/29/24 05:43:03]\u001b[0m\u001b[2;36m \u001b[0m\u001b[31mWARNING \u001b[0m \u001b[1m[\u001b[0moutput_parser.py:\u001b[1;36m71\u001b[0m\u001b[1m]\u001b[0m >> Failed to parse output. Returning \u001b[3;35mNone\u001b[0m.   \u001b]8;id=821002;file:///Users/wiggler/Library/Caches/pypoetry/virtualenvs/langfuse-practice-ygCFMd-0-py3.11/lib/python3.11/site-packages/ragas/llms/output_parser.py\u001b\\\u001b[2moutput_parser.py\u001b[0m\u001b]8;;\u001b\\\u001b[2m:\u001b[0m\u001b]8;id=28536;file:///Users/wiggler/Library/Caches/pypoetry/virtualenvs/langfuse-practice-ygCFMd-0-py3.11/lib/python3.11/site-packages/ragas/llms/output_parser.py#71\u001b\\\u001b[2m71\u001b[0m\u001b]8;;\u001b\\\n"
      ]
     },
     "metadata": {},
     "output_type": "display_data"
    },
    {
     "data": {
      "text/plain": [
       "{'faithfulness': 0.9000, 'answer_relevancy': 0.3450, 'context_recall': 0.9000, 'context_precision': 0.9672}"
      ]
     },
     "execution_count": 191,
     "metadata": {},
     "output_type": "execute_result"
    }
   ],
   "source": [
    "dataset2 = Dataset.from_pandas(qa_data2)\n",
    "\n",
    "result2 = evaluate(\n",
    "    dataset2,\n",
    "    metrics = [\n",
    "        faithfulness,\n",
    "        answer_relevancy,\n",
    "        context_recall,\n",
    "        context_precision,\n",
    "    ],\n",
    "    llm=langchain_llm, \n",
    "    embeddings=langchain_embeddings,\n",
    "    raise_exceptions=False,\n",
    ")\n",
    "\n",
    "result2"
   ]
  },
  {
   "cell_type": "markdown",
   "metadata": {},
   "source": [
    "## 모델 성능 비교"
   ]
  },
  {
   "cell_type": "code",
   "execution_count": 192,
   "metadata": {},
   "outputs": [
    {
     "data": {
      "text/html": [
       "<div>\n",
       "<style scoped>\n",
       "    .dataframe tbody tr th:only-of-type {\n",
       "        vertical-align: middle;\n",
       "    }\n",
       "\n",
       "    .dataframe tbody tr th {\n",
       "        vertical-align: top;\n",
       "    }\n",
       "\n",
       "    .dataframe thead th {\n",
       "        text-align: right;\n",
       "    }\n",
       "</style>\n",
       "<table border=\"1\" class=\"dataframe\">\n",
       "  <thead>\n",
       "    <tr style=\"text-align: right;\">\n",
       "      <th></th>\n",
       "      <th>Metric</th>\n",
       "      <th>Qwen2</th>\n",
       "      <th>Gemma2</th>\n",
       "    </tr>\n",
       "  </thead>\n",
       "  <tbody>\n",
       "    <tr>\n",
       "      <th>0</th>\n",
       "      <td>faithfulness</td>\n",
       "      <td>0.907576</td>\n",
       "      <td>0.900000</td>\n",
       "    </tr>\n",
       "    <tr>\n",
       "      <th>1</th>\n",
       "      <td>answer_relevancy</td>\n",
       "      <td>0.319209</td>\n",
       "      <td>0.345019</td>\n",
       "    </tr>\n",
       "    <tr>\n",
       "      <th>2</th>\n",
       "      <td>context_recall</td>\n",
       "      <td>0.900000</td>\n",
       "      <td>0.900000</td>\n",
       "    </tr>\n",
       "    <tr>\n",
       "      <th>3</th>\n",
       "      <td>context_precision</td>\n",
       "      <td>0.967172</td>\n",
       "      <td>0.967172</td>\n",
       "    </tr>\n",
       "  </tbody>\n",
       "</table>\n",
       "</div>"
      ],
      "text/plain": [
       "              Metric     Qwen2    Gemma2\n",
       "0       faithfulness  0.907576  0.900000\n",
       "1   answer_relevancy  0.319209  0.345019\n",
       "2     context_recall  0.900000  0.900000\n",
       "3  context_precision  0.967172  0.967172"
      ]
     },
     "execution_count": 192,
     "metadata": {},
     "output_type": "execute_result"
    }
   ],
   "source": [
    "df1 = pd.DataFrame(list(result.items()), columns=['Metric', 'Qwen2'])\n",
    "df2 = pd.DataFrame(list(result2.items()), columns=['Metric', 'Gemma2'])\n",
    "\n",
    "df_result = pd.merge(df1, df2, on='Metric')\n",
    "df_result"
   ]
  }
 ],
 "metadata": {
  "kernelspec": {
   "display_name": "langfuse-practice-ygCFMd-0-py3.11",
   "language": "python",
   "name": "python3"
  },
  "language_info": {
   "codemirror_mode": {
    "name": "ipython",
    "version": 3
   },
   "file_extension": ".py",
   "mimetype": "text/x-python",
   "name": "python",
   "nbconvert_exporter": "python",
   "pygments_lexer": "ipython3",
   "version": "3.11.9"
  }
 },
 "nbformat": 4,
 "nbformat_minor": 2
}
