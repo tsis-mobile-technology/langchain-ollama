{
 "cells": [
  {
   "cell_type": "markdown",
   "id": "4019d1fe",
   "metadata": {},
   "source": [
    "## 환경 설정"
   ]
  },
  {
   "cell_type": "code",
   "execution_count": 1,
   "id": "5ace4e4a",
   "metadata": {},
   "outputs": [
    {
     "data": {
      "text/plain": [
       "True"
      ]
     },
     "execution_count": 1,
     "metadata": {},
     "output_type": "execute_result"
    }
   ],
   "source": [
    "import os\n",
    "from glob import glob\n",
    "\n",
    "from pprint import pprint\n",
    "import json\n",
    "\n",
    "import numpy as np\n",
    "import pandas as pd\n",
    "\n",
    "from dotenv import load_dotenv\n",
    "load_dotenv()"
   ]
  },
  {
   "cell_type": "markdown",
   "id": "dc341c8c",
   "metadata": {},
   "source": [
    "## Load Data"
   ]
  },
  {
   "cell_type": "code",
   "execution_count": 2,
   "id": "744fbff5",
   "metadata": {},
   "outputs": [
    {
     "data": {
      "text/html": [
       "<div>\n",
       "<style scoped>\n",
       "    .dataframe tbody tr th:only-of-type {\n",
       "        vertical-align: middle;\n",
       "    }\n",
       "\n",
       "    .dataframe tbody tr th {\n",
       "        vertical-align: top;\n",
       "    }\n",
       "\n",
       "    .dataframe thead th {\n",
       "        text-align: right;\n",
       "    }\n",
       "</style>\n",
       "<table border=\"1\" class=\"dataframe\">\n",
       "  <thead>\n",
       "    <tr style=\"text-align: right;\">\n",
       "      <th></th>\n",
       "      <th>PassengerId</th>\n",
       "      <th>Survived</th>\n",
       "      <th>Pclass</th>\n",
       "      <th>Name</th>\n",
       "      <th>Sex</th>\n",
       "      <th>Age</th>\n",
       "      <th>SibSp</th>\n",
       "      <th>Parch</th>\n",
       "      <th>Ticket</th>\n",
       "      <th>Fare</th>\n",
       "      <th>Cabin</th>\n",
       "      <th>Embarked</th>\n",
       "    </tr>\n",
       "  </thead>\n",
       "  <tbody>\n",
       "    <tr>\n",
       "      <th>0</th>\n",
       "      <td>1</td>\n",
       "      <td>0</td>\n",
       "      <td>3</td>\n",
       "      <td>Braund, Mr. Owen Harris</td>\n",
       "      <td>male</td>\n",
       "      <td>22.0</td>\n",
       "      <td>1</td>\n",
       "      <td>0</td>\n",
       "      <td>A/5 21171</td>\n",
       "      <td>7.2500</td>\n",
       "      <td>NaN</td>\n",
       "      <td>S</td>\n",
       "    </tr>\n",
       "    <tr>\n",
       "      <th>1</th>\n",
       "      <td>2</td>\n",
       "      <td>1</td>\n",
       "      <td>1</td>\n",
       "      <td>Cumings, Mrs. John Bradley (Florence Briggs Th...</td>\n",
       "      <td>female</td>\n",
       "      <td>38.0</td>\n",
       "      <td>1</td>\n",
       "      <td>0</td>\n",
       "      <td>PC 17599</td>\n",
       "      <td>71.2833</td>\n",
       "      <td>C85</td>\n",
       "      <td>C</td>\n",
       "    </tr>\n",
       "    <tr>\n",
       "      <th>2</th>\n",
       "      <td>3</td>\n",
       "      <td>1</td>\n",
       "      <td>3</td>\n",
       "      <td>Heikkinen, Miss. Laina</td>\n",
       "      <td>female</td>\n",
       "      <td>26.0</td>\n",
       "      <td>0</td>\n",
       "      <td>0</td>\n",
       "      <td>STON/O2. 3101282</td>\n",
       "      <td>7.9250</td>\n",
       "      <td>NaN</td>\n",
       "      <td>S</td>\n",
       "    </tr>\n",
       "    <tr>\n",
       "      <th>3</th>\n",
       "      <td>4</td>\n",
       "      <td>1</td>\n",
       "      <td>1</td>\n",
       "      <td>Futrelle, Mrs. Jacques Heath (Lily May Peel)</td>\n",
       "      <td>female</td>\n",
       "      <td>35.0</td>\n",
       "      <td>1</td>\n",
       "      <td>0</td>\n",
       "      <td>113803</td>\n",
       "      <td>53.1000</td>\n",
       "      <td>C123</td>\n",
       "      <td>S</td>\n",
       "    </tr>\n",
       "    <tr>\n",
       "      <th>4</th>\n",
       "      <td>5</td>\n",
       "      <td>0</td>\n",
       "      <td>3</td>\n",
       "      <td>Allen, Mr. William Henry</td>\n",
       "      <td>male</td>\n",
       "      <td>35.0</td>\n",
       "      <td>0</td>\n",
       "      <td>0</td>\n",
       "      <td>373450</td>\n",
       "      <td>8.0500</td>\n",
       "      <td>NaN</td>\n",
       "      <td>S</td>\n",
       "    </tr>\n",
       "  </tbody>\n",
       "</table>\n",
       "</div>"
      ],
      "text/plain": [
       "   PassengerId  Survived  Pclass  \\\n",
       "0            1         0       3   \n",
       "1            2         1       1   \n",
       "2            3         1       3   \n",
       "3            4         1       1   \n",
       "4            5         0       3   \n",
       "\n",
       "                                                Name     Sex   Age  SibSp  \\\n",
       "0                            Braund, Mr. Owen Harris    male  22.0      1   \n",
       "1  Cumings, Mrs. John Bradley (Florence Briggs Th...  female  38.0      1   \n",
       "2                             Heikkinen, Miss. Laina  female  26.0      0   \n",
       "3       Futrelle, Mrs. Jacques Heath (Lily May Peel)  female  35.0      1   \n",
       "4                           Allen, Mr. William Henry    male  35.0      0   \n",
       "\n",
       "   Parch            Ticket     Fare Cabin Embarked  \n",
       "0      0         A/5 21171   7.2500   NaN        S  \n",
       "1      0          PC 17599  71.2833   C85        C  \n",
       "2      0  STON/O2. 3101282   7.9250   NaN        S  \n",
       "3      0            113803  53.1000  C123        S  \n",
       "4      0            373450   8.0500   NaN        S  "
      ]
     },
     "execution_count": 2,
     "metadata": {},
     "output_type": "execute_result"
    }
   ],
   "source": [
    "# CSV 파일 읽기\n",
    "url = \"https://raw.githubusercontent.com/datasciencedojo/datasets/master/titanic.csv\"\n",
    "titanic = pd.read_csv(url)\n",
    "\n",
    "titanic.head()"
   ]
  },
  {
   "cell_type": "code",
   "execution_count": 4,
   "id": "220736f3",
   "metadata": {},
   "outputs": [
    {
     "data": {
      "text/plain": [
       "(891, 12)"
      ]
     },
     "execution_count": 4,
     "metadata": {},
     "output_type": "execute_result"
    }
   ],
   "source": [
    "titanic.shape"
   ]
  },
  {
   "cell_type": "markdown",
   "id": "6b693304",
   "metadata": {},
   "source": [
    "## SQLite Database"
   ]
  },
  {
   "cell_type": "code",
   "execution_count": 5,
   "id": "4bf08509",
   "metadata": {},
   "outputs": [
    {
     "name": "stdout",
     "output_type": "stream",
     "text": [
      "\n",
      "=== 데이터베이스 생성 완료 ===\n",
      "승객 수: 891\n",
      "\n",
      "=== 기본 통계 ===\n",
      "생존자 수: 342\n",
      "선실 등급 수: 3\n"
     ]
    }
   ],
   "source": [
    "import sqlite3\n",
    "\n",
    "# SQLite 데이터베이스 생성\n",
    "conn = sqlite3.connect('titanic.db')\n",
    "\n",
    "# Passengers 테이블 생성 및 데이터 삽입\n",
    "titanic.to_sql('Passengers', conn, if_exists='replace', index=False,\n",
    "                dtype={\n",
    "                    'PassengerId': 'INTEGER PRIMARY KEY',\n",
    "                    'Survived': 'INTEGER',\n",
    "                    'Pclass': 'INTEGER',\n",
    "                    'Name': 'TEXT NOT NULL',\n",
    "                    'Sex': 'TEXT NOT NULL',\n",
    "                    'Age': 'FLOAT',\n",
    "                    'SibSp': 'INTEGER',\n",
    "                    'Parch': 'INTEGER',\n",
    "                    'Ticket': 'TEXT',\n",
    "                    'Fare': 'FLOAT',\n",
    "                    'Cabin': 'TEXT',\n",
    "                    'Embarked': 'TEXT'\n",
    "                })\n",
    "\n",
    "# 데이터베이스 상태 확인\n",
    "cursor = conn.cursor()\n",
    "cursor.execute(\"SELECT COUNT(*) FROM Passengers\")\n",
    "passenger_count = cursor.fetchone()[0]\n",
    "\n",
    "print(\"\\n=== 데이터베이스 생성 완료 ===\")\n",
    "print(f\"승객 수: {passenger_count}\")\n",
    "\n",
    "# 간단한 통계 확인\n",
    "print(\"\\n=== 기본 통계 ===\")\n",
    "cursor.execute(\"SELECT COUNT(*) FROM Passengers WHERE Survived = 1\")\n",
    "survivors = cursor.fetchone()[0]\n",
    "print(f\"생존자 수: {survivors}\")\n",
    "\n",
    "cursor.execute(\"SELECT COUNT(DISTINCT Pclass) FROM Passengers\")\n",
    "pclass_count = cursor.fetchone()[0]\n",
    "print(f\"선실 등급 수: {pclass_count}\")\n",
    "\n",
    "conn.commit()\n",
    "conn.close()"
   ]
  },
  {
   "cell_type": "markdown",
   "id": "8137a642",
   "metadata": {},
   "source": [
    "## LangChain 연동"
   ]
  },
  {
   "cell_type": "markdown",
   "id": "b8db544f",
   "metadata": {},
   "source": [
    "`(1) DB 스키마 확인`"
   ]
  },
  {
   "cell_type": "code",
   "execution_count": 6,
   "id": "b4424467",
   "metadata": {},
   "outputs": [
    {
     "name": "stdout",
     "output_type": "stream",
     "text": [
      "=== 사용 가능한 테이블 목록 ===\n",
      "['Passengers']\n"
     ]
    }
   ],
   "source": [
    "from langchain_community.utilities import SQLDatabase\n",
    "\n",
    "# SQLite 데이터베이스 연결\n",
    "db = SQLDatabase.from_uri(\"sqlite:///titanic.db\")\n",
    "\n",
    "# 사용 가능한 테이블 목록 출력\n",
    "print(\"=== 사용 가능한 테이블 목록 ===\")\n",
    "tables = db.get_usable_table_names()\n",
    "print(tables)  "
   ]
  },
  {
   "cell_type": "code",
   "execution_count": 7,
   "id": "27feba3e",
   "metadata": {},
   "outputs": [
    {
     "name": "stdout",
     "output_type": "stream",
     "text": [
      "\n",
      "=== 테이블 스키마 정보 ===\n",
      "\n",
      "CREATE TABLE \"Passengers\" (\n",
      "\t\"PassengerId\" INTEGER, \n",
      "\t\"Survived\" INTEGER, \n",
      "\t\"Pclass\" INTEGER, \n",
      "\t\"Name\" TEXT NOT NULL, \n",
      "\t\"Sex\" TEXT NOT NULL, \n",
      "\t\"Age\" FLOAT, \n",
      "\t\"SibSp\" INTEGER, \n",
      "\t\"Parch\" INTEGER, \n",
      "\t\"Ticket\" TEXT, \n",
      "\t\"Fare\" FLOAT, \n",
      "\t\"Cabin\" TEXT, \n",
      "\t\"Embarked\" TEXT, \n",
      "\tPRIMARY KEY (\"PassengerId\")\n",
      ")\n",
      "\n",
      "/*\n",
      "3 rows from Passengers table:\n",
      "PassengerId\tSurvived\tPclass\tName\tSex\tAge\tSibSp\tParch\tTicket\tFare\tCabin\tEmbarked\n",
      "1\t0\t3\tBraund, Mr. Owen Harris\tmale\t22.0\t1\t0\tA/5 21171\t7.25\tNone\tS\n",
      "2\t1\t1\tCumings, Mrs. John Bradley (Florence Briggs Thayer)\tfemale\t38.0\t1\t0\tPC 17599\t71.2833\tC85\tC\n",
      "3\t1\t3\tHeikkinen, Miss. Laina\tfemale\t26.0\t0\t0\tSTON/O2. 3101282\t7.925\tNone\tS\n",
      "*/\n"
     ]
    }
   ],
   "source": [
    "# 각 테이블의 스키마 정보 출력\n",
    "print(\"\\n=== 테이블 스키마 정보 ===\")\n",
    "print(db.get_table_info())"
   ]
  },
  {
   "cell_type": "markdown",
   "id": "614c2411",
   "metadata": {},
   "source": [
    "`(2) DB 쿼리 실행`"
   ]
  },
  {
   "cell_type": "code",
   "execution_count": 8,
   "id": "ac76c5f1",
   "metadata": {},
   "outputs": [
    {
     "name": "stdout",
     "output_type": "stream",
     "text": [
      "'[(342,)]'\n"
     ]
    }
   ],
   "source": [
    "# 생존자 수 확인\n",
    "query = \"\"\"\n",
    "SELECT COUNT(*) FROM Passengers WHERE Survived = 1\n",
    "\"\"\"\n",
    "pprint(db.run(query))"
   ]
  },
  {
   "cell_type": "markdown",
   "id": "685df496",
   "metadata": {},
   "source": [
    "`(3) SQL Chain`"
   ]
  },
  {
   "cell_type": "code",
   "execution_count": null,
   "id": "65d46e75",
   "metadata": {},
   "outputs": [
    {
     "name": "stderr",
     "output_type": "stream",
     "text": [
      "/Users/wiggler/Library/Caches/pypoetry/virtualenvs/rag-master-HVkRb5Tu-py3.11/lib/python3.11/site-packages/tqdm/auto.py:21: TqdmWarning: IProgress not found. Please update jupyter and ipywidgets. See https://ipywidgets.readthedocs.io/en/stable/user_install.html\n",
      "  from .autonotebook import tqdm as notebook_tqdm\n"
     ]
    },
    {
     "name": "stdout",
     "output_type": "stream",
     "text": [
      "Question: 生存者共有多少人？\n",
      "SQLQuery: SELECT COUNT(\"Survived\") AS SurvivedCount FROM \"Passengers\" WHERE \"Survived\" = 1;\n",
      "Question: 생존자는 모두 몇 명인가요?\n",
      "SQLQuery: SELECT COUNT(\"PassengerId\") FROM Passengers WHERE \"Survived\" = 1\n"
     ]
    }
   ],
   "source": [
    "# 사용자 질문(text) -> SQL 쿼리 (sql)\n",
    "from langchain.chains import create_sql_query_chain\n",
    "\n",
    "from langchain_ollama import ChatOllama\n",
    "from langchain_google_genai import ChatGoogleGenerativeAI\n",
    "\n",
    "ollama_llm = ChatOllama(model=\"qwen2.5\")\n",
    "gemini_llm = ChatGoogleGenerativeAI(model=\"gemini-1.5-flash\")\n",
    "\n",
    "ollama_sql = create_sql_query_chain(llm=ollama_llm, db=db)\n",
    "gemini_sql = create_sql_query_chain(llm=gemini_llm, db=db)\n",
    "\n",
    "ollama_query = ollama_sql.invoke({\"question\": \"생존자는 모두 몇 명인가요?\"})\n",
    "gemini_query = gemini_sql.invoke({\"question\": \"생존자는 모두 몇 명인가요?\"})\n",
    "\n",
    "print(ollama_query)\n",
    "print(gemini_query)"
   ]
  },
  {
   "cell_type": "code",
   "execution_count": 10,
   "id": "2e406494",
   "metadata": {},
   "outputs": [
    {
     "name": "stdout",
     "output_type": "stream",
     "text": [
      "SELECT COUNT(\"Survived\") AS SurvivedCount FROM \"Passengers\" WHERE \"Survived\" = 1;\n",
      "SELECT COUNT(\"PassengerId\") FROM Passengers WHERE \"Survived\" = 1\n"
     ]
    }
   ],
   "source": [
    "import re\n",
    "\n",
    "def extract_sql(text):\n",
    "    # SQLQuery: 이후의 텍스트를 추출하는 패턴\n",
    "    pattern = r'SQLQuery: (.*)'\n",
    "\n",
    "    # 정규식으로 추출\n",
    "    match = re.search(pattern, text)\n",
    "    if match:\n",
    "        query = match.group(1)  \n",
    "        return query\n",
    "    \n",
    "    return None\n",
    "\n",
    "print(extract_sql(ollama_query))\n",
    "print(extract_sql(gemini_query))"
   ]
  },
  {
   "cell_type": "code",
   "execution_count": 11,
   "id": "66feab7f",
   "metadata": {},
   "outputs": [
    {
     "data": {
      "text/plain": [
       "'[(342,)]'"
      ]
     },
     "execution_count": 11,
     "metadata": {},
     "output_type": "execute_result"
    }
   ],
   "source": [
    "db.run(extract_sql(ollama_query))"
   ]
  },
  {
   "cell_type": "code",
   "execution_count": null,
   "id": "79951748",
   "metadata": {},
   "outputs": [
    {
     "data": {
      "text/plain": [
       "'[(342,)]'"
      ]
     },
     "execution_count": 12,
     "metadata": {},
     "output_type": "execute_result"
    }
   ],
   "source": [
    "db.run(extract_sql(gemini_query))"
   ]
  },
  {
   "cell_type": "markdown",
   "id": "58b26204",
   "metadata": {},
   "source": [
    "`(4) QA Chain `"
   ]
  },
  {
   "cell_type": "code",
   "execution_count": 13,
   "id": "23be1575",
   "metadata": {},
   "outputs": [
    {
     "data": {
      "text/plain": [
       "'[(342,)]'"
      ]
     },
     "execution_count": 13,
     "metadata": {},
     "output_type": "execute_result"
    }
   ],
   "source": [
    "# 쿼리를 직접 실행하는 도구 \n",
    "from langchain_community.tools.sql_database.tool import QuerySQLDataBaseTool\n",
    "\n",
    "query_excecuter = QuerySQLDataBaseTool(db=db)\n",
    "query_excecuter.invoke(extract_sql(gemini_query))"
   ]
  },
  {
   "cell_type": "code",
   "execution_count": 16,
   "id": "6a1befe0",
   "metadata": {},
   "outputs": [
    {
     "data": {
      "text/plain": [
       "'생존자는 342명입니다. \\n'"
      ]
     },
     "execution_count": 16,
     "metadata": {},
     "output_type": "execute_result"
    }
   ],
   "source": [
    "from operator import itemgetter\n",
    "\n",
    "from langchain_core.output_parsers import StrOutputParser\n",
    "from langchain_core.prompts import PromptTemplate\n",
    "from langchain_core.runnables import RunnablePassthrough, RunnableLambda\n",
    "\n",
    "\n",
    "answer_prompt = PromptTemplate.from_template(\n",
    "    \"\"\"Given the following user question, corresponding SQL query, and SQL result, answer the user question.\n",
    "\n",
    "Question: {question}\n",
    "SQL Query: {query}\n",
    "SQL Result: {result}\n",
    "Answer: \"\"\"\n",
    ")\n",
    "\n",
    "qa_chain = (\n",
    "    RunnablePassthrough.assign(query=ollama_sql).assign(\n",
    "        result=itemgetter(\"query\") | RunnableLambda(extract_sql) | query_excecuter\n",
    "    )\n",
    "    | answer_prompt\n",
    "    | gemini_llm\n",
    "    | StrOutputParser()\n",
    ")\n",
    "\n",
    "qa_chain.invoke({\"question\": \"생존자는 모두 몇 명인가요?\"})"
   ]
  },
  {
   "cell_type": "markdown",
   "id": "34218e33",
   "metadata": {},
   "source": [
    "## Gradio 챗봇"
   ]
  },
  {
   "cell_type": "code",
   "execution_count": 17,
   "id": "d9012bb2",
   "metadata": {},
   "outputs": [
    {
     "name": "stderr",
     "output_type": "stream",
     "text": [
      "/Users/wiggler/Library/Caches/pypoetry/virtualenvs/rag-master-HVkRb5Tu-py3.11/lib/python3.11/site-packages/gradio/components/chatbot.py:229: UserWarning: The 'tuples' format for chatbot messages is deprecated and will be removed in a future version of Gradio. Please set type='messages' instead, which uses openai-style 'role' and 'content' keys.\n",
      "  warnings.warn(\n"
     ]
    },
    {
     "name": "stdout",
     "output_type": "stream",
     "text": [
      "* Running on local URL:  http://127.0.0.1:7860\n",
      "\n",
      "To create a public link, set `share=True` in `launch()`.\n"
     ]
    },
    {
     "data": {
      "text/html": [
       "<div><iframe src=\"http://127.0.0.1:7860/\" width=\"100%\" height=\"500\" allow=\"autoplay; camera; microphone; clipboard-read; clipboard-write;\" frameborder=\"0\" allowfullscreen></iframe></div>"
      ],
      "text/plain": [
       "<IPython.core.display.HTML object>"
      ]
     },
     "metadata": {},
     "output_type": "display_data"
    },
    {
     "data": {
      "text/plain": []
     },
     "execution_count": 17,
     "metadata": {},
     "output_type": "execute_result"
    }
   ],
   "source": [
    "import gradio as gr\n",
    "\n",
    "def predict(message, history):\n",
    "    response = qa_chain.invoke({\"question\": message})\n",
    "    return response\n",
    "\n",
    "demo = gr.ChatInterface(fn=predict, title=\"SQL Bot\")\n",
    "\n",
    "demo.launch()"
   ]
  },
  {
   "cell_type": "code",
   "execution_count": null,
   "id": "fdfd7263",
   "metadata": {},
   "outputs": [],
   "source": [
    "demo.close()"
   ]
  },
  {
   "cell_type": "code",
   "execution_count": null,
   "id": "0744a2bf",
   "metadata": {},
   "outputs": [],
   "source": []
  }
 ],
 "metadata": {
  "kernelspec": {
   "display_name": "rag-master-HVkRb5Tu-py3.11",
   "language": "python",
   "name": "python3"
  },
  "language_info": {
   "codemirror_mode": {
    "name": "ipython",
    "version": 3
   },
   "file_extension": ".py",
   "mimetype": "text/x-python",
   "name": "python",
   "nbconvert_exporter": "python",
   "pygments_lexer": "ipython3",
   "version": "3.11.9"
  }
 },
 "nbformat": 4,
 "nbformat_minor": 5
}
