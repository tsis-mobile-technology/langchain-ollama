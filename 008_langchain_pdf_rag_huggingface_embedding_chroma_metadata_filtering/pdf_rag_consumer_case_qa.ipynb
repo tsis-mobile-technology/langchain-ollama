{
 "cells": [
  {
   "cell_type": "markdown",
   "id": "41ce62a8-251f-4f9e-b375-e93a5861c3fe",
   "metadata": {},
   "source": [
    "# PDF RAG - 소비자 분쟁조정 사례집 QA"
   ]
  },
  {
   "cell_type": "markdown",
   "id": "8e038961",
   "metadata": {},
   "source": [
    "## PDF Data"
   ]
  },
  {
   "cell_type": "code",
   "execution_count": 1,
   "id": "16e769cc",
   "metadata": {},
   "outputs": [
    {
     "data": {
      "text/plain": [
       "3"
      ]
     },
     "execution_count": 1,
     "metadata": {},
     "output_type": "execute_result"
    }
   ],
   "source": [
    "import os\n",
    "from glob import glob\n",
    "pdf_files = glob(os.path.join('pdf_data', '*분쟁*.pdf'))\n",
    "len(pdf_files) "
   ]
  },
  {
   "cell_type": "code",
   "execution_count": 2,
   "id": "9b47c41e",
   "metadata": {},
   "outputs": [
    {
     "data": {
      "text/plain": [
       "['pdf_data/2018 의료 분쟁조정 사례집.pdf',\n",
       " 'pdf_data/2018 서비스·집단 분쟁조정 사례집.pdf',\n",
       " 'pdf_data/2018 물품 분쟁조정 사례집.pdf']"
      ]
     },
     "execution_count": 2,
     "metadata": {},
     "output_type": "execute_result"
    }
   ],
   "source": [
    "# pdf 파일 목록\n",
    "pdf_files"
   ]
  },
  {
   "cell_type": "code",
   "execution_count": 3,
   "id": "8c64527d",
   "metadata": {},
   "outputs": [
    {
     "data": {
      "text/plain": [
       "200"
      ]
     },
     "execution_count": 3,
     "metadata": {},
     "output_type": "execute_result"
    }
   ],
   "source": [
    "# pdf 파일을 읽어서 텍스트로 변환\n",
    "from langchain_community.document_loaders import PyPDFLoader\n",
    "\n",
    "loader = PyPDFLoader(pdf_files[1])\n",
    "data = loader.load()\n",
    "len(data)"
   ]
  },
  {
   "cell_type": "code",
   "execution_count": 4,
   "id": "8febe491",
   "metadata": {},
   "outputs": [
    {
     "name": "stdout",
     "output_type": "stream",
     "text": [
      "'소비자분쟁조정위원회2018\\n서비스·집단 \\n분쟁조정 사례집\\n'\n"
     ]
    }
   ],
   "source": [
    "# 첫번째 페이지의 텍스트 출력\n",
    "from pprint import pprint\n",
    "pprint(data[0].page_content) "
   ]
  },
  {
   "cell_type": "code",
   "execution_count": 5,
   "id": "087c3665",
   "metadata": {},
   "outputs": [
    {
     "name": "stdout",
     "output_type": "stream",
     "text": [
      "{'page': 0, 'source': 'pdf_data/2018 서비스·집단 분쟁조정 사례집.pdf'}\n"
     ]
    }
   ],
   "source": [
    "# 첫번째 페이지의 메타데이터 출력\n",
    "pprint(data[0].metadata)  "
   ]
  },
  {
   "cell_type": "code",
   "execution_count": 6,
   "id": "4a5f11f3",
   "metadata": {},
   "outputs": [
    {
     "name": "stdout",
     "output_type": "stream",
     "text": [
      "('제1장\\n'\n",
      " '일\\n'\n",
      " '반분\\n'\n",
      " '쟁\\n'\n",
      " '조정\\n'\n",
      " ' 사\\n'\n",
      " '례 (\\n'\n",
      " '서\\n'\n",
      " '비스)\\n'\n",
      " '제1장 일반분쟁조정 사례(서비스) ● 3\\n'\n",
      " '사\\n'\n",
      " '례01사건번호 2018일나565  | 결정일자 2018. 8. 7.\\n'\n",
      " '세탁 후 갑피 마모 및 경화된 가죽 \\n'\n",
      " '운동화에 대한 손해배상 요구\\n'\n",
      " '주 문\\n'\n",
      " '1. 신청인은 2018. 10. 16.까지 피신청인에게 이 사건 제품(제품명 : ○○○○ 가죽 \\n'\n",
      " '운동화, 색상 : 흰색) 1켤레를 반환한다. \\n'\n",
      " '2. 피신청인은 신청인으로부터 제1항 제품을 반환받음과 동시에 신청인에게 71,000원\\n'\n",
      " '을 지급한다.\\n'\n",
      " '이 유\\n'\n",
      " '1. 기초사실\\n'\n",
      " '가. 신청인은 2017. 6. 6. 가죽 운동화(제품명 : ○○○○ 가죽 운동화, 색상 : 흰색, \\n'\n",
      " '이하 ‘이 사건 제품’) 1켤레를 160,200원에 구매하여 착화하였고, 2018. 1. 10. 피신청인에게 이 사건 제품의 세탁을 '\n",
      " '의뢰(세탁비 4,000원)하였는데 수령 후 갑피 \\n'\n",
      " '마모 및 경화된 사실(이하 ‘이 사건 현상’)을 확인하여 피신청인이 재세탁을 하였\\n'\n",
      " '으나, 이후에도 경화현상만 다소 개선될 뿐 갑피 마모 현상이 개선되지 않아 피신청인에게 손해배상(세탁비 환급 포함)을 요구하였으며, '\n",
      " '피신청인은 세탁과실이 없\\n'\n",
      " '다는 이유로 이를 거부하였다.\\n'\n",
      " '나. 한국소비자원 신발제품심의위원회 심의 결과는 다음과 같다.\\n'\n",
      " '   \\n'\n",
      " '신청인이 주장하는 갑피 벗겨짐(스크래치 등) 증상은 관찰되나 현 제품 상태만\\n'\n",
      " '으로는 제품 훼손의 원인이 세탁 과정상 발생한 것인지 착화 환경에 따른 문제\\n'\n",
      " '인지 단정하기 어려운바, 판단 불가하다.')\n"
     ]
    }
   ],
   "source": [
    "# 10번째 페이지의 텍스트 출력\n",
    "pprint(data[10].page_content)"
   ]
  },
  {
   "cell_type": "code",
   "execution_count": 7,
   "id": "02dc1cd1",
   "metadata": {},
   "outputs": [
    {
     "data": {
      "text/plain": [
       "['사\\n례01사건번호 2018일나565  | 결정일자 2018. 8. 7.']"
      ]
     },
     "execution_count": 7,
     "metadata": {},
     "output_type": "execute_result"
    }
   ],
   "source": [
    "# 10번째 페이지의 텍스트에서 정보 추출\n",
    "import re\n",
    "split_pattern = r'사\\n례\\d+.*사건번호.*결정일자.*\\d{4}\\.\\s?\\d{1,2}\\.\\s?\\d{1,2}\\.'\n",
    "split_text = re.findall(split_pattern, \"\".join(data[10].page_content))\n",
    "split_text  "
   ]
  },
  {
   "cell_type": "code",
   "execution_count": 8,
   "id": "3e1c11ce",
   "metadata": {},
   "outputs": [],
   "source": [
    "# split_text가 존재하면 split_pattern으로 분리\n",
    "if split_text:\n",
    "    parts = re.split(split_pattern, \"\".join(data[10].page_content))"
   ]
  },
  {
   "cell_type": "code",
   "execution_count": 9,
   "id": "8ddad4f6",
   "metadata": {},
   "outputs": [
    {
     "data": {
      "text/plain": [
       "'제1장\\n일\\n반분\\n쟁\\n조정\\n 사\\n례 (\\n서\\n비스)\\n제1장 일반분쟁조정 사례(서비스) ● 3\\n'"
      ]
     },
     "execution_count": 9,
     "metadata": {},
     "output_type": "execute_result"
    }
   ],
   "source": [
    "# 분리된 텍스트 출력\n",
    "parts[0]"
   ]
  },
  {
   "cell_type": "code",
   "execution_count": 10,
   "id": "38246708",
   "metadata": {},
   "outputs": [
    {
     "data": {
      "text/plain": [
       "'\\n세탁 후 갑피 마모 및 경화된 가죽 \\n운동화에 대한 손해배상 요구\\n주 문\\n1. 신청인은 2018. 10. 16.까지 피신청인에게 이 사건 제품(제품명 : ○○○○ 가죽 \\n운동화, 색상 : 흰색) 1켤레를 반환한다. \\n2. 피신청인은 신청인으로부터 제1항 제품을 반환받음과 동시에 신청인에게 71,000원\\n을 지급한다.\\n이 유\\n1. 기초사실\\n가. 신청인은 2017. 6. 6. 가죽 운동화(제품명 : ○○○○ 가죽 운동화, 색상 : 흰색, \\n이하 ‘이 사건 제품’) 1켤레를 160,200원에 구매하여 착화하였고, 2018. 1. 10. 피신청인에게 이 사건 제품의 세탁을 의뢰(세탁비 4,000원)하였는데 수령 후 갑피 \\n마모 및 경화된 사실(이하 ‘이 사건 현상’)을 확인하여 피신청인이 재세탁을 하였\\n으나, 이후에도 경화현상만 다소 개선될 뿐 갑피 마모 현상이 개선되지 않아 피신청인에게 손해배상(세탁비 환급 포함)을 요구하였으며, 피신청인은 세탁과실이 없\\n다는 이유로 이를 거부하였다.\\n나. 한국소비자원 신발제품심의위원회 심의 결과는 다음과 같다.\\n   \\n신청인이 주장하는 갑피 벗겨짐(스크래치 등) 증상은 관찰되나 현 제품 상태만\\n으로는 제품 훼손의 원인이 세탁 과정상 발생한 것인지 착화 환경에 따른 문제\\n인지 단정하기 어려운바, 판단 불가하다.'"
      ]
     },
     "execution_count": 10,
     "metadata": {},
     "output_type": "execute_result"
    }
   ],
   "source": [
    "# 분리된 텍스트 출력\n",
    "parts[1]"
   ]
  },
  {
   "cell_type": "code",
   "execution_count": 11,
   "id": "e6ac0379",
   "metadata": {},
   "outputs": [
    {
     "data": {
      "text/plain": [
       "38"
      ]
     },
     "execution_count": 11,
     "metadata": {},
     "output_type": "execute_result"
    }
   ],
   "source": [
    "# 특정 문자열의 위치 찾기\n",
    "re.search(r'주 문\\n', parts[1]).span()[0]"
   ]
  },
  {
   "cell_type": "code",
   "execution_count": 12,
   "id": "6d83d55a",
   "metadata": {},
   "outputs": [
    {
     "data": {
      "text/plain": [
       "'세탁 후 갑피 마모 및 경화된 가죽 \\n운동화에 대한 손해배상 요구'"
      ]
     },
     "execution_count": 12,
     "metadata": {},
     "output_type": "execute_result"
    }
   ],
   "source": [
    "# 제목 추출\n",
    "title = parts[1][:re.search(r'주 문\\n', parts[1]).span()[0]].strip()\n",
    "title"
   ]
  },
  {
   "cell_type": "code",
   "execution_count": 13,
   "id": "45628cd2",
   "metadata": {},
   "outputs": [
    {
     "data": {
      "text/plain": [
       "'주 문\\n1. 신청인은 2018. 10. 16.까지 피신청인에게 이 사건 제품(제품명 : ○○○○ 가죽 \\n운동화, 색상 : 흰색) 1켤레를 반환한다. \\n2. 피신청인은 신청인으로부터 제1항 제품을 반환받음과 동시에 신청인에게 71,000원\\n을 지급한다.\\n이 유\\n1. 기초사실\\n가. 신청인은 2017. 6. 6. 가죽 운동화(제품명 : ○○○○ 가죽 운동화, 색상 : 흰색, \\n이하 ‘이 사건 제품’) 1켤레를 160,200원에 구매하여 착화하였고, 2018. 1. 10. 피신청인에게 이 사건 제품의 세탁을 의뢰(세탁비 4,000원)하였는데 수령 후 갑피 \\n마모 및 경화된 사실(이하 ‘이 사건 현상’)을 확인하여 피신청인이 재세탁을 하였\\n으나, 이후에도 경화현상만 다소 개선될 뿐 갑피 마모 현상이 개선되지 않아 피신청인에게 손해배상(세탁비 환급 포함)을 요구하였으며, 피신청인은 세탁과실이 없\\n다는 이유로 이를 거부하였다.\\n나. 한국소비자원 신발제품심의위원회 심의 결과는 다음과 같다.\\n   \\n신청인이 주장하는 갑피 벗겨짐(스크래치 등) 증상은 관찰되나 현 제품 상태만\\n으로는 제품 훼손의 원인이 세탁 과정상 발생한 것인지 착화 환경에 따른 문제\\n인지 단정하기 어려운바, 판단 불가하다.'"
      ]
     },
     "execution_count": 13,
     "metadata": {},
     "output_type": "execute_result"
    }
   ],
   "source": [
    "# 내용 추출\n",
    "content = parts[1][re.search(r'주 문\\n', parts[1]).span()[0]:]\n",
    "content"
   ]
  },
  {
   "cell_type": "code",
   "execution_count": 14,
   "id": "d477ba1f",
   "metadata": {},
   "outputs": [
    {
     "data": {
      "text/plain": [
       "'사\\n례01사건번호 2018일나565  | 결정일자 2018. 8. 7.'"
      ]
     },
     "execution_count": 14,
     "metadata": {},
     "output_type": "execute_result"
    }
   ],
   "source": [
    "# 구분 문자열에서 사례 번호 추출\n",
    "split_text[0]"
   ]
  },
  {
   "cell_type": "code",
   "execution_count": 15,
   "id": "0f5b7714",
   "metadata": {},
   "outputs": [
    {
     "data": {
      "text/plain": [
       "'01'"
      ]
     },
     "execution_count": 15,
     "metadata": {},
     "output_type": "execute_result"
    }
   ],
   "source": [
    "re.findall('례\\s?(\\d+)\\s?사건번호', split_text[0])[0]"
   ]
  },
  {
   "cell_type": "code",
   "execution_count": 16,
   "id": "74cfce87",
   "metadata": {},
   "outputs": [],
   "source": [
    "# 사건에 대한 메타데이터 추출하는 Pydantic 스키마 정의\n",
    "\n",
    "from langchain_core.pydantic_v1 import BaseModel, Field\n",
    "\n",
    "class Case(BaseModel):\n",
    "    case_number: str = Field(description=\"The number of the case\", required=True)\n",
    "    case_date: str = Field(description=\"The date when the case was occurred (year, month, day)\", required=True)   "
   ]
  },
  {
   "cell_type": "code",
   "execution_count": 17,
   "id": "f50ca57e",
   "metadata": {},
   "outputs": [
    {
     "name": "stdout",
     "output_type": "stream",
     "text": [
      "case_number='2018일나565' case_date='2018. 8. 7.'\n"
     ]
    }
   ],
   "source": [
    "# Extraction chain 구성\n",
    "from langchain_core.prompts import PromptTemplate\n",
    "from langchain_experimental.llms.ollama_functions import OllamaFunctions\n",
    "\n",
    "\n",
    "prompt = PromptTemplate.from_template(\n",
    "    \"\"\" Extract relevant information from the following text:\n",
    "    \n",
    "TEXT: {text} \\n\n",
    "\n",
    "AI: \"\"\"\n",
    ")\n",
    "\n",
    "text = split_text[0]\n",
    "\n",
    "llm = OllamaFunctions(model=\"llama3\", format=\"json\", temperature=0)\n",
    "runnable = prompt | llm.with_structured_output(schema=Case)\n",
    "response = runnable.invoke({\"text\": text})\n",
    "print(response)"
   ]
  },
  {
   "cell_type": "code",
   "execution_count": 18,
   "id": "e8fb417b",
   "metadata": {},
   "outputs": [
    {
     "data": {
      "text/plain": [
       "{'case_number': '2018일나565', 'case_date': '2018. 8. 7.'}"
      ]
     },
     "execution_count": 18,
     "metadata": {},
     "output_type": "execute_result"
    }
   ],
   "source": [
    "dict(response)"
   ]
  },
  {
   "cell_type": "code",
   "execution_count": 19,
   "id": "0ea09a1d",
   "metadata": {},
   "outputs": [
    {
     "data": {
      "text/plain": [
       "'2018 서비스·집단 분쟁조정사례집\\n인 쇄 / 2019년 5월\\n발 행 / 2019년 5월발행인 / 한국소비자원 원장 이 희 숙\\n편집인 / 소비자분쟁조정위원회 위원장 \\n제 작 / 소비자분쟁조정위원회 분쟁조정사무국디자인 ․인쇄 / (사)아름다운사람들복지회\\n발행처 / 한국소비자원 소비자분쟁조정위원회\\n\\U000f02b2\\U000f02b7\\U000f02b7\\U000f02b3\\U000f02b8\\n충청북도 음성군 맹동면 용두로 54\\n전 화 / 043-880-5500'"
      ]
     },
     "execution_count": 19,
     "metadata": {},
     "output_type": "execute_result"
    }
   ],
   "source": [
    "data[-2].page_content   "
   ]
  },
  {
   "cell_type": "code",
   "execution_count": 20,
   "id": "5a8c1477",
   "metadata": {},
   "outputs": [
    {
     "data": {
      "text/plain": [
       "188"
      ]
     },
     "execution_count": 20,
     "metadata": {},
     "output_type": "execute_result"
    }
   ],
   "source": [
    "# 문서 객체를 페이지별로 순회하며 사례 번호 등 메타데이터를 추출하고 업데이트\n",
    "pdf_docs = []\n",
    "case_metadata = {}\n",
    "for doc in data[10:-2]:\n",
    "    split_text = re.findall(split_pattern, \"\".join(doc.page_content))\n",
    "    if split_text:\n",
    "\n",
    "        # case id\n",
    "        case_metadata['case_id'] = re.findall('례\\s?(\\d+)\\s?사건번호', split_text[0])[0]\n",
    "\n",
    "        parts = re.split(split_pattern, \"\".join(doc.page_content))\n",
    "\n",
    "        if re.search(r'주 문\\n', parts[1]):\n",
    "            # Add title to metadata\n",
    "            case_metadata['title'] = parts[1][:re.search(r'주 문\\n', parts[1]).span()[0]].replace('\\n', '').strip()\n",
    "                    \n",
    "            # Update content\n",
    "            doc.page_content = parts[1][re.search(r'주 문\\n', parts[1]).span()[0]:].strip()\n",
    "        else:\n",
    "            case_metadata['title'] = ''\n",
    "            \n",
    "        # Extract metadata from text\n",
    "        i = 0\n",
    "        while i < 10:\n",
    "            try:\n",
    "                response = runnable.invoke({\"text\": split_text[0]})\n",
    "                for k, v in dict(response).items():\n",
    "                    case_metadata[k] = v.replace(\"\\n\", \"\").replace(\" \", \"\")\n",
    "                break\n",
    "            except:\n",
    "                i += 1\n",
    "                continue\n",
    "\n",
    "        # Update metadata \n",
    "        doc.metadata.update(case_metadata)\n",
    "\n",
    "        # Append to split_docs\n",
    "        pdf_docs.append(doc)\n",
    "\n",
    "    else:\n",
    "        # Update metadata \n",
    "        doc.metadata.update(case_metadata) \n",
    "\n",
    "        # Append to split_docs\n",
    "        pdf_docs.append(doc)\n",
    "\n",
    "len(pdf_docs)"
   ]
  },
  {
   "cell_type": "code",
   "execution_count": 21,
   "id": "b07eacae",
   "metadata": {},
   "outputs": [
    {
     "name": "stdout",
     "output_type": "stream",
     "text": [
      "('주 문\\n'\n",
      " '1. 신청인은 2018. 10. 16.까지 피신청인에게 이 사건 제품(제품명 : ○○○○ 가죽 \\n'\n",
      " '운동화, 색상 : 흰색) 1켤레를 반환한다. \\n'\n",
      " '2. 피신청인은 신청인으로부터 제1항 제품을 반환받음과 동시에 신청인에게 71,000원\\n'\n",
      " '을 지급한다.\\n'\n",
      " '이 유\\n'\n",
      " '1. 기초사실\\n'\n",
      " '가. 신청인은 2017. 6. 6. 가죽 운동화(제품명 : ○○○○ 가죽 운동화, 색상 : 흰색, \\n'\n",
      " '이하 ‘이 사건 제품’) 1켤레를 160,200원에 구매하여 착화하였고, 2018. 1. 10. 피신청인에게 이 사건 제품의 세탁을 '\n",
      " '의뢰(세탁비 4,000원)하였는데 수령 후 갑피 \\n'\n",
      " '마모 및 경화된 사실(이하 ‘이 사건 현상’)을 확인하여 피신청인이 재세탁을 하였\\n'\n",
      " '으나, 이후에도 경화현상만 다소 개선될 뿐 갑피 마모 현상이 개선되지 않아 피신청인에게 손해배상(세탁비 환급 포함)을 요구하였으며, '\n",
      " '피신청인은 세탁과실이 없\\n'\n",
      " '다는 이유로 이를 거부하였다.\\n'\n",
      " '나. 한국소비자원 신발제품심의위원회 심의 결과는 다음과 같다.\\n'\n",
      " '   \\n'\n",
      " '신청인이 주장하는 갑피 벗겨짐(스크래치 등) 증상은 관찰되나 현 제품 상태만\\n'\n",
      " '으로는 제품 훼손의 원인이 세탁 과정상 발생한 것인지 착화 환경에 따른 문제\\n'\n",
      " '인지 단정하기 어려운바, 판단 불가하다.')\n"
     ]
    }
   ],
   "source": [
    "pprint(pdf_docs[0].page_content)"
   ]
  },
  {
   "cell_type": "code",
   "execution_count": 22,
   "id": "94d99a4f",
   "metadata": {},
   "outputs": [
    {
     "name": "stdout",
     "output_type": "stream",
     "text": [
      "{'case_date': '2018.8.7.',\n",
      " 'case_id': '01',\n",
      " 'case_number': '2018일나565',\n",
      " 'page': 10,\n",
      " 'source': 'pdf_data/2018 서비스·집단 분쟁조정 사례집.pdf',\n",
      " 'title': '세탁 후 갑피 마모 및 경화된 가죽 운동화에 대한 손해배상 요구'}\n"
     ]
    }
   ],
   "source": [
    "pprint(pdf_docs[0].metadata)"
   ]
  },
  {
   "cell_type": "markdown",
   "id": "a26da56f",
   "metadata": {},
   "source": [
    "## Embedding"
   ]
  },
  {
   "cell_type": "code",
   "execution_count": 24,
   "id": "7059c741",
   "metadata": {},
   "outputs": [
    {
     "name": "stderr",
     "output_type": "stream",
     "text": [
      "/Users/wiggler/Library/Caches/pypoetry/virtualenvs/langchain-v02-ycReq9Wb-py3.11/lib/python3.11/site-packages/sentence_transformers/cross_encoder/CrossEncoder.py:11: TqdmWarning: IProgress not found. Please update jupyter and ipywidgets. See https://ipywidgets.readthedocs.io/en/stable/user_install.html\n",
      "  from tqdm.autonotebook import tqdm, trange\n",
      "/Users/wiggler/Library/Caches/pypoetry/virtualenvs/langchain-v02-ycReq9Wb-py3.11/lib/python3.11/site-packages/huggingface_hub/file_download.py:1132: FutureWarning: `resume_download` is deprecated and will be removed in version 1.0.0. Downloads always resume when possible. If you want to force a new download, use `force_download=True`.\n",
      "  warnings.warn(\n"
     ]
    }
   ],
   "source": [
    "# HugoingFace Embeddings를 다운로드\n",
    "from langchain.embeddings import HuggingFaceEmbeddings\n",
    "\n",
    "embeddings_model = HuggingFaceEmbeddings(\n",
    "    model_name=\"snunlp/KR-SBERT-V40K-klueNLI-augSTS\",\n",
    ")"
   ]
  },
  {
   "cell_type": "code",
   "execution_count": 25,
   "id": "54c4d908",
   "metadata": {},
   "outputs": [
    {
     "data": {
      "text/plain": [
       "(5, 768)"
      ]
     },
     "execution_count": 25,
     "metadata": {},
     "output_type": "execute_result"
    }
   ],
   "source": [
    "# 문서를 임베딩\n",
    "embeddings = embeddings_model.embed_documents(\n",
    "    [\n",
    "        \"온라인 쇼핑몰에서 주문한 제품이 불량품으로 배송되었습니다. 이에 대한 법적 책임은 누구에게 있나요?\",\n",
    "        \"구입한 전자제품이 고장나서 환불을 요청했지만 거부당했습니다. 피해 보상을 받을 수 있나요?\",\n",
    "        \"호텔 예약 후 도착했는데 예약이 취소되었다고 했습니다. 이에 대한 대응 방법은 무엇인가요?\",\n",
    "        \"자동차 수리 후 동일한 문제가 재발했습니다. 수리업체에 대한 법적 조치를 취할 수 있나요?\",\n",
    "        \"항공편이 지연되어 중요한 일정을 놓쳤습니다. 이에 대한 피해 보상을 받을 수 있나요?\"\n",
    "    ]\n",
    ")\n",
    "len(embeddings), len(embeddings[0])"
   ]
  },
  {
   "cell_type": "code",
   "execution_count": 26,
   "id": "4357bce1",
   "metadata": {},
   "outputs": [
    {
     "data": {
      "text/plain": [
       "[0.7448063492774963,\n",
       " -0.2612632215023041,\n",
       " -0.25691506266593933,\n",
       " 0.12548944354057312,\n",
       " -0.02586374618113041]"
      ]
     },
     "execution_count": 26,
     "metadata": {},
     "output_type": "execute_result"
    }
   ],
   "source": [
    "embedded_query = embeddings_model.embed_query(\"에어컨 제품 불량에 대해서 보상을 받을 수 있을까요?\")\n",
    "embedded_query[:5]"
   ]
  },
  {
   "cell_type": "code",
   "execution_count": 27,
   "id": "baf0cb96",
   "metadata": {},
   "outputs": [
    {
     "name": "stdout",
     "output_type": "stream",
     "text": [
      "0.45304341538135184\n",
      "0.6305271996168532\n",
      "0.3854962412100702\n",
      "0.47294258162888303\n",
      "0.3779668048938859\n"
     ]
    }
   ],
   "source": [
    "# 코사인 유사도\n",
    "import numpy as np\n",
    "from numpy import dot\n",
    "from numpy.linalg import norm\n",
    "\n",
    "def cos_sim(A, B):\n",
    "  return dot(A, B)/(norm(A)*norm(B))\n",
    "\n",
    "# 쿼리와 문서 간의 코사인 유사도 계산\n",
    "for embedding in embeddings:\n",
    "    print(cos_sim(embedding, embedded_query))"
   ]
  },
  {
   "cell_type": "markdown",
   "id": "ae51fed8",
   "metadata": {},
   "source": [
    "## Chunking"
   ]
  },
  {
   "cell_type": "code",
   "execution_count": 28,
   "id": "33c991d1",
   "metadata": {},
   "outputs": [
    {
     "name": "stdout",
     "output_type": "stream",
     "text": [
      "29 12\n",
      "[2, 19224, 8918, 20035, 5051, 9665, 22898, 9622, 3317, 21981, 35, 3]\n"
     ]
    }
   ],
   "source": [
    "# HugoingFace Embedding 모델의 Tokenizer를 사용하여 토큰화\n",
    "from transformers import AutoTokenizer\n",
    "tokenizer = AutoTokenizer.from_pretrained('snunlp/KR-SBERT-V40K-klueNLI-augSTS')\n",
    "\n",
    "text = \"에어컨 제품 불량에 대해서 보상을 받을 수 있을까요?\"\n",
    "encoded = tokenizer.encode(text)\n",
    "print(len(text), len(encoded))\n",
    "print(encoded)"
   ]
  },
  {
   "cell_type": "code",
   "execution_count": 93,
   "id": "f94e170f",
   "metadata": {},
   "outputs": [
    {
     "name": "stdout",
     "output_type": "stream",
     "text": [
      "905\n",
      "page_content='주 문\\n1. 신청인은 2018. 10. 16.까지 피신청인에게 이 사건 제품(제품명 : ○○○○ 가죽 \\n운동화, 색상 : 흰색) 1켤레를 반환한다. \\n2. 피신청인은 신청인으로부터 제1항 제품을 반환받음과 동시에 신청인에게 71,000원\\n을 지급한다.\\n이 유\\n1. 기초사실' metadata={'source': 'pdf_data/2018 서비스·집단 분쟁조정 사례집.pdf', 'page': 10, 'case_id': '01', 'title': '세탁 후 갑피 마모 및 경화된 가죽 운동화에 대한 손해배상 요구', 'case_number': '2018일나565', 'case_date': '2018.8.7.'}\n"
     ]
    }
   ],
   "source": [
    "# Token 수를 기준으ㄹ 문서를 청크 단위로 분할\n",
    "from langchain_text_splitters import RecursiveCharacterTextSplitter\n",
    "\n",
    "text_splitter = RecursiveCharacterTextSplitter.from_huggingface_tokenizer(\n",
    "    tokenizer = tokenizer,\n",
    "    chunk_size = 120,\n",
    "    chunk_overlap  = 10,\n",
    ")\n",
    "\n",
    "split_docs = text_splitter.split_documents(pdf_docs)\n",
    "print(len(split_docs))\n",
    "print(split_docs[0])"
   ]
  },
  {
   "cell_type": "code",
   "execution_count": 75,
   "id": "7fa49d34",
   "metadata": {},
   "outputs": [
    {
     "data": {
      "text/plain": [
       "(152, 71)"
      ]
     },
     "execution_count": 75,
     "metadata": {},
     "output_type": "execute_result"
    }
   ],
   "source": [
    "sample_text = split_docs[0].page_content\n",
    "sample_encoded = tokenizer.encode(sample_text)\n",
    "len(sample_text), len(sample_encoded)"
   ]
  },
  {
   "cell_type": "code",
   "execution_count": 76,
   "id": "bf733259",
   "metadata": {},
   "outputs": [
    {
     "name": "stdout",
     "output_type": "stream",
     "text": [
      "71\n",
      "('주 문\\n'\n",
      " '1. 신청인은 2018. 10. 16.까지 피신청인에게 이 사건 제품(제품명 : ○○○○ 가죽 \\n'\n",
      " '운동화, 색상 : 흰색) 1켤레를 반환한다. \\n'\n",
      " '2. 피신청인은 신청인으로부터 제1항 제품을 반환받음과 동시에 신청인에게 71,000원\\n'\n",
      " '을 지급한다.\\n'\n",
      " '이 유\\n'\n",
      " '1. 기초사실')\n"
     ]
    }
   ],
   "source": [
    "print(len(tokenizer.encode(split_docs[0].page_content)))\n",
    "pprint(split_docs[0].page_content)"
   ]
  },
  {
   "cell_type": "code",
   "execution_count": 77,
   "id": "dfcdc407",
   "metadata": {},
   "outputs": [
    {
     "name": "stdout",
     "output_type": "stream",
     "text": [
      "107\n",
      "('1. 기초사실\\n'\n",
      " '가. 신청인은 2017. 6. 6. 가죽 운동화(제품명 : ○○○○ 가죽 운동화, 색상 : 흰색, \\n'\n",
      " '이하 ‘이 사건 제품’) 1켤레를 160,200원에 구매하여 착화하였고, 2018. 1. 10. 피신청인에게 이 사건 제품의 세탁을 '\n",
      " '의뢰(세탁비 4,000원)하였는데 수령 후 갑피 \\n'\n",
      " '마모 및 경화된 사실(이하 ‘이 사건 현상’)을 확인하여 피신청인이 재세탁을 하였')\n"
     ]
    }
   ],
   "source": [
    "print(len(tokenizer.encode(split_docs[1].page_content)))\n",
    "pprint(split_docs[1].page_content)"
   ]
  },
  {
   "cell_type": "code",
   "execution_count": 78,
   "id": "b8967cb1",
   "metadata": {},
   "outputs": [
    {
     "data": {
      "text/plain": [
       "'1. 기초사실 가. 신청인은 2017. 6. 6. 가죽 운동화(제품명 : ○○○○ 가죽 운동화, 색상 : 흰색,  이하 ‘이 사건 제품’) 1켤레를 160,200원에 구매하여 착화하였고, 2018. 1. 10. 피신청인에게 이 사건 제품의 세탁을 의뢰(세탁비 4,000원)하였는데 수령 후 갑피  마모 및 경화된 사실(이하 ‘이 사건 현상’)을 확인하여 피신청인이 재세탁을 하였'"
      ]
     },
     "execution_count": 78,
     "metadata": {},
     "output_type": "execute_result"
    }
   ],
   "source": [
    "# 마침표 뒤에 나오는 줄바꿈 문자는 그대로 두고 나머지 줄바꿈 문자만 제거\n",
    "result = re.sub(r'(?<!\\.)\\n', ' ', split_docs[1].page_content)\n",
    "result"
   ]
  },
  {
   "cell_type": "code",
   "execution_count": 79,
   "id": "4131da02",
   "metadata": {},
   "outputs": [
    {
     "name": "stdout",
     "output_type": "stream",
     "text": [
      "{'case_date': '2018.8.7.',\n",
      " 'case_id': '01',\n",
      " 'case_number': '2018일나565',\n",
      " 'page': 10,\n",
      " 'source': 'pdf_data/2018 서비스·집단 분쟁조정 사례집.pdf',\n",
      " 'title': '세탁 후 갑피 마모 및 경화된 가죽 운동화에 대한 손해배상 요구'}\n"
     ]
    }
   ],
   "source": [
    "pprint(split_docs[0].metadata)"
   ]
  },
  {
   "cell_type": "code",
   "execution_count": 80,
   "id": "799aec4b",
   "metadata": {},
   "outputs": [
    {
     "name": "stdout",
     "output_type": "stream",
     "text": [
      "{'case_date': '2018.8.7.',\n",
      " 'case_id': '01',\n",
      " 'case_number': '2018일나565',\n",
      " 'page': 10,\n",
      " 'source': 'pdf_data/2018 서비스·집단 분쟁조정 사례집.pdf',\n",
      " 'title': '세탁 후 갑피 마모 및 경화된 가죽 운동화에 대한 손해배상 요구'}\n"
     ]
    }
   ],
   "source": [
    "pprint(split_docs[1].metadata)"
   ]
  },
  {
   "cell_type": "code",
   "execution_count": 81,
   "id": "3a1a4086",
   "metadata": {},
   "outputs": [
    {
     "data": {
      "text/plain": [
       "\"### 이 사건은 '세탁 후 갑피 마모 및 경화된 가죽 운동화에 대한 손해배상 요구'에 대한 사례입니다.\""
      ]
     },
     "execution_count": 81,
     "metadata": {},
     "output_type": "execute_result"
    }
   ],
   "source": [
    "f\"### 이 사건은 '{split_docs[1].metadata['title']}'에 대한 사례입니다.\""
   ]
  },
  {
   "cell_type": "markdown",
   "id": "f38bc41b",
   "metadata": {},
   "source": [
    "# Indexing"
   ]
  },
  {
   "cell_type": "code",
   "execution_count": 82,
   "id": "a557396b",
   "metadata": {},
   "outputs": [
    {
     "name": "stdout",
     "output_type": "stream",
     "text": [
      "### 이 사건은 '세탁 후 갑피 마모 및 경화된 가죽 운동화에 대한 손해배상 요구'에 대한 사례입니다.\n",
      "\n",
      "주 문 1. 신청인은 2018. 10. 16.까지 피신청인에게 이 사건 제품(제품명 : ○○○○ 가죽  운동화, 색상 : 흰색) 1켤레를 반환한다.  2. 피신청인은 신청인으로부터 제1항 제품을 반환받음과 동시에 신청인에게 71,000원 을 지급한다.\n",
      "이 유 1. 기초사실\n"
     ]
    }
   ],
   "source": [
    "final_docs = []\n",
    "for doc in split_docs:\n",
    "    doc.page_content = f\"### 이 사건은 '{doc.metadata['title']}'에 대한 사례입니다.\\n\\n\" + \\\n",
    "    re.sub(r'(?<!\\.)\\n', ' ', doc.page_content)\n",
    "    final_docs.append(doc)\n",
    "\n",
    "print(final_docs[0].page_content)"
   ]
  },
  {
   "cell_type": "code",
   "execution_count": 83,
   "id": "8073e9ec",
   "metadata": {},
   "outputs": [
    {
     "name": "stdout",
     "output_type": "stream",
     "text": [
      "### 이 사건은 '세탁 후 갑피 마모 및 경화된 가죽 운동화에 대한 손해배상 요구'에 대한 사례입니다.\n",
      "\n",
      "1. 기초사실 가. 신청인은 2017. 6. 6. 가죽 운동화(제품명 : ○○○○ 가죽 운동화, 색상 : 흰색,  이하 ‘이 사건 제품’) 1켤레를 160,200원에 구매하여 착화하였고, 2018. 1. 10. 피신청인에게 이 사건 제품의 세탁을 의뢰(세탁비 4,000원)하였는데 수령 후 갑피  마모 및 경화된 사실(이하 ‘이 사건 현상’)을 확인하여 피신청인이 재세탁을 하였\n"
     ]
    }
   ],
   "source": [
    "print(final_docs[1].page_content)"
   ]
  },
  {
   "cell_type": "code",
   "execution_count": 84,
   "id": "e4a0359d",
   "metadata": {},
   "outputs": [],
   "source": [
    "from langchain_community.vectorstores import Chroma\n",
    "vectorstore = Chroma.from_documents(documents=final_docs, \n",
    "                                    embedding=embeddings_model, \n",
    "                                    collection_name=\"consumer_case_qa\",\n",
    "                                    persist_directory=\"./chroma_db\")"
   ]
  },
  {
   "cell_type": "code",
   "execution_count": 85,
   "id": "e6105953",
   "metadata": {},
   "outputs": [
    {
     "name": "stdout",
     "output_type": "stream",
     "text": [
      "01 11 ### 이 사건은 '세탁 후 갑피 마모 및 경화된 가죽 운동화에 대한 손해배상 요구'에 대한 사례입니다.\n",
      "\n",
      "므로, 세탁과실에 따른 손해배상 및 세탁비 환급을 요구한다.\n",
      "이에 대하여 피신청인은 이 사건 제품을 인수하였을 당시 이미 제품 상태가 좋지 않았 고, 한국소비자원의 신발제품심의위원회에서도 세탁과실로 인정하지 않았기 때문에 신 청인의 요구를 수용할 수 \n",
      "01 11 ### 이 사건은 '세탁 후 갑피 마모 및 경화된 가죽 운동화에 대한 손해배상 요구'에 대한 사례입니다.\n",
      "\n",
      "세탁물에 대하여 세탁업자는 고객에게 세탁요금을 청구하지 못하므로, 세탁업자인 피신청인이 세탁비 4,000원을 신청인에게 환급이 상당하다.\n",
      "이상을 종합하면, 신청인은 피신청인에게 이 사건 제품을 반환하고 피신청인은 손해배 상액 67,000원(112,14\n",
      "01 10 ### 이 사건은 '세탁 후 갑피 마모 및 경화된 가죽 운동화에 대한 손해배상 요구'에 대한 사례입니다.\n",
      "\n",
      "으나, 이후에도 경화현상만 다소 개선될 뿐 갑피 마모 현상이 개선되지 않아 피신청인에게 손해배상(세탁비 환급 포함)을 요구하였으며, 피신청인은 세탁과실이 없 다는 이유로 이를 거부하였다.\n",
      "나. 한국소비자원 신발제품심의위원회 심의 결과는 다음과 같다.\n",
      "\n",
      "01 10 ### 이 사건은 '세탁 후 갑피 마모 및 경화된 가죽 운동화에 대한 손해배상 요구'에 대한 사례입니다.\n",
      "\n",
      "인지 단정하기 어려운바, 판단 불가하다.\n",
      "02 15 ### 이 사건은 '해외 배송대행 중 파손된 제품에 대한 손해배상 요구'에 대한 사례입니다.\n",
      "\n",
      "인정하지 아니함이 상당하다.\n",
      "이상을 종합할 때, 피신청인은 2018. 10. 30.까지 피신청인의 비용으로 이 사건 제품 을 수거하고, 신청인에게 222,707원을 지급하며, 만일 피신청인이 위 지급을 지체하 면 2018. 10. 31.부터 다 갚는 날까지 「상법\n"
     ]
    }
   ],
   "source": [
    "chroma_docs = vectorstore.similarity_search(\"세탁 후 오염에 대한 손해배상은 어떻게 이루어지나요?\", k=5)\n",
    "for doc in chroma_docs:\n",
    "    print(str(doc.metadata[\"case_id\"]), str(doc.metadata[\"page\"]), doc.page_content[:200])"
   ]
  },
  {
   "cell_type": "markdown",
   "id": "236f6492",
   "metadata": {},
   "source": [
    "## Retrieval"
   ]
  },
  {
   "cell_type": "code",
   "execution_count": 86,
   "id": "785a145c",
   "metadata": {},
   "outputs": [
    {
     "name": "stdout",
     "output_type": "stream",
     "text": [
      "01 11 ### 이 사건은 '세탁 후 갑피 마모 및 경화된 가죽 운동화에 대한 손해배상 요구'에 대한 사례입니다.\n",
      "\n",
      "므로, 세탁과실에 따른 손해배상 및 세탁비 환급을 요구한다.\n",
      "이에 대하여\n",
      "01 11 ### 이 사건은 '세탁 후 갑피 마모 및 경화된 가죽 운동화에 대한 손해배상 요구'에 대한 사례입니다.\n",
      "\n",
      "세탁물에 대하여 세탁업자는 고객에게 세탁요금을 청구하지 못하므로, 세탁업\n",
      "01 10 ### 이 사건은 '세탁 후 갑피 마모 및 경화된 가죽 운동화에 대한 손해배상 요구'에 대한 사례입니다.\n",
      "\n",
      "으나, 이후에도 경화현상만 다소 개선될 뿐 갑피 마모 현상이 개선되지 않\n",
      "01 10 ### 이 사건은 '세탁 후 갑피 마모 및 경화된 가죽 운동화에 대한 손해배상 요구'에 대한 사례입니다.\n",
      "\n",
      "인지 단정하기 어려운바, 판단 불가하다.\n",
      "02 15 ### 이 사건은 '해외 배송대행 중 파손된 제품에 대한 손해배상 요구'에 대한 사례입니다.\n",
      "\n",
      "인정하지 아니함이 상당하다.\n",
      "이상을 종합할 때, 피신청인은 2018. 10. 30.까\n"
     ]
    }
   ],
   "source": [
    "# Top K\n",
    "retriever = vectorstore.as_retriever(\n",
    "    search_kwargs={\"k\": 5}\n",
    ")\n",
    "\n",
    "query = \"세탁 후 오염에 대한 손해배상은 어떻게 이루어지나요?\"\n",
    "retrieved_docs = retriever.invoke(query)\n",
    "\n",
    "for doc in retrieved_docs:\n",
    "    print(str(doc.metadata[\"case_id\"]), str(doc.metadata[\"page\"]), doc.page_content[:100])"
   ]
  },
  {
   "cell_type": "code",
   "execution_count": 87,
   "id": "350a93ba",
   "metadata": {},
   "outputs": [
    {
     "name": "stdout",
     "output_type": "stream",
     "text": [
      "01 11 ### 이 사건은 '세탁 후 갑피 마모 및 경화된 가죽 운동화에 대한 손해배상 요구'에 대한 사례입니다.\n",
      "\n",
      "므로, 세탁과실에 따른 손해배상 및 세탁비 환급을 요구한다.\n",
      "이에 대하여\n",
      "01 11 ### 이 사건은 '세탁 후 갑피 마모 및 경화된 가죽 운동화에 대한 손해배상 요구'에 대한 사례입니다.\n",
      "\n",
      "세탁물에 대하여 세탁업자는 고객에게 세탁요금을 청구하지 못하므로, 세탁업\n",
      "01 11 ### 이 사건은 '세탁 후 갑피 마모 및 경화된 가죽 운동화에 대한 손해배상 요구'에 대한 사례입니다.\n",
      "\n",
      "하여 그 손해가 발생 및 확대되었을 가능성을 배제할 수 없는 점 등에 비\n",
      "01 10 ### 이 사건은 '세탁 후 갑피 마모 및 경화된 가죽 운동화에 대한 손해배상 요구'에 대한 사례입니다.\n",
      "\n",
      "으나, 이후에도 경화현상만 다소 개선될 뿐 갑피 마모 현상이 개선되지 않\n",
      "01 11 ### 이 사건은 '세탁 후 갑피 마모 및 경화된 가죽 운동화에 대한 손해배상 요구'에 대한 사례입니다.\n",
      "\n",
      "살피건대, 피신청인은 세탁 전부터 이 사건 제품의 상태가 좋지 않았다고 \n"
     ]
    }
   ],
   "source": [
    "# metadata를 이용한 필터링\n",
    "\n",
    "retriever = vectorstore.as_retriever(\n",
    "    search_kwargs={\n",
    "        'k': 5,\n",
    "        'filter': {'case_id':'01'}\n",
    "        }\n",
    ")\n",
    "\n",
    "\n",
    "query = \"세탁 후 오염에 대한 손해배상은 어떻게 이루어지나요?\"\n",
    "retrieved_docs = retriever.invoke(query)\n",
    "\n",
    "for doc in retrieved_docs:\n",
    "    print(str(doc.metadata[\"case_id\"]), str(doc.metadata[\"page\"]), doc.page_content[:100])"
   ]
  },
  {
   "cell_type": "code",
   "execution_count": 88,
   "id": "ff6d1f7c",
   "metadata": {},
   "outputs": [
    {
     "name": "stdout",
     "output_type": "stream",
     "text": [
      "01 11 ### 이 사건은 '세탁 후 갑피 마모 및 경화된 가죽 운동화에 대한 손해배상 요구'에 대한 사례입니다.\n",
      "\n",
      "므로, 세탁과실에 따른 손해배상 및 세탁비 환급을 요구한다.\n",
      "이에 대하여\n",
      "01 11 ### 이 사건은 '세탁 후 갑피 마모 및 경화된 가죽 운동화에 대한 손해배상 요구'에 대한 사례입니다.\n",
      "\n",
      "세탁물에 대하여 세탁업자는 고객에게 세탁요금을 청구하지 못하므로, 세탁업\n",
      "01 11 ### 이 사건은 '세탁 후 갑피 마모 및 경화된 가죽 운동화에 대한 손해배상 요구'에 대한 사례입니다.\n",
      "\n",
      "하여 그 손해가 발생 및 확대되었을 가능성을 배제할 수 없는 점 등에 비\n",
      "01 10 ### 이 사건은 '세탁 후 갑피 마모 및 경화된 가죽 운동화에 대한 손해배상 요구'에 대한 사례입니다.\n",
      "\n",
      "으나, 이후에도 경화현상만 다소 개선될 뿐 갑피 마모 현상이 개선되지 않\n",
      "01 11 ### 이 사건은 '세탁 후 갑피 마모 및 경화된 가죽 운동화에 대한 손해배상 요구'에 대한 사례입니다.\n",
      "\n",
      "살피건대, 피신청인은 세탁 전부터 이 사건 제품의 상태가 좋지 않았다고 \n"
     ]
    }
   ],
   "source": [
    "# page_content를 이용한 필터링\n",
    "\n",
    "retriever = vectorstore.as_retriever(\n",
    "    search_kwargs={\n",
    "        'k': 5,\n",
    "        'where_document': {'$contains': '세탁'}\n",
    "        }\n",
    ")\n",
    "\n",
    "query = \"세탁 후 오염에 대한 손해배상은 어떻게 이루어지나요?\"\n",
    "retrieved_docs = retriever.invoke(query)\n",
    "\n",
    "for doc in retrieved_docs:\n",
    "    print(str(doc.metadata[\"case_id\"]), str(doc.metadata[\"page\"]), doc.page_content[:100])"
   ]
  },
  {
   "cell_type": "markdown",
   "id": "0f03b6e1",
   "metadata": {},
   "source": [
    "## Generation"
   ]
  },
  {
   "cell_type": "code",
   "execution_count": 89,
   "id": "f5360311",
   "metadata": {},
   "outputs": [
    {
     "data": {
      "text/plain": [
       "ChatPromptTemplate(input_variables=['context', 'question'], messages=[HumanMessagePromptTemplate(prompt=PromptTemplate(input_variables=['context', 'question'], template='Answer the question based only on the following context:\\n{context}\\n\\nQuestion: {question}\\n'))])"
      ]
     },
     "execution_count": 89,
     "metadata": {},
     "output_type": "execute_result"
    }
   ],
   "source": [
    "from langchain_community.chat_models import ChatOllama\n",
    "from langchain.prompts import ChatPromptTemplate\n",
    "\n",
    "# Prompt\n",
    "template = \"\"\"Answer the question based only on the following context:\n",
    "{context}\n",
    "\n",
    "Question: {question}\n",
    "\"\"\"\n",
    "\n",
    "prompt = ChatPromptTemplate.from_template(template)\n",
    "prompt"
   ]
  },
  {
   "cell_type": "code",
   "execution_count": 90,
   "id": "32cefc20",
   "metadata": {},
   "outputs": [
    {
     "data": {
      "text/plain": [
       "'세탁 불량에 대한 손해배상은 다음과 같이 이루어집니다:\\n\\n1. 신청인은 세탁 후의 갑피 마모 및 경화된 가죽 운동화에 대해 손해배상을 요구합니다.\\n2. 피신청인은 제품 상태가 좋지 않았고, 한국소비자원의 신발제품심의위원회에서도 세탁과실을 인정하지 않았다고 주장하며, 이로 인해 신청인의 요구를 수용할 수 없다고 주장합니다.\\n3. 그러나 피신청인은 피해구제 담당자가 제시한 배상산정액 112,140원의 50%인 50,670원을 환급하기로 결정했습니다.\\n\\n이를 바탕으로 손해배상의 책임을 분석하면, 피신청인의 책임을 60%로 제한하는 것이 적절하다고 판단됩니다. 이는 공평하고 타당한 분담에 기반한 손해배상 제도와 원만한 해결을 위한 조정의 취지를 고려한 결정입니다.\\n\\n따라서, 세탁 불량에 대한 손해배상은 신청인과 피신청인 사이에서 책임 비율에 따라 이루어지며, 환급금액은 배상산정액의 50%로 결정되었습니다.'"
      ]
     },
     "execution_count": 90,
     "metadata": {},
     "output_type": "execute_result"
    }
   ],
   "source": [
    "# RAG Chain\n",
    "llm = ChatOllama(model=\"qwen2\", temperature=0)\n",
    "\n",
    "from langchain_core.output_parsers import StrOutputParser\n",
    "from langchain_core.runnables import RunnablePassthrough\n",
    "\n",
    "def format_docs(docs):\n",
    "    return \"\\n\\n\".join([d.page_content for d in docs])\n",
    "\n",
    "item = \"세탁\"\n",
    "query = f\"{item} 불량에 대한 손해배상은 어떻게 이루어지나요?\"\n",
    "\n",
    "retriever = vectorstore.as_retriever(\n",
    "    search_kwargs={\n",
    "        'k': 2,\n",
    "        'where_document': {'$contains': item}\n",
    "        }\n",
    ")\n",
    "\n",
    "rag_chain = (\n",
    "    {\"context\": retriever | format_docs, \"question\": RunnablePassthrough()}\n",
    "    | prompt\n",
    "    | llm\n",
    "    | StrOutputParser()\n",
    ")\n",
    "\n",
    "\n",
    "response = rag_chain.invoke(query)\n",
    "response"
   ]
  },
  {
   "cell_type": "code",
   "execution_count": 91,
   "id": "7bdb3db3",
   "metadata": {},
   "outputs": [
    {
     "name": "stdout",
     "output_type": "stream",
     "text": [
      "세탁 불량에 대한 손해배상은 다음과 같이 이루어집니다:\n",
      "\n",
      "1. 신청인은 세탁 후의 갑피 마모 및 경화된 가죽 운동화에 대해 손해배상을 요구합니다.\n",
      "2. 피신청인은 제품 상태가 좋지 않았고, 한국소비자원의 신발제품심의위원회에서도 세탁과실을 인정하지 않았다고 주장하며, 이로 인해 신청인의 요구를 수용할 수 없다고 주장합니다.\n",
      "3. 그러나 피신청인은 피해구제 담당자가 제시한 배상산정액 112,140원의 50%인 50,670원을 환급하기로 결정했습니다.\n",
      "\n",
      "이를 바탕으로 손해배상의 책임을 분석하면, 피신청인의 책임을 60%로 제한하는 것이 적절하다고 판단됩니다. 이는 공평하고 타당한 분담에 기반한 손해배상 제도와 원만한 해결을 위한 조정의 취지를 고려한 결정입니다.\n",
      "\n",
      "따라서, 세탁 불량에 대한 손해배상은 신청인과 피신청인 사이에서 책임 비율에 따라 이루어지며, 환급금액은 배상산정액의 50%로 결정되었습니다.\n"
     ]
    }
   ],
   "source": [
    "print(response)"
   ]
  },
  {
   "cell_type": "code",
   "execution_count": null,
   "id": "4b7bcc20",
   "metadata": {},
   "outputs": [],
   "source": []
  }
 ],
 "metadata": {
  "kernelspec": {
   "display_name": "Python 3 (ipykernel)",
   "language": "python",
   "name": "python3"
  },
  "language_info": {
   "codemirror_mode": {
    "name": "ipython",
    "version": 3
   },
   "file_extension": ".py",
   "mimetype": "text/x-python",
   "name": "python",
   "nbconvert_exporter": "python",
   "pygments_lexer": "ipython3",
   "version": "3.11.9"
  }
 },
 "nbformat": 4,
 "nbformat_minor": 5
}
